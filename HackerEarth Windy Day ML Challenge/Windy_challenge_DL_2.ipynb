{
  "nbformat": 4,
  "nbformat_minor": 0,
  "metadata": {
    "colab": {
      "name": "Windy_challenge_DL.ipynb",
      "provenance": []
    },
    "kernelspec": {
      "name": "python3",
      "display_name": "Python 3"
    },
    "language_info": {
      "name": "python"
    }
  },
  "cells": [
    {
      "cell_type": "code",
      "metadata": {
        "colab": {
          "base_uri": "https://localhost:8080/"
        },
        "id": "1i1zHHFvu16m",
        "outputId": "c2c31fbb-20c0-4087-b26e-bc949e799b61"
      },
      "source": [
        "from google.colab import drive\n",
        "drive.mount('/content/gdrive')"
      ],
      "execution_count": 272,
      "outputs": [
        {
          "output_type": "stream",
          "text": [
            "Drive already mounted at /content/gdrive; to attempt to forcibly remount, call drive.mount(\"/content/gdrive\", force_remount=True).\n"
          ],
          "name": "stdout"
        }
      ]
    },
    {
      "cell_type": "code",
      "metadata": {
        "id": "QozkJPrwvpPU"
      },
      "source": [
        "# Load libraries\n",
        "import pandas as pd\n",
        "from google.colab import files\n",
        "from sklearn import preprocessing\n",
        "from sklearn.compose import make_column_transformer\n",
        "from sklearn.preprocessing import StandardScaler, OneHotEncoder, LabelEncoder\n",
        "import matplotlib.pyplot as plt\n",
        "import seaborn as sns\n",
        "from sklearn.metrics import mean_absolute_error\n",
        "from sklearn.ensemble import RandomForestRegressor\n",
        "from sklearn.model_selection import train_test_split\n",
        "from sklearn import metrics \n",
        "from tensorflow import keras\n",
        "from tensorflow.keras import layers\n",
        "from tensorflow.keras import callbacks\n",
        "from tensorflow.keras.callbacks import ReduceLROnPlateau\n",
        "from tensorflow.keras.optimizers import Adam\n",
        "import tensorflow\n",
        "tensorflow.random.set_seed(0)\n",
        "from numpy.random import seed\n",
        "seed(1)"
      ],
      "execution_count": 273,
      "outputs": []
    },
    {
      "cell_type": "code",
      "metadata": {
        "colab": {
          "base_uri": "https://localhost:8080/"
        },
        "id": "qHZqfdoDvfhg",
        "outputId": "90fafc4c-0a5d-4b9e-a73d-fcbad42fd0e0"
      },
      "source": [
        "# Load training data\n",
        "train_data = pd.read_csv('gdrive/MyDrive/train_windy.csv')\n",
        "len(train_data)"
      ],
      "execution_count": 274,
      "outputs": [
        {
          "output_type": "execute_result",
          "data": {
            "text/plain": [
              "28200"
            ]
          },
          "metadata": {
            "tags": []
          },
          "execution_count": 274
        }
      ]
    },
    {
      "cell_type": "code",
      "metadata": {
        "colab": {
          "base_uri": "https://localhost:8080/",
          "height": 411
        },
        "id": "9rW1I4R-xQTS",
        "outputId": "35dcd553-6333-4094-f6ca-8d49a3058662"
      },
      "source": [
        "train_data.head()"
      ],
      "execution_count": 275,
      "outputs": [
        {
          "output_type": "execute_result",
          "data": {
            "text/html": [
              "<div>\n",
              "<style scoped>\n",
              "    .dataframe tbody tr th:only-of-type {\n",
              "        vertical-align: middle;\n",
              "    }\n",
              "\n",
              "    .dataframe tbody tr th {\n",
              "        vertical-align: top;\n",
              "    }\n",
              "\n",
              "    .dataframe thead th {\n",
              "        text-align: right;\n",
              "    }\n",
              "</style>\n",
              "<table border=\"1\" class=\"dataframe\">\n",
              "  <thead>\n",
              "    <tr style=\"text-align: right;\">\n",
              "      <th></th>\n",
              "      <th>tracking_id</th>\n",
              "      <th>datetime</th>\n",
              "      <th>wind_speed(m/s)</th>\n",
              "      <th>atmospheric_temperature(°C)</th>\n",
              "      <th>shaft_temperature(°C)</th>\n",
              "      <th>blades_angle(°)</th>\n",
              "      <th>gearbox_temperature(°C)</th>\n",
              "      <th>engine_temperature(°C)</th>\n",
              "      <th>motor_torque(N-m)</th>\n",
              "      <th>generator_temperature(°C)</th>\n",
              "      <th>atmospheric_pressure(Pascal)</th>\n",
              "      <th>area_temperature(°C)</th>\n",
              "      <th>windmill_body_temperature(°C)</th>\n",
              "      <th>wind_direction(°)</th>\n",
              "      <th>resistance(ohm)</th>\n",
              "      <th>rotor_torque(N-m)</th>\n",
              "      <th>turbine_status</th>\n",
              "      <th>cloud_level</th>\n",
              "      <th>blade_length(m)</th>\n",
              "      <th>blade_breadth(m)</th>\n",
              "      <th>windmill_height(m)</th>\n",
              "      <th>windmill_generated_power(kW/h)</th>\n",
              "    </tr>\n",
              "  </thead>\n",
              "  <tbody>\n",
              "    <tr>\n",
              "      <th>0</th>\n",
              "      <td>WM_33725</td>\n",
              "      <td>2019-08-04 14:33:20</td>\n",
              "      <td>94.820023</td>\n",
              "      <td>-99.000000</td>\n",
              "      <td>41.723019</td>\n",
              "      <td>-0.903423</td>\n",
              "      <td>82.410573</td>\n",
              "      <td>42.523015</td>\n",
              "      <td>2563.124522</td>\n",
              "      <td>76.665560</td>\n",
              "      <td>103402.961872</td>\n",
              "      <td>26.897875</td>\n",
              "      <td>NaN</td>\n",
              "      <td>239.836388</td>\n",
              "      <td>2730.310605</td>\n",
              "      <td>42.084666</td>\n",
              "      <td>BA</td>\n",
              "      <td>Medium</td>\n",
              "      <td>2.217542</td>\n",
              "      <td>0.314065</td>\n",
              "      <td>24.281689</td>\n",
              "      <td>6.766521</td>\n",
              "    </tr>\n",
              "    <tr>\n",
              "      <th>1</th>\n",
              "      <td>WM_698</td>\n",
              "      <td>2018-11-05 10:13:20</td>\n",
              "      <td>241.832734</td>\n",
              "      <td>27.764785</td>\n",
              "      <td>-99.000000</td>\n",
              "      <td>-99.000000</td>\n",
              "      <td>44.104919</td>\n",
              "      <td>46.258870</td>\n",
              "      <td>2372.384119</td>\n",
              "      <td>78.129803</td>\n",
              "      <td>17030.904078</td>\n",
              "      <td>39.801469</td>\n",
              "      <td>NaN</td>\n",
              "      <td>337.944723</td>\n",
              "      <td>1780.207200</td>\n",
              "      <td>107.888643</td>\n",
              "      <td>A2</td>\n",
              "      <td>Medium</td>\n",
              "      <td>4.210346</td>\n",
              "      <td>0.448494</td>\n",
              "      <td>27.262139</td>\n",
              "      <td>5.966275</td>\n",
              "    </tr>\n",
              "    <tr>\n",
              "      <th>2</th>\n",
              "      <td>WM_39146</td>\n",
              "      <td>2019-09-14 14:03:20</td>\n",
              "      <td>95.484724</td>\n",
              "      <td>NaN</td>\n",
              "      <td>41.855473</td>\n",
              "      <td>12.652763</td>\n",
              "      <td>42.322098</td>\n",
              "      <td>42.878552</td>\n",
              "      <td>1657.169646</td>\n",
              "      <td>67.654469</td>\n",
              "      <td>16125.927107</td>\n",
              "      <td>36.116065</td>\n",
              "      <td>45.033197</td>\n",
              "      <td>227.850294</td>\n",
              "      <td>1666.049900</td>\n",
              "      <td>-42.931459</td>\n",
              "      <td>ABC</td>\n",
              "      <td>Medium</td>\n",
              "      <td>2.719475</td>\n",
              "      <td>0.302321</td>\n",
              "      <td>27.366127</td>\n",
              "      <td>2.874342</td>\n",
              "    </tr>\n",
              "    <tr>\n",
              "      <th>3</th>\n",
              "      <td>WM_6757</td>\n",
              "      <td>2018-12-25 15:33:20</td>\n",
              "      <td>238.819424</td>\n",
              "      <td>-99.000000</td>\n",
              "      <td>45.443914</td>\n",
              "      <td>15.115323</td>\n",
              "      <td>44.759643</td>\n",
              "      <td>47.282101</td>\n",
              "      <td>2888.134079</td>\n",
              "      <td>95.389974</td>\n",
              "      <td>18689.732336</td>\n",
              "      <td>46.020045</td>\n",
              "      <td>44.827154</td>\n",
              "      <td>492.081520</td>\n",
              "      <td>1964.502895</td>\n",
              "      <td>42.744596</td>\n",
              "      <td>ABC</td>\n",
              "      <td>NaN</td>\n",
              "      <td>4.857385</td>\n",
              "      <td>0.367140</td>\n",
              "      <td>24.287767</td>\n",
              "      <td>14.851089</td>\n",
              "    </tr>\n",
              "    <tr>\n",
              "      <th>4</th>\n",
              "      <td>WM_21521</td>\n",
              "      <td>2019-05-04 03:13:20</td>\n",
              "      <td>10.722890</td>\n",
              "      <td>NaN</td>\n",
              "      <td>41.981183</td>\n",
              "      <td>1.715696</td>\n",
              "      <td>-17.616459</td>\n",
              "      <td>43.469852</td>\n",
              "      <td>781.695419</td>\n",
              "      <td>37.423065</td>\n",
              "      <td>114468.169007</td>\n",
              "      <td>34.572941</td>\n",
              "      <td>-99.000000</td>\n",
              "      <td>259.274601</td>\n",
              "      <td>1177.516152</td>\n",
              "      <td>13.387289</td>\n",
              "      <td>AAA</td>\n",
              "      <td>Medium</td>\n",
              "      <td>NaN</td>\n",
              "      <td>0.453374</td>\n",
              "      <td>27.971650</td>\n",
              "      <td>3.519074</td>\n",
              "    </tr>\n",
              "  </tbody>\n",
              "</table>\n",
              "</div>"
            ],
            "text/plain": [
              "  tracking_id  ... windmill_generated_power(kW/h)\n",
              "0    WM_33725  ...                       6.766521\n",
              "1      WM_698  ...                       5.966275\n",
              "2    WM_39146  ...                       2.874342\n",
              "3     WM_6757  ...                      14.851089\n",
              "4    WM_21521  ...                       3.519074\n",
              "\n",
              "[5 rows x 22 columns]"
            ]
          },
          "metadata": {
            "tags": []
          },
          "execution_count": 275
        }
      ]
    },
    {
      "cell_type": "code",
      "metadata": {
        "colab": {
          "base_uri": "https://localhost:8080/"
        },
        "id": "_P9Ws2yZxUhS",
        "outputId": "710ccdc8-f13a-4840-f6e4-5b9996e978b3"
      },
      "source": [
        "# Load testing data\n",
        "test_data = pd.read_csv('gdrive/MyDrive/test_windy.csv')\n",
        "len(test_data)"
      ],
      "execution_count": 276,
      "outputs": [
        {
          "output_type": "execute_result",
          "data": {
            "text/plain": [
              "12086"
            ]
          },
          "metadata": {
            "tags": []
          },
          "execution_count": 276
        }
      ]
    },
    {
      "cell_type": "code",
      "metadata": {
        "colab": {
          "base_uri": "https://localhost:8080/",
          "height": 411
        },
        "id": "sJWEMzn-xZEv",
        "outputId": "20b995c4-c209-4472-cb43-1ceafc85461b"
      },
      "source": [
        "test_data.head()"
      ],
      "execution_count": 277,
      "outputs": [
        {
          "output_type": "execute_result",
          "data": {
            "text/html": [
              "<div>\n",
              "<style scoped>\n",
              "    .dataframe tbody tr th:only-of-type {\n",
              "        vertical-align: middle;\n",
              "    }\n",
              "\n",
              "    .dataframe tbody tr th {\n",
              "        vertical-align: top;\n",
              "    }\n",
              "\n",
              "    .dataframe thead th {\n",
              "        text-align: right;\n",
              "    }\n",
              "</style>\n",
              "<table border=\"1\" class=\"dataframe\">\n",
              "  <thead>\n",
              "    <tr style=\"text-align: right;\">\n",
              "      <th></th>\n",
              "      <th>tracking_id</th>\n",
              "      <th>datetime</th>\n",
              "      <th>wind_speed(m/s)</th>\n",
              "      <th>atmospheric_temperature(°C)</th>\n",
              "      <th>shaft_temperature(°C)</th>\n",
              "      <th>blades_angle(°)</th>\n",
              "      <th>gearbox_temperature(°C)</th>\n",
              "      <th>engine_temperature(°C)</th>\n",
              "      <th>motor_torque(N-m)</th>\n",
              "      <th>generator_temperature(°C)</th>\n",
              "      <th>atmospheric_pressure(Pascal)</th>\n",
              "      <th>area_temperature(°C)</th>\n",
              "      <th>windmill_body_temperature(°C)</th>\n",
              "      <th>wind_direction(°)</th>\n",
              "      <th>resistance(ohm)</th>\n",
              "      <th>rotor_torque(N-m)</th>\n",
              "      <th>turbine_status</th>\n",
              "      <th>cloud_level</th>\n",
              "      <th>blade_length(m)</th>\n",
              "      <th>blade_breadth(m)</th>\n",
              "      <th>windmill_height(m)</th>\n",
              "    </tr>\n",
              "  </thead>\n",
              "  <tbody>\n",
              "    <tr>\n",
              "      <th>0</th>\n",
              "      <td>WM_19817</td>\n",
              "      <td>2019-04-17 08:53:20</td>\n",
              "      <td>94.324266</td>\n",
              "      <td>17.641186</td>\n",
              "      <td>89.714193</td>\n",
              "      <td>51.146788</td>\n",
              "      <td>40.460560</td>\n",
              "      <td>39.594734</td>\n",
              "      <td>1073.202715</td>\n",
              "      <td>66.830037</td>\n",
              "      <td>16681.044117</td>\n",
              "      <td>24.004812</td>\n",
              "      <td>43.756693</td>\n",
              "      <td>445.976992</td>\n",
              "      <td>1664.222023</td>\n",
              "      <td>21.912243</td>\n",
              "      <td>BA</td>\n",
              "      <td>Medium</td>\n",
              "      <td>3.185837</td>\n",
              "      <td>0.403965</td>\n",
              "      <td>25.572431</td>\n",
              "    </tr>\n",
              "    <tr>\n",
              "      <th>1</th>\n",
              "      <td>WM_18723</td>\n",
              "      <td>2019-03-30 07:43:20</td>\n",
              "      <td>10.088870</td>\n",
              "      <td>13.978119</td>\n",
              "      <td>43.272846</td>\n",
              "      <td>46.516394</td>\n",
              "      <td>40.027788</td>\n",
              "      <td>41.176860</td>\n",
              "      <td>517.436430</td>\n",
              "      <td>37.284163</td>\n",
              "      <td>NaN</td>\n",
              "      <td>29.431813</td>\n",
              "      <td>42.728174</td>\n",
              "      <td>499.595287</td>\n",
              "      <td>1165.111992</td>\n",
              "      <td>-35.050093</td>\n",
              "      <td>A</td>\n",
              "      <td>Medium</td>\n",
              "      <td>3.016603</td>\n",
              "      <td>0.444755</td>\n",
              "      <td>24.371823</td>\n",
              "    </tr>\n",
              "    <tr>\n",
              "      <th>2</th>\n",
              "      <td>WM_34552</td>\n",
              "      <td>2019-08-10 11:33:20</td>\n",
              "      <td>347.152090</td>\n",
              "      <td>31.423035</td>\n",
              "      <td>41.076640</td>\n",
              "      <td>26.931602</td>\n",
              "      <td>43.109122</td>\n",
              "      <td>43.439556</td>\n",
              "      <td>1480.716492</td>\n",
              "      <td>70.010762</td>\n",
              "      <td>214812.836175</td>\n",
              "      <td>29.924235</td>\n",
              "      <td>43.256122</td>\n",
              "      <td>245.432231</td>\n",
              "      <td>1667.720491</td>\n",
              "      <td>27.195302</td>\n",
              "      <td>B2</td>\n",
              "      <td>Medium</td>\n",
              "      <td>2.611941</td>\n",
              "      <td>0.387368</td>\n",
              "      <td>27.654677</td>\n",
              "    </tr>\n",
              "    <tr>\n",
              "      <th>3</th>\n",
              "      <td>WM_28570</td>\n",
              "      <td>2019-06-26 03:53:20</td>\n",
              "      <td>24.471997</td>\n",
              "      <td>-99.000000</td>\n",
              "      <td>14.375078</td>\n",
              "      <td>66.513953</td>\n",
              "      <td>13.741253</td>\n",
              "      <td>15.577472</td>\n",
              "      <td>887.979475</td>\n",
              "      <td>41.445258</td>\n",
              "      <td>NaN</td>\n",
              "      <td>23.886434</td>\n",
              "      <td>13.501595</td>\n",
              "      <td>NaN</td>\n",
              "      <td>1329.744740</td>\n",
              "      <td>15.245757</td>\n",
              "      <td>BBB</td>\n",
              "      <td>Low</td>\n",
              "      <td>2.866805</td>\n",
              "      <td>0.450478</td>\n",
              "      <td>24.189426</td>\n",
              "    </tr>\n",
              "    <tr>\n",
              "      <th>4</th>\n",
              "      <td>WM_36934</td>\n",
              "      <td>2019-08-27 16:43:20</td>\n",
              "      <td>96.997026</td>\n",
              "      <td>33.281836</td>\n",
              "      <td>41.405192</td>\n",
              "      <td>1.843112</td>\n",
              "      <td>121.572907</td>\n",
              "      <td>43.934587</td>\n",
              "      <td>2053.916354</td>\n",
              "      <td>68.007787</td>\n",
              "      <td>16833.546517</td>\n",
              "      <td>35.906889</td>\n",
              "      <td>-99.000000</td>\n",
              "      <td>442.425744</td>\n",
              "      <td>691.408996</td>\n",
              "      <td>34.257024</td>\n",
              "      <td>A</td>\n",
              "      <td>Low</td>\n",
              "      <td>3.549672</td>\n",
              "      <td>0.368355</td>\n",
              "      <td>4.885440</td>\n",
              "    </tr>\n",
              "  </tbody>\n",
              "</table>\n",
              "</div>"
            ],
            "text/plain": [
              "  tracking_id             datetime  ...  blade_breadth(m)  windmill_height(m)\n",
              "0    WM_19817  2019-04-17 08:53:20  ...          0.403965           25.572431\n",
              "1    WM_18723  2019-03-30 07:43:20  ...          0.444755           24.371823\n",
              "2    WM_34552  2019-08-10 11:33:20  ...          0.387368           27.654677\n",
              "3    WM_28570  2019-06-26 03:53:20  ...          0.450478           24.189426\n",
              "4    WM_36934  2019-08-27 16:43:20  ...          0.368355            4.885440\n",
              "\n",
              "[5 rows x 21 columns]"
            ]
          },
          "metadata": {
            "tags": []
          },
          "execution_count": 277
        }
      ]
    },
    {
      "cell_type": "code",
      "metadata": {
        "colab": {
          "base_uri": "https://localhost:8080/"
        },
        "id": "ISwph6v4xex5",
        "outputId": "4f3986f8-2fa0-4b34-8985-12e5097e7bc9"
      },
      "source": [
        "# Get the number of missing data points per column\n",
        "missing_values_count_train = train_data.isnull().sum()\n",
        "print(missing_values_count_train)"
      ],
      "execution_count": 278,
      "outputs": [
        {
          "output_type": "stream",
          "text": [
            "tracking_id                          0\n",
            "datetime                             0\n",
            "wind_speed(m/s)                    273\n",
            "atmospheric_temperature(°C)       3450\n",
            "shaft_temperature(°C)                2\n",
            "blades_angle(°)                    216\n",
            "gearbox_temperature(°C)              1\n",
            "engine_temperature(°C)              12\n",
            "motor_torque(N-m)                   24\n",
            "generator_temperature(°C)           12\n",
            "atmospheric_pressure(Pascal)      2707\n",
            "area_temperature(°C)                 0\n",
            "windmill_body_temperature(°C)     2363\n",
            "wind_direction(°)                 5103\n",
            "resistance(ohm)                      1\n",
            "rotor_torque(N-m)                  572\n",
            "turbine_status                    1759\n",
            "cloud_level                        276\n",
            "blade_length(m)                   5093\n",
            "blade_breadth(m)                     0\n",
            "windmill_height(m)                 543\n",
            "windmill_generated_power(kW/h)     207\n",
            "dtype: int64\n"
          ],
          "name": "stdout"
        }
      ]
    },
    {
      "cell_type": "code",
      "metadata": {
        "colab": {
          "base_uri": "https://localhost:8080/"
        },
        "id": "sCUmAo7cxjcG",
        "outputId": "09636c9f-ad75-4d8a-d4f5-62908b03df46"
      },
      "source": [
        "# Get the number of missing data points per column\n",
        "missing_values_count_test = test_data.isnull().sum()\n",
        "print(missing_values_count_test)"
      ],
      "execution_count": 279,
      "outputs": [
        {
          "output_type": "stream",
          "text": [
            "tracking_id                         0\n",
            "datetime                            0\n",
            "wind_speed(m/s)                   126\n",
            "atmospheric_temperature(°C)      1427\n",
            "shaft_temperature(°C)               1\n",
            "blades_angle(°)                   106\n",
            "gearbox_temperature(°C)             1\n",
            "engine_temperature(°C)              5\n",
            "motor_torque(N-m)                  11\n",
            "generator_temperature(°C)           5\n",
            "atmospheric_pressure(Pascal)     1151\n",
            "area_temperature(°C)                1\n",
            "windmill_body_temperature(°C)     926\n",
            "wind_direction(°)                2160\n",
            "resistance(ohm)                     0\n",
            "rotor_torque(N-m)                 281\n",
            "turbine_status                    797\n",
            "cloud_level                       125\n",
            "blade_length(m)                  2114\n",
            "blade_breadth(m)                    0\n",
            "windmill_height(m)                255\n",
            "dtype: int64\n"
          ],
          "name": "stdout"
        }
      ]
    },
    {
      "cell_type": "code",
      "metadata": {
        "colab": {
          "base_uri": "https://localhost:8080/",
          "height": 411
        },
        "id": "oGbJxk1xxlAv",
        "outputId": "4bd67e34-94a6-43b5-f9a6-1eaca25de090"
      },
      "source": [
        "# Imputing all rows with missing data\n",
        "#train_modified = train_data.dropna()\n",
        "train_imputed = train_data.fillna(method='bfill', axis=0).fillna(0)\n",
        "train_imputed.head()"
      ],
      "execution_count": 280,
      "outputs": [
        {
          "output_type": "execute_result",
          "data": {
            "text/html": [
              "<div>\n",
              "<style scoped>\n",
              "    .dataframe tbody tr th:only-of-type {\n",
              "        vertical-align: middle;\n",
              "    }\n",
              "\n",
              "    .dataframe tbody tr th {\n",
              "        vertical-align: top;\n",
              "    }\n",
              "\n",
              "    .dataframe thead th {\n",
              "        text-align: right;\n",
              "    }\n",
              "</style>\n",
              "<table border=\"1\" class=\"dataframe\">\n",
              "  <thead>\n",
              "    <tr style=\"text-align: right;\">\n",
              "      <th></th>\n",
              "      <th>tracking_id</th>\n",
              "      <th>datetime</th>\n",
              "      <th>wind_speed(m/s)</th>\n",
              "      <th>atmospheric_temperature(°C)</th>\n",
              "      <th>shaft_temperature(°C)</th>\n",
              "      <th>blades_angle(°)</th>\n",
              "      <th>gearbox_temperature(°C)</th>\n",
              "      <th>engine_temperature(°C)</th>\n",
              "      <th>motor_torque(N-m)</th>\n",
              "      <th>generator_temperature(°C)</th>\n",
              "      <th>atmospheric_pressure(Pascal)</th>\n",
              "      <th>area_temperature(°C)</th>\n",
              "      <th>windmill_body_temperature(°C)</th>\n",
              "      <th>wind_direction(°)</th>\n",
              "      <th>resistance(ohm)</th>\n",
              "      <th>rotor_torque(N-m)</th>\n",
              "      <th>turbine_status</th>\n",
              "      <th>cloud_level</th>\n",
              "      <th>blade_length(m)</th>\n",
              "      <th>blade_breadth(m)</th>\n",
              "      <th>windmill_height(m)</th>\n",
              "      <th>windmill_generated_power(kW/h)</th>\n",
              "    </tr>\n",
              "  </thead>\n",
              "  <tbody>\n",
              "    <tr>\n",
              "      <th>0</th>\n",
              "      <td>WM_33725</td>\n",
              "      <td>2019-08-04 14:33:20</td>\n",
              "      <td>94.820023</td>\n",
              "      <td>-99.000000</td>\n",
              "      <td>41.723019</td>\n",
              "      <td>-0.903423</td>\n",
              "      <td>82.410573</td>\n",
              "      <td>42.523015</td>\n",
              "      <td>2563.124522</td>\n",
              "      <td>76.665560</td>\n",
              "      <td>103402.961872</td>\n",
              "      <td>26.897875</td>\n",
              "      <td>45.033197</td>\n",
              "      <td>239.836388</td>\n",
              "      <td>2730.310605</td>\n",
              "      <td>42.084666</td>\n",
              "      <td>BA</td>\n",
              "      <td>Medium</td>\n",
              "      <td>2.217542</td>\n",
              "      <td>0.314065</td>\n",
              "      <td>24.281689</td>\n",
              "      <td>6.766521</td>\n",
              "    </tr>\n",
              "    <tr>\n",
              "      <th>1</th>\n",
              "      <td>WM_698</td>\n",
              "      <td>2018-11-05 10:13:20</td>\n",
              "      <td>241.832734</td>\n",
              "      <td>27.764785</td>\n",
              "      <td>-99.000000</td>\n",
              "      <td>-99.000000</td>\n",
              "      <td>44.104919</td>\n",
              "      <td>46.258870</td>\n",
              "      <td>2372.384119</td>\n",
              "      <td>78.129803</td>\n",
              "      <td>17030.904078</td>\n",
              "      <td>39.801469</td>\n",
              "      <td>45.033197</td>\n",
              "      <td>337.944723</td>\n",
              "      <td>1780.207200</td>\n",
              "      <td>107.888643</td>\n",
              "      <td>A2</td>\n",
              "      <td>Medium</td>\n",
              "      <td>4.210346</td>\n",
              "      <td>0.448494</td>\n",
              "      <td>27.262139</td>\n",
              "      <td>5.966275</td>\n",
              "    </tr>\n",
              "    <tr>\n",
              "      <th>2</th>\n",
              "      <td>WM_39146</td>\n",
              "      <td>2019-09-14 14:03:20</td>\n",
              "      <td>95.484724</td>\n",
              "      <td>-99.000000</td>\n",
              "      <td>41.855473</td>\n",
              "      <td>12.652763</td>\n",
              "      <td>42.322098</td>\n",
              "      <td>42.878552</td>\n",
              "      <td>1657.169646</td>\n",
              "      <td>67.654469</td>\n",
              "      <td>16125.927107</td>\n",
              "      <td>36.116065</td>\n",
              "      <td>45.033197</td>\n",
              "      <td>227.850294</td>\n",
              "      <td>1666.049900</td>\n",
              "      <td>-42.931459</td>\n",
              "      <td>ABC</td>\n",
              "      <td>Medium</td>\n",
              "      <td>2.719475</td>\n",
              "      <td>0.302321</td>\n",
              "      <td>27.366127</td>\n",
              "      <td>2.874342</td>\n",
              "    </tr>\n",
              "    <tr>\n",
              "      <th>3</th>\n",
              "      <td>WM_6757</td>\n",
              "      <td>2018-12-25 15:33:20</td>\n",
              "      <td>238.819424</td>\n",
              "      <td>-99.000000</td>\n",
              "      <td>45.443914</td>\n",
              "      <td>15.115323</td>\n",
              "      <td>44.759643</td>\n",
              "      <td>47.282101</td>\n",
              "      <td>2888.134079</td>\n",
              "      <td>95.389974</td>\n",
              "      <td>18689.732336</td>\n",
              "      <td>46.020045</td>\n",
              "      <td>44.827154</td>\n",
              "      <td>492.081520</td>\n",
              "      <td>1964.502895</td>\n",
              "      <td>42.744596</td>\n",
              "      <td>ABC</td>\n",
              "      <td>Medium</td>\n",
              "      <td>4.857385</td>\n",
              "      <td>0.367140</td>\n",
              "      <td>24.287767</td>\n",
              "      <td>14.851089</td>\n",
              "    </tr>\n",
              "    <tr>\n",
              "      <th>4</th>\n",
              "      <td>WM_21521</td>\n",
              "      <td>2019-05-04 03:13:20</td>\n",
              "      <td>10.722890</td>\n",
              "      <td>30.326226</td>\n",
              "      <td>41.981183</td>\n",
              "      <td>1.715696</td>\n",
              "      <td>-17.616459</td>\n",
              "      <td>43.469852</td>\n",
              "      <td>781.695419</td>\n",
              "      <td>37.423065</td>\n",
              "      <td>114468.169007</td>\n",
              "      <td>34.572941</td>\n",
              "      <td>-99.000000</td>\n",
              "      <td>259.274601</td>\n",
              "      <td>1177.516152</td>\n",
              "      <td>13.387289</td>\n",
              "      <td>AAA</td>\n",
              "      <td>Medium</td>\n",
              "      <td>2.504098</td>\n",
              "      <td>0.453374</td>\n",
              "      <td>27.971650</td>\n",
              "      <td>3.519074</td>\n",
              "    </tr>\n",
              "  </tbody>\n",
              "</table>\n",
              "</div>"
            ],
            "text/plain": [
              "  tracking_id  ... windmill_generated_power(kW/h)\n",
              "0    WM_33725  ...                       6.766521\n",
              "1      WM_698  ...                       5.966275\n",
              "2    WM_39146  ...                       2.874342\n",
              "3     WM_6757  ...                      14.851089\n",
              "4    WM_21521  ...                       3.519074\n",
              "\n",
              "[5 rows x 22 columns]"
            ]
          },
          "metadata": {
            "tags": []
          },
          "execution_count": 280
        }
      ]
    },
    {
      "cell_type": "code",
      "metadata": {
        "colab": {
          "base_uri": "https://localhost:8080/",
          "height": 411
        },
        "id": "hgMfJUSsxpRm",
        "outputId": "f69edad3-f04f-4f85-a0d7-fe6cb43b8aa4"
      },
      "source": [
        "# Imputing all rows with missing data\n",
        "test_imputed = test_data.fillna(method='bfill', axis=0).fillna(0)\n",
        "test_imputed.head()"
      ],
      "execution_count": 281,
      "outputs": [
        {
          "output_type": "execute_result",
          "data": {
            "text/html": [
              "<div>\n",
              "<style scoped>\n",
              "    .dataframe tbody tr th:only-of-type {\n",
              "        vertical-align: middle;\n",
              "    }\n",
              "\n",
              "    .dataframe tbody tr th {\n",
              "        vertical-align: top;\n",
              "    }\n",
              "\n",
              "    .dataframe thead th {\n",
              "        text-align: right;\n",
              "    }\n",
              "</style>\n",
              "<table border=\"1\" class=\"dataframe\">\n",
              "  <thead>\n",
              "    <tr style=\"text-align: right;\">\n",
              "      <th></th>\n",
              "      <th>tracking_id</th>\n",
              "      <th>datetime</th>\n",
              "      <th>wind_speed(m/s)</th>\n",
              "      <th>atmospheric_temperature(°C)</th>\n",
              "      <th>shaft_temperature(°C)</th>\n",
              "      <th>blades_angle(°)</th>\n",
              "      <th>gearbox_temperature(°C)</th>\n",
              "      <th>engine_temperature(°C)</th>\n",
              "      <th>motor_torque(N-m)</th>\n",
              "      <th>generator_temperature(°C)</th>\n",
              "      <th>atmospheric_pressure(Pascal)</th>\n",
              "      <th>area_temperature(°C)</th>\n",
              "      <th>windmill_body_temperature(°C)</th>\n",
              "      <th>wind_direction(°)</th>\n",
              "      <th>resistance(ohm)</th>\n",
              "      <th>rotor_torque(N-m)</th>\n",
              "      <th>turbine_status</th>\n",
              "      <th>cloud_level</th>\n",
              "      <th>blade_length(m)</th>\n",
              "      <th>blade_breadth(m)</th>\n",
              "      <th>windmill_height(m)</th>\n",
              "    </tr>\n",
              "  </thead>\n",
              "  <tbody>\n",
              "    <tr>\n",
              "      <th>0</th>\n",
              "      <td>WM_19817</td>\n",
              "      <td>2019-04-17 08:53:20</td>\n",
              "      <td>94.324266</td>\n",
              "      <td>17.641186</td>\n",
              "      <td>89.714193</td>\n",
              "      <td>51.146788</td>\n",
              "      <td>40.460560</td>\n",
              "      <td>39.594734</td>\n",
              "      <td>1073.202715</td>\n",
              "      <td>66.830037</td>\n",
              "      <td>16681.044117</td>\n",
              "      <td>24.004812</td>\n",
              "      <td>43.756693</td>\n",
              "      <td>445.976992</td>\n",
              "      <td>1664.222023</td>\n",
              "      <td>21.912243</td>\n",
              "      <td>BA</td>\n",
              "      <td>Medium</td>\n",
              "      <td>3.185837</td>\n",
              "      <td>0.403965</td>\n",
              "      <td>25.572431</td>\n",
              "    </tr>\n",
              "    <tr>\n",
              "      <th>1</th>\n",
              "      <td>WM_18723</td>\n",
              "      <td>2019-03-30 07:43:20</td>\n",
              "      <td>10.088870</td>\n",
              "      <td>13.978119</td>\n",
              "      <td>43.272846</td>\n",
              "      <td>46.516394</td>\n",
              "      <td>40.027788</td>\n",
              "      <td>41.176860</td>\n",
              "      <td>517.436430</td>\n",
              "      <td>37.284163</td>\n",
              "      <td>214812.836175</td>\n",
              "      <td>29.431813</td>\n",
              "      <td>42.728174</td>\n",
              "      <td>499.595287</td>\n",
              "      <td>1165.111992</td>\n",
              "      <td>-35.050093</td>\n",
              "      <td>A</td>\n",
              "      <td>Medium</td>\n",
              "      <td>3.016603</td>\n",
              "      <td>0.444755</td>\n",
              "      <td>24.371823</td>\n",
              "    </tr>\n",
              "    <tr>\n",
              "      <th>2</th>\n",
              "      <td>WM_34552</td>\n",
              "      <td>2019-08-10 11:33:20</td>\n",
              "      <td>347.152090</td>\n",
              "      <td>31.423035</td>\n",
              "      <td>41.076640</td>\n",
              "      <td>26.931602</td>\n",
              "      <td>43.109122</td>\n",
              "      <td>43.439556</td>\n",
              "      <td>1480.716492</td>\n",
              "      <td>70.010762</td>\n",
              "      <td>214812.836175</td>\n",
              "      <td>29.924235</td>\n",
              "      <td>43.256122</td>\n",
              "      <td>245.432231</td>\n",
              "      <td>1667.720491</td>\n",
              "      <td>27.195302</td>\n",
              "      <td>B2</td>\n",
              "      <td>Medium</td>\n",
              "      <td>2.611941</td>\n",
              "      <td>0.387368</td>\n",
              "      <td>27.654677</td>\n",
              "    </tr>\n",
              "    <tr>\n",
              "      <th>3</th>\n",
              "      <td>WM_28570</td>\n",
              "      <td>2019-06-26 03:53:20</td>\n",
              "      <td>24.471997</td>\n",
              "      <td>-99.000000</td>\n",
              "      <td>14.375078</td>\n",
              "      <td>66.513953</td>\n",
              "      <td>13.741253</td>\n",
              "      <td>15.577472</td>\n",
              "      <td>887.979475</td>\n",
              "      <td>41.445258</td>\n",
              "      <td>16833.546517</td>\n",
              "      <td>23.886434</td>\n",
              "      <td>13.501595</td>\n",
              "      <td>442.425744</td>\n",
              "      <td>1329.744740</td>\n",
              "      <td>15.245757</td>\n",
              "      <td>BBB</td>\n",
              "      <td>Low</td>\n",
              "      <td>2.866805</td>\n",
              "      <td>0.450478</td>\n",
              "      <td>24.189426</td>\n",
              "    </tr>\n",
              "    <tr>\n",
              "      <th>4</th>\n",
              "      <td>WM_36934</td>\n",
              "      <td>2019-08-27 16:43:20</td>\n",
              "      <td>96.997026</td>\n",
              "      <td>33.281836</td>\n",
              "      <td>41.405192</td>\n",
              "      <td>1.843112</td>\n",
              "      <td>121.572907</td>\n",
              "      <td>43.934587</td>\n",
              "      <td>2053.916354</td>\n",
              "      <td>68.007787</td>\n",
              "      <td>16833.546517</td>\n",
              "      <td>35.906889</td>\n",
              "      <td>-99.000000</td>\n",
              "      <td>442.425744</td>\n",
              "      <td>691.408996</td>\n",
              "      <td>34.257024</td>\n",
              "      <td>A</td>\n",
              "      <td>Low</td>\n",
              "      <td>3.549672</td>\n",
              "      <td>0.368355</td>\n",
              "      <td>4.885440</td>\n",
              "    </tr>\n",
              "  </tbody>\n",
              "</table>\n",
              "</div>"
            ],
            "text/plain": [
              "  tracking_id             datetime  ...  blade_breadth(m)  windmill_height(m)\n",
              "0    WM_19817  2019-04-17 08:53:20  ...          0.403965           25.572431\n",
              "1    WM_18723  2019-03-30 07:43:20  ...          0.444755           24.371823\n",
              "2    WM_34552  2019-08-10 11:33:20  ...          0.387368           27.654677\n",
              "3    WM_28570  2019-06-26 03:53:20  ...          0.450478           24.189426\n",
              "4    WM_36934  2019-08-27 16:43:20  ...          0.368355            4.885440\n",
              "\n",
              "[5 rows x 21 columns]"
            ]
          },
          "metadata": {
            "tags": []
          },
          "execution_count": 281
        }
      ]
    },
    {
      "cell_type": "code",
      "metadata": {
        "colab": {
          "base_uri": "https://localhost:8080/"
        },
        "id": "Nyv_x-vOxqO7",
        "outputId": "3803fc77-0876-44c0-bda7-f6e8f7db7a93"
      },
      "source": [
        "# Plot statistics of Wind speed\n",
        "print(train_imputed['wind_speed(m/s)'].describe())"
      ],
      "execution_count": 282,
      "outputs": [
        {
          "output_type": "stream",
          "text": [
            "count    28200.000000\n",
            "mean        69.014553\n",
            "std         76.231504\n",
            "min       -496.211029\n",
            "25%         20.902307\n",
            "50%         93.300739\n",
            "75%         95.268399\n",
            "max        601.455670\n",
            "Name: wind_speed(m/s), dtype: float64\n"
          ],
          "name": "stdout"
        }
      ]
    },
    {
      "cell_type": "code",
      "metadata": {
        "colab": {
          "base_uri": "https://localhost:8080/"
        },
        "id": "R_7o_wWXxtBg",
        "outputId": "c7f3c561-78fc-47cd-9639-8e395d4765ea"
      },
      "source": [
        "features_num = ['wind_speed(m/s)', 'atmospheric_temperature(°C)', 'shaft_temperature(°C)', 'blades_angle(°)',\n",
        "                'gearbox_temperature(°C)', 'engine_temperature(°C)', 'motor_torque(N-m)', 'generator_temperature(°C)',\n",
        "                'atmospheric_pressure(Pascal)', 'area_temperature(°C)', 'windmill_body_temperature(°C)', 'wind_direction(°)',\n",
        "                'resistance(ohm)', 'rotor_torque(N-m)', 'blade_length(m)', 'blade_breadth(m)', 'windmill_height(m)']\n",
        "features_cat = ['cloud_level']\n",
        "features_lab = ['turbine_status']\n",
        "\n",
        "preprocessor = make_column_transformer(\n",
        "    (StandardScaler(), features_num),\n",
        "    (OneHotEncoder(), features_cat),\n",
        "    #(LabelEncoder(), features_lab),\n",
        ")\n",
        "\n",
        "y = train_imputed.pop('windmill_generated_power(kW/h)')\n",
        "#train_imputed = train_imputed.iloc[:,[1,2,3,10,12]]\n",
        "X = preprocessor.fit_transform(train_imputed)\n",
        "\n",
        "#test_imputed = test_imputed.iloc[:,[1,2,3,10,12]]\n",
        "test_X = preprocessor.fit_transform(test_imputed)\n",
        "\n",
        "train_imputed.columns"
      ],
      "execution_count": 283,
      "outputs": [
        {
          "output_type": "execute_result",
          "data": {
            "text/plain": [
              "Index(['tracking_id', 'datetime', 'wind_speed(m/s)',\n",
              "       'atmospheric_temperature(°C)', 'shaft_temperature(°C)',\n",
              "       'blades_angle(°)', 'gearbox_temperature(°C)', 'engine_temperature(°C)',\n",
              "       'motor_torque(N-m)', 'generator_temperature(°C)',\n",
              "       'atmospheric_pressure(Pascal)', 'area_temperature(°C)',\n",
              "       'windmill_body_temperature(°C)', 'wind_direction(°)', 'resistance(ohm)',\n",
              "       'rotor_torque(N-m)', 'turbine_status', 'cloud_level', 'blade_length(m)',\n",
              "       'blade_breadth(m)', 'windmill_height(m)'],\n",
              "      dtype='object')"
            ]
          },
          "metadata": {
            "tags": []
          },
          "execution_count": 283
        }
      ]
    },
    {
      "cell_type": "code",
      "metadata": {
        "id": "UqwUJnVTxv9J"
      },
      "source": [
        "#Train-test split\n",
        "train_X, val_X, train_y, val_y = train_test_split(X,y,random_state=1,test_size=0.2)"
      ],
      "execution_count": 284,
      "outputs": []
    },
    {
      "cell_type": "code",
      "metadata": {
        "colab": {
          "base_uri": "https://localhost:8080/"
        },
        "id": "j2YILkDXxyok",
        "outputId": "e7234bc9-24b2-4954-8882-cc6511f0d459"
      },
      "source": [
        "print(train_X[0])"
      ],
      "execution_count": 285,
      "outputs": [
        {
          "output_type": "stream",
          "text": [
            "[ 0.37982819 -2.24868305  0.20265802  0.20167612  0.12553187  0.22905639\n",
            "  1.14264877  0.89414891 -1.46719915  1.44755477  0.49423948  1.55614776\n",
            "  0.63356324  0.60025019  0.12047891 -0.2974015  -0.10351123  0.\n",
            "  1.          0.        ]\n"
          ],
          "name": "stdout"
        }
      ]
    },
    {
      "cell_type": "code",
      "metadata": {
        "id": "mSpKfPE9x1Op"
      },
      "source": [
        "model1 = keras.Sequential([\n",
        "    layers.Dense(units=64, activation='relu', input_shape=[20]),\n",
        "    layers.Dense(units=32, activation='relu'),\n",
        "    layers.Dense(units=16, activation='relu'),\n",
        "    layers.Dense(units=8, activation='relu'),\n",
        "    # the linear output layer \n",
        "    layers.Dense(units=1),\n",
        "])"
      ],
      "execution_count": 286,
      "outputs": []
    },
    {
      "cell_type": "code",
      "metadata": {
        "id": "OOobCiP3e9P6"
      },
      "source": [
        "model2 = keras.Sequential([\n",
        "    layers.Dense(units=48, activation='relu', input_shape=[20]),\n",
        "    layers.Dense(units=32, activation='relu'),\n",
        "    layers.Dense(units=16, activation='relu'),\n",
        "    layers.Dense(units=8, activation='relu'),\n",
        "    # the linear output layer \n",
        "    layers.Dense(units=1),\n",
        "])"
      ],
      "execution_count": 287,
      "outputs": []
    },
    {
      "cell_type": "code",
      "metadata": {
        "id": "8hIX5r-rfDYO"
      },
      "source": [
        "model3 = keras.Sequential([\n",
        "    layers.Dense(units=32, activation='relu', input_shape=[20]),\n",
        "    layers.Dense(units=24, activation='relu'),\n",
        "    layers.Dense(units=16, activation='relu'),\n",
        "    layers.Dense(units=8, activation='relu'),\n",
        "    # the linear output layer \n",
        "    layers.Dense(units=1),\n",
        "])"
      ],
      "execution_count": 288,
      "outputs": []
    },
    {
      "cell_type": "code",
      "metadata": {
        "id": "1NBzHpe2hdRF"
      },
      "source": [
        "model4 = keras.Sequential([\n",
        "    layers.Dense(units=32, activation='relu', input_shape=[20]),\n",
        "    layers.Dense(units=32, activation='relu'),\n",
        "    layers.Dense(units=32, activation='relu'),\n",
        "    layers.Dense(units=8, activation='relu'),\n",
        "    # the linear output layer \n",
        "    layers.Dense(units=1),\n",
        "])"
      ],
      "execution_count": 289,
      "outputs": []
    },
    {
      "cell_type": "code",
      "metadata": {
        "id": "hFa25foIho3H"
      },
      "source": [
        "model5 = keras.Sequential([\n",
        "    layers.Dense(units=24, activation='relu', input_shape=[20]),\n",
        "    layers.Dense(units=16, activation='relu'),\n",
        "    layers.Dense(units=8, activation='relu'),\n",
        "    layers.Dense(units=4, activation='relu'),\n",
        "    # the linear output layer \n",
        "    layers.Dense(units=1),\n",
        "])"
      ],
      "execution_count": 290,
      "outputs": []
    },
    {
      "cell_type": "code",
      "metadata": {
        "id": "g_fORZK72Egq"
      },
      "source": [
        "# Define an early stopping callback\n",
        "early_stopping = callbacks.EarlyStopping(\n",
        "    patience=5,\n",
        "    min_delta=0.001,\n",
        "    restore_best_weights=True,\n",
        ")"
      ],
      "execution_count": 291,
      "outputs": []
    },
    {
      "cell_type": "code",
      "metadata": {
        "id": "lbG_KUH7RB57"
      },
      "source": [
        "rlrop = ReduceLROnPlateau(monitor='val_loss', factor=0.1, patience=100)"
      ],
      "execution_count": 292,
      "outputs": []
    },
    {
      "cell_type": "code",
      "metadata": {
        "id": "CFKV1RA1yZVT"
      },
      "source": [
        "model1.compile(\n",
        "    optimizer=Adam(lr=0.005), \n",
        "    loss='mae',\n",
        ")\n",
        "\n",
        "model2.compile(\n",
        "    optimizer=Adam(lr=0.005), \n",
        "    loss='mae',\n",
        ")\n",
        "\n",
        "model3.compile(\n",
        "    optimizer=Adam(lr=0.005), \n",
        "    loss='mae',\n",
        ")\n",
        "\n",
        "model4.compile(\n",
        "    optimizer=Adam(lr=0.001), \n",
        "    loss='mae',\n",
        ")\n",
        "\n",
        "model5.compile(\n",
        "    optimizer=Adam(lr=0.001), \n",
        "    loss='mae',\n",
        ")"
      ],
      "execution_count": 293,
      "outputs": []
    },
    {
      "cell_type": "code",
      "metadata": {
        "id": "mYuKNoueyFPl",
        "colab": {
          "base_uri": "https://localhost:8080/"
        },
        "outputId": "7c3980f9-60a2-40a3-a8b8-9288b4f31351"
      },
      "source": [
        "history = model1.fit(\n",
        "    train_X, train_y,\n",
        "    validation_data=(val_X, val_y),\n",
        "    batch_size=32,\n",
        "    epochs=50,\n",
        "    callbacks=[early_stopping, rlrop]\n",
        ")"
      ],
      "execution_count": 294,
      "outputs": [
        {
          "output_type": "stream",
          "text": [
            "Epoch 1/50\n",
            "705/705 [==============================] - 1s 1ms/step - loss: 1.7680 - val_loss: 1.0227\n",
            "Epoch 2/50\n",
            "705/705 [==============================] - 1s 976us/step - loss: 0.9156 - val_loss: 0.7713\n",
            "Epoch 3/50\n",
            "705/705 [==============================] - 1s 999us/step - loss: 0.7552 - val_loss: 0.7101\n",
            "Epoch 4/50\n",
            "705/705 [==============================] - 1s 984us/step - loss: 0.6934 - val_loss: 0.7210\n",
            "Epoch 5/50\n",
            "705/705 [==============================] - 1s 997us/step - loss: 0.6588 - val_loss: 0.6165\n",
            "Epoch 6/50\n",
            "705/705 [==============================] - 1s 989us/step - loss: 0.6159 - val_loss: 0.6273\n",
            "Epoch 7/50\n",
            "705/705 [==============================] - 1s 1ms/step - loss: 0.6031 - val_loss: 0.5544\n",
            "Epoch 8/50\n",
            "705/705 [==============================] - 1s 998us/step - loss: 0.5592 - val_loss: 0.5384\n",
            "Epoch 9/50\n",
            "705/705 [==============================] - 1s 990us/step - loss: 0.5370 - val_loss: 0.5144\n",
            "Epoch 10/50\n",
            "705/705 [==============================] - 1s 1ms/step - loss: 0.5220 - val_loss: 0.4995\n",
            "Epoch 11/50\n",
            "705/705 [==============================] - 1s 1ms/step - loss: 0.4968 - val_loss: 0.5134\n",
            "Epoch 12/50\n",
            "705/705 [==============================] - 1s 1ms/step - loss: 0.4849 - val_loss: 0.4576\n",
            "Epoch 13/50\n",
            "705/705 [==============================] - 1s 994us/step - loss: 0.4720 - val_loss: 0.4513\n",
            "Epoch 14/50\n",
            "705/705 [==============================] - 1s 993us/step - loss: 0.4753 - val_loss: 0.4589\n",
            "Epoch 15/50\n",
            "705/705 [==============================] - 1s 995us/step - loss: 0.4626 - val_loss: 0.4365\n",
            "Epoch 16/50\n",
            "705/705 [==============================] - 1s 1ms/step - loss: 0.4444 - val_loss: 0.4343\n",
            "Epoch 17/50\n",
            "705/705 [==============================] - 1s 1ms/step - loss: 0.4384 - val_loss: 0.4683\n",
            "Epoch 18/50\n",
            "705/705 [==============================] - 1s 1ms/step - loss: 0.4378 - val_loss: 0.4377\n",
            "Epoch 19/50\n",
            "705/705 [==============================] - 1s 1ms/step - loss: 0.4327 - val_loss: 0.4249\n",
            "Epoch 20/50\n",
            "705/705 [==============================] - 1s 1ms/step - loss: 0.4229 - val_loss: 0.4366\n",
            "Epoch 21/50\n",
            "705/705 [==============================] - 1s 1ms/step - loss: 0.4208 - val_loss: 0.4264\n",
            "Epoch 22/50\n",
            "705/705 [==============================] - 1s 1ms/step - loss: 0.4227 - val_loss: 0.4224\n",
            "Epoch 23/50\n",
            "705/705 [==============================] - 1s 1ms/step - loss: 0.4184 - val_loss: 0.4028\n",
            "Epoch 24/50\n",
            "705/705 [==============================] - 1s 998us/step - loss: 0.4102 - val_loss: 0.4142\n",
            "Epoch 25/50\n",
            "705/705 [==============================] - 1s 1ms/step - loss: 0.4147 - val_loss: 0.4444\n",
            "Epoch 26/50\n",
            "705/705 [==============================] - 1s 1ms/step - loss: 0.4067 - val_loss: 0.4222\n",
            "Epoch 27/50\n",
            "705/705 [==============================] - 1s 982us/step - loss: 0.4123 - val_loss: 0.4103\n",
            "Epoch 28/50\n",
            "705/705 [==============================] - 1s 1ms/step - loss: 0.4099 - val_loss: 0.4242\n"
          ],
          "name": "stdout"
        }
      ]
    },
    {
      "cell_type": "code",
      "metadata": {
        "colab": {
          "base_uri": "https://localhost:8080/",
          "height": 282
        },
        "id": "RHiRY2qcy1pN",
        "outputId": "7ef5ad60-07f3-4922-d494-0a4379838656"
      },
      "source": [
        "history_df = pd.DataFrame(history.history)\n",
        "history_df.loc[:, ['loss', 'val_loss']].plot()"
      ],
      "execution_count": 295,
      "outputs": [
        {
          "output_type": "execute_result",
          "data": {
            "text/plain": [
              "<matplotlib.axes._subplots.AxesSubplot at 0x7f36cda14f50>"
            ]
          },
          "metadata": {
            "tags": []
          },
          "execution_count": 295
        },
        {
          "output_type": "display_data",
          "data": {
            "image/png": "[encoded data removed]",
            "text/plain": [
              "<Figure size 432x288 with 1 Axes>"
            ]
          },
          "metadata": {
            "tags": [],
            "needs_background": "light"
          }
        }
      ]
    },
    {
      "cell_type": "code",
      "metadata": {
        "colab": {
          "base_uri": "https://localhost:8080/"
        },
        "id": "4WRCeoLLfbpM",
        "outputId": "bd5b75d8-8485-436d-8d9a-5f905a6f7a85"
      },
      "source": [
        "history = model2.fit(\n",
        "    train_X, train_y,\n",
        "    validation_data=(val_X, val_y),\n",
        "    batch_size=512,\n",
        "    epochs=50,\n",
        "    callbacks=[early_stopping, rlrop]\n",
        ")"
      ],
      "execution_count": 296,
      "outputs": [
        {
          "output_type": "stream",
          "text": [
            "Epoch 1/50\n",
            "45/45 [==============================] - 0s 4ms/step - loss: 4.5674 - val_loss: 1.7158\n",
            "Epoch 2/50\n",
            "45/45 [==============================] - 0s 2ms/step - loss: 1.5196 - val_loss: 1.2519\n",
            "Epoch 3/50\n",
            "45/45 [==============================] - 0s 2ms/step - loss: 1.1720 - val_loss: 1.0694\n",
            "Epoch 4/50\n",
            "45/45 [==============================] - 0s 2ms/step - loss: 1.0317 - val_loss: 1.0263\n",
            "Epoch 5/50\n",
            "45/45 [==============================] - 0s 2ms/step - loss: 0.9919 - val_loss: 0.9834\n",
            "Epoch 6/50\n",
            "45/45 [==============================] - 0s 2ms/step - loss: 0.9430 - val_loss: 0.9404\n",
            "Epoch 7/50\n",
            "45/45 [==============================] - 0s 2ms/step - loss: 0.9061 - val_loss: 0.8938\n",
            "Epoch 8/50\n",
            "45/45 [==============================] - 0s 2ms/step - loss: 0.8645 - val_loss: 0.8549\n",
            "Epoch 9/50\n",
            "45/45 [==============================] - 0s 2ms/step - loss: 0.8222 - val_loss: 0.8242\n",
            "Epoch 10/50\n",
            "45/45 [==============================] - 0s 2ms/step - loss: 0.7709 - val_loss: 0.7185\n",
            "Epoch 11/50\n",
            "45/45 [==============================] - 0s 2ms/step - loss: 0.6865 - val_loss: 0.7127\n",
            "Epoch 12/50\n",
            "45/45 [==============================] - 0s 2ms/step - loss: 0.6698 - val_loss: 0.6584\n",
            "Epoch 13/50\n",
            "45/45 [==============================] - 0s 2ms/step - loss: 0.6507 - val_loss: 0.6588\n",
            "Epoch 14/50\n",
            "45/45 [==============================] - 0s 2ms/step - loss: 0.6531 - val_loss: 0.6761\n",
            "Epoch 15/50\n",
            "45/45 [==============================] - 0s 2ms/step - loss: 0.6387 - val_loss: 0.6427\n",
            "Epoch 16/50\n",
            "45/45 [==============================] - 0s 2ms/step - loss: 0.6313 - val_loss: 0.6250\n",
            "Epoch 17/50\n",
            "45/45 [==============================] - 0s 2ms/step - loss: 0.6276 - val_loss: 0.6186\n",
            "Epoch 18/50\n",
            "45/45 [==============================] - 0s 2ms/step - loss: 0.6054 - val_loss: 0.6150\n",
            "Epoch 19/50\n",
            "45/45 [==============================] - 0s 2ms/step - loss: 0.6014 - val_loss: 0.6355\n",
            "Epoch 20/50\n",
            "45/45 [==============================] - 0s 2ms/step - loss: 0.6007 - val_loss: 0.6051\n",
            "Epoch 21/50\n",
            "45/45 [==============================] - 0s 2ms/step - loss: 0.5923 - val_loss: 0.6067\n",
            "Epoch 22/50\n",
            "45/45 [==============================] - 0s 2ms/step - loss: 0.5992 - val_loss: 0.6072\n",
            "Epoch 23/50\n",
            "45/45 [==============================] - 0s 2ms/step - loss: 0.6072 - val_loss: 0.6026\n",
            "Epoch 24/50\n",
            "45/45 [==============================] - 0s 2ms/step - loss: 0.5839 - val_loss: 0.5827\n",
            "Epoch 25/50\n",
            "45/45 [==============================] - 0s 2ms/step - loss: 0.5819 - val_loss: 0.5940\n",
            "Epoch 26/50\n",
            "45/45 [==============================] - 0s 2ms/step - loss: 0.5760 - val_loss: 0.5748\n",
            "Epoch 27/50\n",
            "45/45 [==============================] - 0s 2ms/step - loss: 0.5637 - val_loss: 0.6166\n",
            "Epoch 28/50\n",
            "45/45 [==============================] - 0s 2ms/step - loss: 0.5664 - val_loss: 0.5554\n",
            "Epoch 29/50\n",
            "45/45 [==============================] - 0s 2ms/step - loss: 0.5375 - val_loss: 0.5649\n",
            "Epoch 30/50\n",
            "45/45 [==============================] - 0s 2ms/step - loss: 0.5431 - val_loss: 0.5559\n",
            "Epoch 31/50\n",
            "45/45 [==============================] - 0s 2ms/step - loss: 0.5300 - val_loss: 0.5311\n",
            "Epoch 32/50\n",
            "45/45 [==============================] - 0s 2ms/step - loss: 0.5191 - val_loss: 0.5304\n",
            "Epoch 33/50\n",
            "45/45 [==============================] - 0s 2ms/step - loss: 0.5228 - val_loss: 0.5934\n",
            "Epoch 34/50\n",
            "45/45 [==============================] - 0s 2ms/step - loss: 0.5314 - val_loss: 0.5139\n",
            "Epoch 35/50\n",
            "45/45 [==============================] - 0s 2ms/step - loss: 0.5074 - val_loss: 0.5069\n",
            "Epoch 36/50\n",
            "45/45 [==============================] - 0s 2ms/step - loss: 0.4892 - val_loss: 0.4996\n",
            "Epoch 37/50\n",
            "45/45 [==============================] - 0s 2ms/step - loss: 0.4826 - val_loss: 0.5100\n",
            "Epoch 38/50\n",
            "45/45 [==============================] - 0s 2ms/step - loss: 0.4722 - val_loss: 0.4886\n",
            "Epoch 39/50\n",
            "45/45 [==============================] - 0s 2ms/step - loss: 0.4664 - val_loss: 0.4774\n",
            "Epoch 40/50\n",
            "45/45 [==============================] - 0s 2ms/step - loss: 0.4710 - val_loss: 0.4993\n",
            "Epoch 41/50\n",
            "45/45 [==============================] - 0s 2ms/step - loss: 0.4602 - val_loss: 0.4837\n",
            "Epoch 42/50\n",
            "45/45 [==============================] - 0s 2ms/step - loss: 0.4551 - val_loss: 0.4676\n",
            "Epoch 43/50\n",
            "45/45 [==============================] - 0s 2ms/step - loss: 0.4524 - val_loss: 0.4482\n",
            "Epoch 44/50\n",
            "45/45 [==============================] - 0s 2ms/step - loss: 0.4404 - val_loss: 0.4845\n",
            "Epoch 45/50\n",
            "45/45 [==============================] - 0s 2ms/step - loss: 0.4508 - val_loss: 0.4427\n",
            "Epoch 46/50\n",
            "45/45 [==============================] - 0s 2ms/step - loss: 0.4361 - val_loss: 0.4519\n",
            "Epoch 47/50\n",
            "45/45 [==============================] - 0s 2ms/step - loss: 0.4367 - val_loss: 0.4650\n",
            "Epoch 48/50\n",
            "45/45 [==============================] - 0s 2ms/step - loss: 0.4359 - val_loss: 0.4402\n",
            "Epoch 49/50\n",
            "45/45 [==============================] - 0s 2ms/step - loss: 0.4378 - val_loss: 0.4987\n",
            "Epoch 50/50\n",
            "45/45 [==============================] - 0s 2ms/step - loss: 0.4434 - val_loss: 0.4267\n"
          ],
          "name": "stdout"
        }
      ]
    },
    {
      "cell_type": "code",
      "metadata": {
        "colab": {
          "base_uri": "https://localhost:8080/",
          "height": 282
        },
        "id": "dM1UlHkLffEh",
        "outputId": "156217f2-4f6d-4864-93ab-e77d5ea67d55"
      },
      "source": [
        "history_df = pd.DataFrame(history.history)\n",
        "history_df.loc[:, ['loss', 'val_loss']].plot()"
      ],
      "execution_count": 297,
      "outputs": [
        {
          "output_type": "execute_result",
          "data": {
            "text/plain": [
              "<matplotlib.axes._subplots.AxesSubplot at 0x7f36cd937590>"
            ]
          },
          "metadata": {
            "tags": []
          },
          "execution_count": 297
        },
        {
          "output_type": "display_data",
          "data": {
            "image/png": "[encoded data removed]",
            "text/plain": [
              "<Figure size 432x288 with 1 Axes>"
            ]
          },
          "metadata": {
            "tags": [],
            "needs_background": "light"
          }
        }
      ]
    },
    {
      "cell_type": "code",
      "metadata": {
        "colab": {
          "base_uri": "https://localhost:8080/"
        },
        "id": "gW0ypaQdfkdy",
        "outputId": "00602bbc-091d-4460-ac26-b013b8135c2d"
      },
      "source": [
        "history = model3.fit(\n",
        "    train_X, train_y,\n",
        "    validation_data=(val_X, val_y),\n",
        "    batch_size=128,\n",
        "    epochs=50,\n",
        "    callbacks=[early_stopping, rlrop]\n",
        ")"
      ],
      "execution_count": 298,
      "outputs": [
        {
          "output_type": "stream",
          "text": [
            "Epoch 1/50\n",
            "177/177 [==============================] - 1s 2ms/step - loss: 2.3637 - val_loss: 1.0809\n",
            "Epoch 2/50\n",
            "177/177 [==============================] - 0s 1ms/step - loss: 1.0292 - val_loss: 0.9646\n",
            "Epoch 3/50\n",
            "177/177 [==============================] - 0s 1ms/step - loss: 0.9373 - val_loss: 0.8260\n",
            "Epoch 4/50\n",
            "177/177 [==============================] - 0s 1ms/step - loss: 0.7789 - val_loss: 0.7062\n",
            "Epoch 5/50\n",
            "177/177 [==============================] - 0s 1ms/step - loss: 0.6885 - val_loss: 0.6424\n",
            "Epoch 6/50\n",
            "177/177 [==============================] - 0s 1ms/step - loss: 0.6387 - val_loss: 0.6408\n",
            "Epoch 7/50\n",
            "177/177 [==============================] - 0s 1ms/step - loss: 0.6440 - val_loss: 0.6469\n",
            "Epoch 8/50\n",
            "177/177 [==============================] - 0s 1ms/step - loss: 0.6350 - val_loss: 0.6316\n",
            "Epoch 9/50\n",
            "177/177 [==============================] - 0s 1ms/step - loss: 0.6349 - val_loss: 0.6320\n",
            "Epoch 10/50\n",
            "177/177 [==============================] - 0s 1ms/step - loss: 0.6336 - val_loss: 0.6233\n",
            "Epoch 11/50\n",
            "177/177 [==============================] - 0s 1ms/step - loss: 0.6102 - val_loss: 0.6171\n",
            "Epoch 12/50\n",
            "177/177 [==============================] - 0s 1ms/step - loss: 0.6052 - val_loss: 0.6363\n",
            "Epoch 13/50\n",
            "177/177 [==============================] - 0s 1ms/step - loss: 0.5959 - val_loss: 0.6450\n",
            "Epoch 14/50\n",
            "177/177 [==============================] - 0s 1ms/step - loss: 0.5974 - val_loss: 0.5699\n",
            "Epoch 15/50\n",
            "177/177 [==============================] - 0s 1ms/step - loss: 0.5690 - val_loss: 0.5505\n",
            "Epoch 16/50\n",
            "177/177 [==============================] - 0s 1ms/step - loss: 0.5639 - val_loss: 0.5478\n",
            "Epoch 17/50\n",
            "177/177 [==============================] - 0s 1ms/step - loss: 0.5496 - val_loss: 0.5890\n",
            "Epoch 18/50\n",
            "177/177 [==============================] - 0s 1ms/step - loss: 0.5300 - val_loss: 0.5420\n",
            "Epoch 19/50\n",
            "177/177 [==============================] - 0s 1ms/step - loss: 0.5152 - val_loss: 0.5297\n",
            "Epoch 20/50\n",
            "177/177 [==============================] - 0s 1ms/step - loss: 0.5200 - val_loss: 0.5076\n",
            "Epoch 21/50\n",
            "177/177 [==============================] - 0s 1ms/step - loss: 0.5026 - val_loss: 0.5025\n",
            "Epoch 22/50\n",
            "177/177 [==============================] - 0s 1ms/step - loss: 0.4937 - val_loss: 0.5059\n",
            "Epoch 23/50\n",
            "177/177 [==============================] - 0s 1ms/step - loss: 0.5082 - val_loss: 0.4785\n",
            "Epoch 24/50\n",
            "177/177 [==============================] - 0s 1ms/step - loss: 0.4651 - val_loss: 0.4814\n",
            "Epoch 25/50\n",
            "177/177 [==============================] - 0s 1ms/step - loss: 0.4684 - val_loss: 0.4918\n",
            "Epoch 26/50\n",
            "177/177 [==============================] - 0s 1ms/step - loss: 0.4558 - val_loss: 0.4770\n",
            "Epoch 27/50\n",
            "177/177 [==============================] - 0s 1ms/step - loss: 0.4642 - val_loss: 0.4518\n",
            "Epoch 28/50\n",
            "177/177 [==============================] - 0s 1ms/step - loss: 0.4421 - val_loss: 0.4440\n",
            "Epoch 29/50\n",
            "177/177 [==============================] - 0s 1ms/step - loss: 0.4316 - val_loss: 0.4929\n",
            "Epoch 30/50\n",
            "177/177 [==============================] - 0s 1ms/step - loss: 0.4458 - val_loss: 0.4888\n",
            "Epoch 31/50\n",
            "177/177 [==============================] - 0s 1ms/step - loss: 0.4448 - val_loss: 0.4387\n",
            "Epoch 32/50\n",
            "177/177 [==============================] - 0s 1ms/step - loss: 0.4211 - val_loss: 0.4279\n",
            "Epoch 33/50\n",
            "177/177 [==============================] - 0s 1ms/step - loss: 0.4222 - val_loss: 0.4062\n",
            "Epoch 34/50\n",
            "177/177 [==============================] - 0s 1ms/step - loss: 0.4118 - val_loss: 0.4713\n",
            "Epoch 35/50\n",
            "177/177 [==============================] - 0s 1ms/step - loss: 0.4209 - val_loss: 0.4228\n",
            "Epoch 36/50\n",
            "177/177 [==============================] - 0s 1ms/step - loss: 0.4152 - val_loss: 0.4431\n",
            "Epoch 37/50\n",
            "177/177 [==============================] - 0s 1ms/step - loss: 0.4090 - val_loss: 0.4454\n",
            "Epoch 38/50\n",
            "177/177 [==============================] - 0s 1ms/step - loss: 0.4232 - val_loss: 0.4171\n"
          ],
          "name": "stdout"
        }
      ]
    },
    {
      "cell_type": "code",
      "metadata": {
        "colab": {
          "base_uri": "https://localhost:8080/",
          "height": 282
        },
        "id": "O6TZWi8-fogF",
        "outputId": "a229fed9-627c-489a-b429-7d56fa1ea8b0"
      },
      "source": [
        "history_df = pd.DataFrame(history.history)\n",
        "history_df.loc[:, ['loss', 'val_loss']].plot()"
      ],
      "execution_count": 299,
      "outputs": [
        {
          "output_type": "execute_result",
          "data": {
            "text/plain": [
              "<matplotlib.axes._subplots.AxesSubplot at 0x7f36cd7dc850>"
            ]
          },
          "metadata": {
            "tags": []
          },
          "execution_count": 299
        },
        {
          "output_type": "display_data",
          "data": {
            "image/png": "[encoded data removed]",
            "text/plain": [
              "<Figure size 432x288 with 1 Axes>"
            ]
          },
          "metadata": {
            "tags": [],
            "needs_background": "light"
          }
        }
      ]
    },
    {
      "cell_type": "code",
      "metadata": {
        "colab": {
          "base_uri": "https://localhost:8080/"
        },
        "id": "a7fSxRfJh2fY",
        "outputId": "7f7580b7-002d-4552-a7ad-578f24daf729"
      },
      "source": [
        "history = model4.fit(\n",
        "    train_X, train_y,\n",
        "    validation_data=(val_X, val_y),\n",
        "    batch_size=512,\n",
        "    epochs=50,\n",
        "    callbacks=[early_stopping, rlrop]\n",
        ")"
      ],
      "execution_count": 300,
      "outputs": [
        {
          "output_type": "stream",
          "text": [
            "Epoch 1/50\n",
            "45/45 [==============================] - 1s 4ms/step - loss: 5.8300 - val_loss: 3.2978\n",
            "Epoch 2/50\n",
            "45/45 [==============================] - 0s 2ms/step - loss: 2.5143 - val_loss: 1.8194\n",
            "Epoch 3/50\n",
            "45/45 [==============================] - 0s 2ms/step - loss: 1.7273 - val_loss: 1.5965\n",
            "Epoch 4/50\n",
            "45/45 [==============================] - 0s 2ms/step - loss: 1.5278 - val_loss: 1.4175\n",
            "Epoch 5/50\n",
            "45/45 [==============================] - 0s 2ms/step - loss: 1.3491 - val_loss: 1.2790\n",
            "Epoch 6/50\n",
            "45/45 [==============================] - 0s 2ms/step - loss: 1.2081 - val_loss: 1.1855\n",
            "Epoch 7/50\n",
            "45/45 [==============================] - 0s 2ms/step - loss: 1.1331 - val_loss: 1.1181\n",
            "Epoch 8/50\n",
            "45/45 [==============================] - 0s 2ms/step - loss: 1.0885 - val_loss: 1.0787\n",
            "Epoch 9/50\n",
            "45/45 [==============================] - 0s 2ms/step - loss: 1.0524 - val_loss: 1.0575\n",
            "Epoch 10/50\n",
            "45/45 [==============================] - 0s 2ms/step - loss: 1.0244 - val_loss: 1.0192\n",
            "Epoch 11/50\n",
            "45/45 [==============================] - 0s 2ms/step - loss: 0.9865 - val_loss: 0.9985\n",
            "Epoch 12/50\n",
            "45/45 [==============================] - 0s 2ms/step - loss: 0.9783 - val_loss: 0.9843\n",
            "Epoch 13/50\n",
            "45/45 [==============================] - 0s 2ms/step - loss: 0.9667 - val_loss: 0.9742\n",
            "Epoch 14/50\n",
            "45/45 [==============================] - 0s 2ms/step - loss: 0.9604 - val_loss: 0.9659\n",
            "Epoch 15/50\n",
            "45/45 [==============================] - 0s 2ms/step - loss: 0.9495 - val_loss: 0.9551\n",
            "Epoch 16/50\n",
            "45/45 [==============================] - 0s 2ms/step - loss: 0.9386 - val_loss: 0.9506\n",
            "Epoch 17/50\n",
            "45/45 [==============================] - 0s 2ms/step - loss: 0.9370 - val_loss: 0.9392\n",
            "Epoch 18/50\n",
            "45/45 [==============================] - 0s 2ms/step - loss: 0.9130 - val_loss: 0.9392\n",
            "Epoch 19/50\n",
            "45/45 [==============================] - 0s 2ms/step - loss: 0.9009 - val_loss: 0.9170\n",
            "Epoch 20/50\n",
            "45/45 [==============================] - 0s 2ms/step - loss: 0.8878 - val_loss: 0.9033\n",
            "Epoch 21/50\n",
            "45/45 [==============================] - 0s 2ms/step - loss: 0.8762 - val_loss: 0.9016\n",
            "Epoch 22/50\n",
            "45/45 [==============================] - 0s 2ms/step - loss: 0.8761 - val_loss: 0.8841\n",
            "Epoch 23/50\n",
            "45/45 [==============================] - 0s 2ms/step - loss: 0.8608 - val_loss: 0.8638\n",
            "Epoch 24/50\n",
            "45/45 [==============================] - 0s 2ms/step - loss: 0.8314 - val_loss: 0.8486\n",
            "Epoch 25/50\n",
            "45/45 [==============================] - 0s 2ms/step - loss: 0.8108 - val_loss: 0.8207\n",
            "Epoch 26/50\n",
            "45/45 [==============================] - 0s 2ms/step - loss: 0.7950 - val_loss: 0.8105\n",
            "Epoch 27/50\n",
            "45/45 [==============================] - 0s 2ms/step - loss: 0.7780 - val_loss: 0.7707\n",
            "Epoch 28/50\n",
            "45/45 [==============================] - 0s 2ms/step - loss: 0.7487 - val_loss: 0.7654\n",
            "Epoch 29/50\n",
            "45/45 [==============================] - 0s 2ms/step - loss: 0.7388 - val_loss: 0.7306\n",
            "Epoch 30/50\n",
            "45/45 [==============================] - 0s 2ms/step - loss: 0.7188 - val_loss: 0.7169\n",
            "Epoch 31/50\n",
            "45/45 [==============================] - 0s 2ms/step - loss: 0.6912 - val_loss: 0.6987\n",
            "Epoch 32/50\n",
            "45/45 [==============================] - 0s 2ms/step - loss: 0.6758 - val_loss: 0.6827\n",
            "Epoch 33/50\n",
            "45/45 [==============================] - 0s 2ms/step - loss: 0.6750 - val_loss: 0.6663\n",
            "Epoch 34/50\n",
            "45/45 [==============================] - 0s 2ms/step - loss: 0.6468 - val_loss: 0.6591\n",
            "Epoch 35/50\n",
            "45/45 [==============================] - 0s 2ms/step - loss: 0.6396 - val_loss: 0.6619\n",
            "Epoch 36/50\n",
            "45/45 [==============================] - 0s 2ms/step - loss: 0.6399 - val_loss: 0.6441\n",
            "Epoch 37/50\n",
            "45/45 [==============================] - 0s 2ms/step - loss: 0.6315 - val_loss: 0.6385\n",
            "Epoch 38/50\n",
            "45/45 [==============================] - 0s 2ms/step - loss: 0.6200 - val_loss: 0.6333\n",
            "Epoch 39/50\n",
            "45/45 [==============================] - 0s 2ms/step - loss: 0.6190 - val_loss: 0.6260\n",
            "Epoch 40/50\n",
            "45/45 [==============================] - 0s 2ms/step - loss: 0.6132 - val_loss: 0.6261\n",
            "Epoch 41/50\n",
            "45/45 [==============================] - 0s 2ms/step - loss: 0.6081 - val_loss: 0.6272\n",
            "Epoch 42/50\n",
            "45/45 [==============================] - 0s 2ms/step - loss: 0.6017 - val_loss: 0.6098\n",
            "Epoch 43/50\n",
            "45/45 [==============================] - 0s 2ms/step - loss: 0.6007 - val_loss: 0.6056\n",
            "Epoch 44/50\n",
            "45/45 [==============================] - 0s 2ms/step - loss: 0.6008 - val_loss: 0.6439\n",
            "Epoch 45/50\n",
            "45/45 [==============================] - 0s 2ms/step - loss: 0.6104 - val_loss: 0.5953\n",
            "Epoch 46/50\n",
            "45/45 [==============================] - 0s 2ms/step - loss: 0.5987 - val_loss: 0.5903\n",
            "Epoch 47/50\n",
            "45/45 [==============================] - 0s 2ms/step - loss: 0.5720 - val_loss: 0.5817\n",
            "Epoch 48/50\n",
            "45/45 [==============================] - 0s 2ms/step - loss: 0.5614 - val_loss: 0.5817\n",
            "Epoch 49/50\n",
            "45/45 [==============================] - 0s 2ms/step - loss: 0.5713 - val_loss: 0.5764\n",
            "Epoch 50/50\n",
            "45/45 [==============================] - 0s 2ms/step - loss: 0.5662 - val_loss: 0.6088\n"
          ],
          "name": "stdout"
        }
      ]
    },
    {
      "cell_type": "code",
      "metadata": {
        "colab": {
          "base_uri": "https://localhost:8080/",
          "height": 282
        },
        "id": "-hGLXCE3h6H5",
        "outputId": "d2ca30ee-e360-4afc-d6c1-c9d8866227a9"
      },
      "source": [
        "history_df = pd.DataFrame(history.history)\n",
        "history_df.loc[:, ['loss', 'val_loss']].plot()"
      ],
      "execution_count": 301,
      "outputs": [
        {
          "output_type": "execute_result",
          "data": {
            "text/plain": [
              "<matplotlib.axes._subplots.AxesSubplot at 0x7f36cd621650>"
            ]
          },
          "metadata": {
            "tags": []
          },
          "execution_count": 301
        },
        {
          "output_type": "display_data",
          "data": {
            "image/png": "[encoded data removed]",
            "text/plain": [
              "<Figure size 432x288 with 1 Axes>"
            ]
          },
          "metadata": {
            "tags": [],
            "needs_background": "light"
          }
        }
      ]
    },
    {
      "cell_type": "code",
      "metadata": {
        "colab": {
          "base_uri": "https://localhost:8080/"
        },
        "id": "hc53TCcfh8i6",
        "outputId": "f92bb336-357d-4040-e3ed-3c622c26ec42"
      },
      "source": [
        "history = model5.fit(\n",
        "    train_X, train_y,\n",
        "    validation_data=(val_X, val_y),\n",
        "    batch_size=256,\n",
        "    epochs=50,\n",
        "    callbacks=[early_stopping, rlrop]\n",
        ")"
      ],
      "execution_count": 302,
      "outputs": [
        {
          "output_type": "stream",
          "text": [
            "Epoch 1/50\n",
            "89/89 [==============================] - 1s 2ms/step - loss: 6.0273 - val_loss: 3.9925\n",
            "Epoch 2/50\n",
            "89/89 [==============================] - 0s 1ms/step - loss: 2.9612 - val_loss: 1.6920\n",
            "Epoch 3/50\n",
            "89/89 [==============================] - 0s 1ms/step - loss: 1.5900 - val_loss: 1.4238\n",
            "Epoch 4/50\n",
            "89/89 [==============================] - 0s 1ms/step - loss: 1.3578 - val_loss: 1.2254\n",
            "Epoch 5/50\n",
            "89/89 [==============================] - 0s 1ms/step - loss: 1.1711 - val_loss: 1.1065\n",
            "Epoch 6/50\n",
            "89/89 [==============================] - 0s 1ms/step - loss: 1.0611 - val_loss: 1.0475\n",
            "Epoch 7/50\n",
            "89/89 [==============================] - 0s 1ms/step - loss: 1.0202 - val_loss: 1.0190\n",
            "Epoch 8/50\n",
            "89/89 [==============================] - 0s 1ms/step - loss: 0.9985 - val_loss: 0.9945\n",
            "Epoch 9/50\n",
            "89/89 [==============================] - 0s 1ms/step - loss: 0.9860 - val_loss: 0.9814\n",
            "Epoch 10/50\n",
            "89/89 [==============================] - 0s 1ms/step - loss: 0.9646 - val_loss: 0.9651\n",
            "Epoch 11/50\n",
            "89/89 [==============================] - 0s 1ms/step - loss: 0.9285 - val_loss: 0.9387\n",
            "Epoch 12/50\n",
            "89/89 [==============================] - 0s 1ms/step - loss: 0.9206 - val_loss: 0.9163\n",
            "Epoch 13/50\n",
            "89/89 [==============================] - 0s 1ms/step - loss: 0.8888 - val_loss: 0.8819\n",
            "Epoch 14/50\n",
            "89/89 [==============================] - 0s 1ms/step - loss: 0.8628 - val_loss: 0.8428\n",
            "Epoch 15/50\n",
            "89/89 [==============================] - 0s 1ms/step - loss: 0.8244 - val_loss: 0.8082\n",
            "Epoch 16/50\n",
            "89/89 [==============================] - 0s 1ms/step - loss: 0.7937 - val_loss: 0.7752\n",
            "Epoch 17/50\n",
            "89/89 [==============================] - 0s 1ms/step - loss: 0.7740 - val_loss: 0.7494\n",
            "Epoch 18/50\n",
            "89/89 [==============================] - 0s 1ms/step - loss: 0.7311 - val_loss: 0.7212\n",
            "Epoch 19/50\n",
            "89/89 [==============================] - 0s 1ms/step - loss: 0.7113 - val_loss: 0.7067\n",
            "Epoch 20/50\n",
            "89/89 [==============================] - 0s 1ms/step - loss: 0.6977 - val_loss: 0.7103\n",
            "Epoch 21/50\n",
            "89/89 [==============================] - 0s 1ms/step - loss: 0.6966 - val_loss: 0.6864\n",
            "Epoch 22/50\n",
            "89/89 [==============================] - 0s 1ms/step - loss: 0.6755 - val_loss: 0.6965\n",
            "Epoch 23/50\n",
            "89/89 [==============================] - 0s 1ms/step - loss: 0.6878 - val_loss: 0.6845\n",
            "Epoch 24/50\n",
            "89/89 [==============================] - 0s 1ms/step - loss: 0.6631 - val_loss: 0.6724\n",
            "Epoch 25/50\n",
            "89/89 [==============================] - 0s 1ms/step - loss: 0.6665 - val_loss: 0.6682\n",
            "Epoch 26/50\n",
            "89/89 [==============================] - 0s 1ms/step - loss: 0.6576 - val_loss: 0.6745\n",
            "Epoch 27/50\n",
            "89/89 [==============================] - 0s 1ms/step - loss: 0.6559 - val_loss: 0.6619\n",
            "Epoch 28/50\n",
            "89/89 [==============================] - 0s 1ms/step - loss: 0.6518 - val_loss: 0.6724\n",
            "Epoch 29/50\n",
            "89/89 [==============================] - 0s 1ms/step - loss: 0.6546 - val_loss: 0.6594\n",
            "Epoch 30/50\n",
            "89/89 [==============================] - 0s 1ms/step - loss: 0.6518 - val_loss: 0.6527\n",
            "Epoch 31/50\n",
            "89/89 [==============================] - 0s 1ms/step - loss: 0.6412 - val_loss: 0.6535\n",
            "Epoch 32/50\n",
            "89/89 [==============================] - 0s 1ms/step - loss: 0.6454 - val_loss: 0.6557\n",
            "Epoch 33/50\n",
            "89/89 [==============================] - 0s 1ms/step - loss: 0.6488 - val_loss: 0.6479\n",
            "Epoch 34/50\n",
            "89/89 [==============================] - 0s 1ms/step - loss: 0.6315 - val_loss: 0.6534\n",
            "Epoch 35/50\n",
            "89/89 [==============================] - 0s 1ms/step - loss: 0.6391 - val_loss: 0.6460\n",
            "Epoch 36/50\n",
            "89/89 [==============================] - 0s 1ms/step - loss: 0.6359 - val_loss: 0.6500\n",
            "Epoch 37/50\n",
            "89/89 [==============================] - 0s 1ms/step - loss: 0.6306 - val_loss: 0.6417\n",
            "Epoch 38/50\n",
            "89/89 [==============================] - 0s 1ms/step - loss: 0.6293 - val_loss: 0.6456\n",
            "Epoch 39/50\n",
            "89/89 [==============================] - 0s 1ms/step - loss: 0.6228 - val_loss: 0.6370\n",
            "Epoch 40/50\n",
            "89/89 [==============================] - 0s 1ms/step - loss: 0.6213 - val_loss: 0.6418\n",
            "Epoch 41/50\n",
            "89/89 [==============================] - 0s 1ms/step - loss: 0.6219 - val_loss: 0.6480\n",
            "Epoch 42/50\n",
            "89/89 [==============================] - 0s 1ms/step - loss: 0.6134 - val_loss: 0.6370\n",
            "Epoch 43/50\n",
            "89/89 [==============================] - 0s 1ms/step - loss: 0.6225 - val_loss: 0.6355\n",
            "Epoch 44/50\n",
            "89/89 [==============================] - 0s 1ms/step - loss: 0.6278 - val_loss: 0.6441\n",
            "Epoch 45/50\n",
            "89/89 [==============================] - 0s 1ms/step - loss: 0.6281 - val_loss: 0.6365\n",
            "Epoch 46/50\n",
            "89/89 [==============================] - 0s 1ms/step - loss: 0.6235 - val_loss: 0.6348\n",
            "Epoch 47/50\n",
            "89/89 [==============================] - 0s 1ms/step - loss: 0.6124 - val_loss: 0.6349\n",
            "Epoch 48/50\n",
            "89/89 [==============================] - 0s 1ms/step - loss: 0.6099 - val_loss: 0.6419\n"
          ],
          "name": "stdout"
        }
      ]
    },
    {
      "cell_type": "code",
      "metadata": {
        "colab": {
          "base_uri": "https://localhost:8080/",
          "height": 282
        },
        "id": "4lhbuWWuh_rL",
        "outputId": "774f513f-b2de-4bb0-b74c-257a291fab13"
      },
      "source": [
        "history_df = pd.DataFrame(history.history)\n",
        "history_df.loc[:, ['loss', 'val_loss']].plot()"
      ],
      "execution_count": 303,
      "outputs": [
        {
          "output_type": "execute_result",
          "data": {
            "text/plain": [
              "<matplotlib.axes._subplots.AxesSubplot at 0x7f36cd58e9d0>"
            ]
          },
          "metadata": {
            "tags": []
          },
          "execution_count": 303
        },
        {
          "output_type": "display_data",
          "data": {
            "image/png": "[encoded data removed]",
            "text/plain": [
              "<Figure size 432x288 with 1 Axes>"
            ]
          },
          "metadata": {
            "tags": [],
            "needs_background": "light"
          }
        }
      ]
    },
    {
      "cell_type": "code",
      "metadata": {
        "id": "E-t17NSUy6k7"
      },
      "source": [
        "test_preds1 = model1.predict(test_X)\n",
        "test_preds2 = model2.predict(test_X)\n",
        "test_preds3 = model3.predict(test_X)\n",
        "test_preds4 = model4.predict(test_X)\n",
        "test_preds5 = model5.predict(test_X)"
      ],
      "execution_count": 304,
      "outputs": []
    },
    {
      "cell_type": "code",
      "metadata": {
        "id": "--t592-hf8V6"
      },
      "source": [
        "test_preds1 = test_preds1.flatten()\n",
        "test_preds2 = test_preds2.flatten()\n",
        "test_preds3 = test_preds3.flatten()\n",
        "test_preds4 = test_preds4.flatten()\n",
        "test_preds5 = test_preds5.flatten()"
      ],
      "execution_count": 305,
      "outputs": []
    },
    {
      "cell_type": "code",
      "metadata": {
        "id": "KtCp0mregHgT"
      },
      "source": [
        "test_preds = []\n",
        "for i in range(len(test_preds1)):\n",
        "  test_preds.append((test_preds1[i] + test_preds2[i] + test_preds3[i])/3)"
      ],
      "execution_count": 306,
      "outputs": []
    },
    {
      "cell_type": "code",
      "metadata": {
        "colab": {
          "base_uri": "https://localhost:8080/",
          "height": 17
        },
        "id": "-93rt3RSzDNh",
        "outputId": "f2b5e8b9-1ba5-47a1-8f12-cd0911434ef8"
      },
      "source": [
        "# The lines below shows how to save predictions in format used for competition scoring.\n",
        "output = pd.DataFrame({'tracking_id': test_data.tracking_id,\n",
        "                       'datetime': test_data.datetime,\n",
        "                       'windmill_generated_power(kW/h)': test_preds})\n",
        "\n",
        "output.head()\n",
        "output.to_csv('submission_windy_dl.csv', index=False)\n",
        "files.download('submission_windy_dl.csv')"
      ],
      "execution_count": 307,
      "outputs": [
        {
          "output_type": "display_data",
          "data": {
            "application/javascript": [
              "\n",
              "    async function download(id, filename, size) {\n",
              "      if (!google.colab.kernel.accessAllowed) {\n",
              "        return;\n",
              "      }\n",
              "      const div = document.createElement('div');\n",
              "      const label = document.createElement('label');\n",
              "      label.textContent = `Downloading \"${filename}\": `;\n",
              "      div.appendChild(label);\n",
              "      const progress = document.createElement('progress');\n",
              "      progress.max = size;\n",
              "      div.appendChild(progress);\n",
              "      document.body.appendChild(div);\n",
              "\n",
              "      const buffers = [];\n",
              "      let downloaded = 0;\n",
              "\n",
              "      const channel = await google.colab.kernel.comms.open(id);\n",
              "      // Send a message to notify the kernel that we're ready.\n",
              "      channel.send({})\n",
              "\n",
              "      for await (const message of channel.messages) {\n",
              "        // Send a message to notify the kernel that we're ready.\n",
              "        channel.send({})\n",
              "        if (message.buffers) {\n",
              "          for (const buffer of message.buffers) {\n",
              "            buffers.push(buffer);\n",
              "            downloaded += buffer.byteLength;\n",
              "            progress.value = downloaded;\n",
              "          }\n",
              "        }\n",
              "      }\n",
              "      const blob = new Blob(buffers, {type: 'application/binary'});\n",
              "      const a = document.createElement('a');\n",
              "      a.href = window.URL.createObjectURL(blob);\n",
              "      a.download = filename;\n",
              "      div.appendChild(a);\n",
              "      a.click();\n",
              "      div.remove();\n",
              "    }\n",
              "  "
            ],
            "text/plain": [
              "<IPython.core.display.Javascript object>"
            ]
          },
          "metadata": {
            "tags": []
          }
        },
        {
          "output_type": "display_data",
          "data": {
            "application/javascript": [
              "download(\"download_63fce44f-acf9-4c03-9238-9868cf9c0a5f\", \"submission_windy_dl.csv\", 566599)"
            ],
            "text/plain": [
              "<IPython.core.display.Javascript object>"
            ]
          },
          "metadata": {
            "tags": []
          }
        }
      ]
    }
  ]
}