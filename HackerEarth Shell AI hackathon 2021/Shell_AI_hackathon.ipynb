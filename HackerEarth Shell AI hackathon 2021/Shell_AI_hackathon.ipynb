{
  "nbformat": 4,
  "nbformat_minor": 0,
  "metadata": {
    "colab": {
      "name": "Shell_AI_hackathon.ipynb",
      "provenance": [],
      "collapsed_sections": []
    },
    "kernelspec": {
      "name": "python3",
      "display_name": "Python 3"
    },
    "language_info": {
      "name": "python"
    },
    "accelerator": "GPU"
  },
  "cells": [
    {
      "cell_type": "markdown",
      "metadata": {
        "id": "bCXtmHFJoRaL"
      },
      "source": [
        "## Loading libraries"
      ]
    },
    {
      "cell_type": "code",
      "metadata": {
        "id": "P1BK8zvKk4OU"
      },
      "source": [
        "import pandas as pd\n",
        "import numpy as np\n",
        "import os\n",
        "import glob\n",
        "import tensorflow as tf\n",
        "from tensorflow import keras\n",
        "from tensorflow.keras import layers\n",
        "from keras.layers import LSTM, Dense\n",
        "from keras.models import Sequential\n",
        "from PIL import Image\n",
        "import matplotlib.pyplot as plt"
      ],
      "execution_count": 1,
      "outputs": []
    },
    {
      "cell_type": "markdown",
      "metadata": {
        "id": "sTKf4qn-oVL2"
      },
      "source": [
        "## Mounting Google Drive"
      ]
    },
    {
      "cell_type": "code",
      "metadata": {
        "colab": {
          "base_uri": "https://localhost:8080/"
        },
        "id": "RblyEg8Ns-o4",
        "outputId": "eef7a90d-9559-44dd-e55b-246221fe1b78"
      },
      "source": [
        "from google.colab import drive\n",
        "drive.mount('/content/drive', force_remount=True)"
      ],
      "execution_count": 2,
      "outputs": [
        {
          "output_type": "stream",
          "name": "stdout",
          "text": [
            "Mounted at /content/drive\n"
          ]
        }
      ]
    },
    {
      "cell_type": "markdown",
      "metadata": {
        "id": "aOCl5iC-oZHt"
      },
      "source": [
        "## Training data setup"
      ]
    },
    {
      "cell_type": "markdown",
      "metadata": {
        "id": "pazNBrZloe3M"
      },
      "source": [
        "### Unzipping folder"
      ]
    },
    {
      "cell_type": "code",
      "metadata": {
        "id": "j6JbAHB2mk00"
      },
      "source": [
        "!unzip -uq \"/content/drive/My Drive/train.zip\" -d \"/content\""
      ],
      "execution_count": null,
      "outputs": []
    },
    {
      "cell_type": "markdown",
      "metadata": {
        "id": "5B8FQ2Clojiw"
      },
      "source": [
        "### Viewing content"
      ]
    },
    {
      "cell_type": "code",
      "metadata": {
        "colab": {
          "base_uri": "https://localhost:8080/"
        },
        "id": "ZZmUGzell5Dz",
        "outputId": "783a9d7b-2dfb-4cc8-dcc5-2db300f65197"
      },
      "source": [
        "df = pd.read_csv('/content/drive/My Drive/Shell_AI_train/train.csv')\n",
        "print(df.head())"
      ],
      "execution_count": null,
      "outputs": [
        {
          "output_type": "stream",
          "name": "stdout",
          "text": [
            "  DATE (MM/DD)    MST  ...  Moisture  Albedo (CMP11)\n",
            "0          1/1  00:00  ...       0.0             0.0\n",
            "1          1/1  00:01  ...       0.0             0.0\n",
            "2          1/1  00:02  ...       0.0             0.0\n",
            "3          1/1  00:03  ...       0.0             0.0\n",
            "4          1/1  00:04  ...       0.0             0.0\n",
            "\n",
            "[5 rows x 17 columns]\n"
          ]
        }
      ]
    },
    {
      "cell_type": "markdown",
      "metadata": {
        "id": "rQ-cqfCLoou3"
      },
      "source": [
        "### Check number of values for each date"
      ]
    },
    {
      "cell_type": "code",
      "metadata": {
        "colab": {
          "base_uri": "https://localhost:8080/"
        },
        "id": "7KaiRuBXl6Zj",
        "outputId": "c6f4ed01-78f4-42cd-c5eb-0f6d65de58e6"
      },
      "source": [
        "print(df['DATE (MM/DD)'].value_counts())"
      ],
      "execution_count": null,
      "outputs": [
        {
          "output_type": "stream",
          "name": "stdout",
          "text": [
            "10/15    1440\n",
            "4/30     1440\n",
            "7/10     1440\n",
            "6/5      1440\n",
            "11/30    1440\n",
            "         ... \n",
            "7/25     1440\n",
            "8/25     1440\n",
            "5/18     1440\n",
            "8/15     1440\n",
            "7/1      1440\n",
            "Name: DATE (MM/DD), Length: 366, dtype: int64\n"
          ]
        }
      ]
    },
    {
      "cell_type": "code",
      "metadata": {
        "colab": {
          "base_uri": "https://localhost:8080/"
        },
        "id": "DZcIOhEvl7xf",
        "outputId": "26115f25-f7ba-4b9a-ecc7-ac4aeafb8338"
      },
      "source": [
        "print(df['MST'].value_counts())"
      ],
      "execution_count": null,
      "outputs": [
        {
          "output_type": "stream",
          "name": "stdout",
          "text": [
            "00:04    366\n",
            "19:37    366\n",
            "07:17    366\n",
            "19:40    366\n",
            "03:43    366\n",
            "        ... \n",
            "11:57    366\n",
            "04:28    366\n",
            "16:14    366\n",
            "20:55    366\n",
            "08:06    366\n",
            "Name: MST, Length: 1440, dtype: int64\n"
          ]
        }
      ]
    },
    {
      "cell_type": "code",
      "metadata": {
        "colab": {
          "base_uri": "https://localhost:8080/"
        },
        "id": "t1Tp3Uivl9Io",
        "outputId": "439a85a9-15ee-4c62-9f7d-615c1a0f1431"
      },
      "source": [
        "selected_row = df[df['DATE (MM/DD)'] == '1/1']\n",
        "selected_row = selected_row[selected_row['MST'] == '07:40']\n",
        "print(selected_row)"
      ],
      "execution_count": null,
      "outputs": [
        {
          "output_type": "stream",
          "name": "stdout",
          "text": [
            "    DATE (MM/DD)    MST  ...  Moisture  Albedo (CMP11)\n",
            "460          1/1  07:40  ...       0.0          0.1883\n",
            "\n",
            "[1 rows x 17 columns]\n"
          ]
        }
      ]
    },
    {
      "cell_type": "markdown",
      "metadata": {
        "id": "YvYd8BXlounf"
      },
      "source": [
        "## VAE architecture and training"
      ]
    },
    {
      "cell_type": "markdown",
      "metadata": {
        "id": "vlZv1-Wppp9U"
      },
      "source": [
        "### VAE architecture"
      ]
    },
    {
      "cell_type": "code",
      "metadata": {
        "id": "N99I8MnIwq77"
      },
      "source": [
        "class Sampling(layers.Layer):\n",
        "    \"\"\"Uses (z_mean, z_log_var) to sample z, the vector encoding a digit.\"\"\"\n",
        "\n",
        "    def call(self, inputs):\n",
        "        z_mean, z_log_var = inputs\n",
        "        batch = tf.shape(z_mean)[0]\n",
        "        dim = tf.shape(z_mean)[1]\n",
        "        epsilon = tf.keras.backend.random_normal(shape=(batch, dim))\n",
        "        return z_mean + tf.exp(0.5 * z_log_var) * epsilon"
      ],
      "execution_count": 3,
      "outputs": []
    },
    {
      "cell_type": "code",
      "metadata": {
        "colab": {
          "base_uri": "https://localhost:8080/"
        },
        "id": "TgxLQEmrwtjk",
        "outputId": "8a8601f7-7fe0-4f4d-b4aa-c8c3b83be2ba"
      },
      "source": [
        "latent_dim = 10\n",
        "\n",
        "encoder_inputs = keras.Input(shape=(256, 256, 3))\n",
        "x = layers.Conv2D(32, 3, activation=\"relu\", strides=2, padding=\"same\")(encoder_inputs)\n",
        "x = layers.Conv2D(64, 3, activation=\"relu\", strides=2, padding=\"same\")(x)\n",
        "x = layers.Flatten()(x)\n",
        "x = layers.Dense(16, activation=\"relu\")(x)\n",
        "z_mean = layers.Dense(latent_dim, name=\"z_mean\")(x)\n",
        "z_log_var = layers.Dense(latent_dim, name=\"z_log_var\")(x)\n",
        "z = Sampling()([z_mean, z_log_var])\n",
        "encoder = keras.Model(encoder_inputs, [z_mean, z_log_var, z], name=\"encoder\")\n",
        "encoder.summary()"
      ],
      "execution_count": 4,
      "outputs": [
        {
          "output_type": "stream",
          "name": "stdout",
          "text": [
            "Model: \"encoder\"\n",
            "__________________________________________________________________________________________________\n",
            "Layer (type)                    Output Shape         Param #     Connected to                     \n",
            "==================================================================================================\n",
            "input_1 (InputLayer)            [(None, 256, 256, 3) 0                                            \n",
            "__________________________________________________________________________________________________\n",
            "conv2d (Conv2D)                 (None, 128, 128, 32) 896         input_1[0][0]                    \n",
            "__________________________________________________________________________________________________\n",
            "conv2d_1 (Conv2D)               (None, 64, 64, 64)   18496       conv2d[0][0]                     \n",
            "__________________________________________________________________________________________________\n",
            "flatten (Flatten)               (None, 262144)       0           conv2d_1[0][0]                   \n",
            "__________________________________________________________________________________________________\n",
            "dense (Dense)                   (None, 16)           4194320     flatten[0][0]                    \n",
            "__________________________________________________________________________________________________\n",
            "z_mean (Dense)                  (None, 10)           170         dense[0][0]                      \n",
            "__________________________________________________________________________________________________\n",
            "z_log_var (Dense)               (None, 10)           170         dense[0][0]                      \n",
            "__________________________________________________________________________________________________\n",
            "sampling (Sampling)             (None, 10)           0           z_mean[0][0]                     \n",
            "                                                                 z_log_var[0][0]                  \n",
            "==================================================================================================\n",
            "Total params: 4,214,052\n",
            "Trainable params: 4,214,052\n",
            "Non-trainable params: 0\n",
            "__________________________________________________________________________________________________\n"
          ]
        }
      ]
    },
    {
      "cell_type": "code",
      "metadata": {
        "colab": {
          "base_uri": "https://localhost:8080/"
        },
        "id": "WmsHavPjwvl8",
        "outputId": "ebdb0c05-bb9b-40dc-9f0c-4696fdda0aaf"
      },
      "source": [
        "latent_inputs = keras.Input(shape=(latent_dim,))\n",
        "x = layers.Dense(64 * 64 * 64, activation=\"relu\")(latent_inputs)\n",
        "x = layers.Reshape((64, 64, 64))(x)\n",
        "x = layers.Conv2DTranspose(64, 3, activation=\"relu\", strides=2, padding=\"same\")(x)\n",
        "x = layers.Conv2DTranspose(32, 3, activation=\"relu\", strides=2, padding=\"same\")(x)\n",
        "decoder_outputs = layers.Conv2DTranspose(3, 3, activation=\"sigmoid\", padding=\"same\")(x)\n",
        "decoder = keras.Model(latent_inputs, decoder_outputs, name=\"decoder\")\n",
        "decoder.summary()"
      ],
      "execution_count": 5,
      "outputs": [
        {
          "output_type": "stream",
          "name": "stdout",
          "text": [
            "Model: \"decoder\"\n",
            "_________________________________________________________________\n",
            "Layer (type)                 Output Shape              Param #   \n",
            "=================================================================\n",
            "input_2 (InputLayer)         [(None, 10)]              0         \n",
            "_________________________________________________________________\n",
            "dense_1 (Dense)              (None, 262144)            2883584   \n",
            "_________________________________________________________________\n",
            "reshape (Reshape)            (None, 64, 64, 64)        0         \n",
            "_________________________________________________________________\n",
            "conv2d_transpose (Conv2DTran (None, 128, 128, 64)      36928     \n",
            "_________________________________________________________________\n",
            "conv2d_transpose_1 (Conv2DTr (None, 256, 256, 32)      18464     \n",
            "_________________________________________________________________\n",
            "conv2d_transpose_2 (Conv2DTr (None, 256, 256, 3)       867       \n",
            "=================================================================\n",
            "Total params: 2,939,843\n",
            "Trainable params: 2,939,843\n",
            "Non-trainable params: 0\n",
            "_________________________________________________________________\n"
          ]
        }
      ]
    },
    {
      "cell_type": "code",
      "metadata": {
        "id": "AMo7yYrrwxHA"
      },
      "source": [
        "class VAE(keras.Model):\n",
        "    def __init__(self, encoder, decoder, **kwargs):\n",
        "        super(VAE, self).__init__(**kwargs)\n",
        "        self.encoder = encoder\n",
        "        self.decoder = decoder\n",
        "        self.total_loss_tracker = keras.metrics.Mean(name=\"total_loss\")\n",
        "        self.reconstruction_loss_tracker = keras.metrics.Mean(\n",
        "            name=\"reconstruction_loss\"\n",
        "        )\n",
        "        self.kl_loss_tracker = keras.metrics.Mean(name=\"kl_loss\")\n",
        "\n",
        "    @property\n",
        "    def metrics(self):\n",
        "        return [\n",
        "            self.total_loss_tracker,\n",
        "            self.reconstruction_loss_tracker,\n",
        "            self.kl_loss_tracker,\n",
        "        ]\n",
        "\n",
        "    def train_step(self, data):\n",
        "        with tf.GradientTape() as tape:\n",
        "            z_mean, z_log_var, z = self.encoder(data)\n",
        "            reconstruction = self.decoder(z)\n",
        "            reconstruction_loss = tf.reduce_mean(\n",
        "                tf.reduce_sum(\n",
        "                    keras.losses.binary_crossentropy(data, reconstruction), axis=(1, 2)\n",
        "                )\n",
        "            )\n",
        "            kl_loss = -0.5 * (1 + z_log_var - tf.square(z_mean) - tf.exp(z_log_var))\n",
        "            kl_loss = tf.reduce_mean(tf.reduce_sum(kl_loss, axis=1))\n",
        "            total_loss = reconstruction_loss + kl_loss\n",
        "        grads = tape.gradient(total_loss, self.trainable_weights)\n",
        "        self.optimizer.apply_gradients(zip(grads, self.trainable_weights))\n",
        "        self.total_loss_tracker.update_state(total_loss)\n",
        "        self.reconstruction_loss_tracker.update_state(reconstruction_loss)\n",
        "        self.kl_loss_tracker.update_state(kl_loss)\n",
        "        return {\n",
        "            \"loss\": self.total_loss_tracker.result(),\n",
        "            \"reconstruction_loss\": self.reconstruction_loss_tracker.result(),\n",
        "            \"kl_loss\": self.kl_loss_tracker.result(),\n",
        "        }"
      ],
      "execution_count": 6,
      "outputs": []
    },
    {
      "cell_type": "markdown",
      "metadata": {
        "id": "0PWODgaHo4kb"
      },
      "source": [
        "### Data preparation for VAE"
      ]
    },
    {
      "cell_type": "code",
      "metadata": {
        "colab": {
          "base_uri": "https://localhost:8080/"
        },
        "id": "NIRiicftlzoh",
        "outputId": "da41c95c-d739-497f-bc82-374a56d409df"
      },
      "source": [
        "path = '/content/train'\n",
        "files = os.listdir(path)\n",
        "count_folder = 0\n",
        "image_inputs = []\n",
        "for f in files:\n",
        "    #print(f)\n",
        "    image_files = os.listdir(path+'/'+f)\n",
        "    \n",
        "    count_img = 0\n",
        "    for img in image_files:\n",
        "        #print(img)\n",
        "        sample_image = Image.open(path+'/'+f+'/'+img)\n",
        "        sample_image = sample_image.resize((256,256))\n",
        "        sample_image = np.array(sample_image)\n",
        "        image_inputs.append(sample_image)\n",
        "        \n",
        "        count_img += 1\n",
        "        if count_img == 40:\n",
        "            break\n",
        "        \n",
        "    count_folder += 1\n",
        "    print('Folder: ',count_folder)\n",
        "    if count_folder == 100:\n",
        "        break\n",
        "print(count_folder, count_img)\n",
        "image_inputs = np.array(image_inputs).astype('float32') / 255.0\n",
        "print(image_inputs.shape)\n"
      ],
      "execution_count": null,
      "outputs": [
        {
          "output_type": "stream",
          "name": "stdout",
          "text": [
            "Folder:  1\n",
            "Folder:  2\n",
            "Folder:  3\n",
            "Folder:  4\n",
            "Folder:  5\n",
            "Folder:  6\n",
            "Folder:  7\n",
            "Folder:  8\n",
            "Folder:  9\n",
            "Folder:  10\n",
            "Folder:  11\n",
            "Folder:  12\n",
            "Folder:  13\n",
            "Folder:  14\n",
            "Folder:  15\n",
            "Folder:  16\n",
            "Folder:  17\n",
            "Folder:  18\n",
            "Folder:  19\n",
            "Folder:  20\n",
            "Folder:  21\n",
            "Folder:  22\n",
            "Folder:  23\n",
            "Folder:  24\n",
            "Folder:  25\n",
            "Folder:  26\n",
            "Folder:  27\n",
            "Folder:  28\n",
            "Folder:  29\n",
            "Folder:  30\n",
            "Folder:  31\n",
            "Folder:  32\n",
            "Folder:  33\n",
            "Folder:  34\n",
            "Folder:  35\n",
            "Folder:  36\n",
            "Folder:  37\n",
            "Folder:  38\n",
            "Folder:  39\n",
            "Folder:  40\n",
            "Folder:  41\n",
            "Folder:  42\n",
            "Folder:  43\n",
            "Folder:  44\n",
            "Folder:  45\n",
            "Folder:  46\n",
            "Folder:  47\n",
            "Folder:  48\n",
            "Folder:  49\n",
            "Folder:  50\n",
            "Folder:  51\n",
            "Folder:  52\n",
            "Folder:  53\n",
            "Folder:  54\n",
            "Folder:  55\n",
            "Folder:  56\n",
            "Folder:  57\n",
            "Folder:  58\n",
            "Folder:  59\n",
            "Folder:  60\n",
            "Folder:  61\n",
            "Folder:  62\n",
            "Folder:  63\n",
            "Folder:  64\n",
            "Folder:  65\n",
            "Folder:  66\n",
            "Folder:  67\n",
            "Folder:  68\n",
            "Folder:  69\n",
            "Folder:  70\n",
            "Folder:  71\n",
            "Folder:  72\n",
            "Folder:  73\n",
            "Folder:  74\n",
            "Folder:  75\n",
            "Folder:  76\n",
            "Folder:  77\n",
            "Folder:  78\n",
            "Folder:  79\n",
            "Folder:  80\n",
            "Folder:  81\n",
            "Folder:  82\n",
            "Folder:  83\n",
            "Folder:  84\n",
            "Folder:  85\n",
            "Folder:  86\n",
            "Folder:  87\n",
            "Folder:  88\n",
            "Folder:  89\n",
            "Folder:  90\n",
            "Folder:  91\n",
            "Folder:  92\n",
            "Folder:  93\n",
            "Folder:  94\n",
            "Folder:  95\n",
            "Folder:  96\n",
            "Folder:  97\n",
            "Folder:  98\n",
            "Folder:  99\n",
            "Folder:  100\n",
            "Folder:  101\n",
            "Folder:  102\n",
            "Folder:  103\n",
            "Folder:  104\n",
            "Folder:  105\n",
            "Folder:  106\n",
            "Folder:  107\n",
            "Folder:  108\n",
            "Folder:  109\n",
            "Folder:  110\n",
            "Folder:  111\n",
            "Folder:  112\n",
            "Folder:  113\n",
            "Folder:  114\n",
            "Folder:  115\n",
            "Folder:  116\n",
            "Folder:  117\n",
            "Folder:  118\n",
            "Folder:  119\n",
            "Folder:  120\n",
            "Folder:  121\n",
            "Folder:  122\n",
            "Folder:  123\n",
            "Folder:  124\n",
            "Folder:  125\n",
            "Folder:  126\n",
            "Folder:  127\n",
            "Folder:  128\n",
            "Folder:  129\n",
            "Folder:  130\n",
            "Folder:  131\n",
            "Folder:  132\n",
            "Folder:  133\n",
            "Folder:  134\n",
            "Folder:  135\n",
            "Folder:  136\n",
            "Folder:  137\n",
            "Folder:  138\n",
            "Folder:  139\n",
            "Folder:  140\n",
            "Folder:  141\n",
            "Folder:  142\n",
            "Folder:  143\n",
            "Folder:  144\n",
            "Folder:  145\n",
            "Folder:  146\n",
            "Folder:  147\n",
            "Folder:  148\n",
            "Folder:  149\n",
            "Folder:  150\n",
            "Folder:  151\n",
            "Folder:  152\n",
            "Folder:  153\n",
            "Folder:  154\n",
            "Folder:  155\n",
            "Folder:  156\n",
            "Folder:  157\n",
            "Folder:  158\n",
            "Folder:  159\n",
            "Folder:  160\n",
            "Folder:  161\n",
            "Folder:  162\n",
            "Folder:  163\n",
            "Folder:  164\n",
            "Folder:  165\n",
            "Folder:  166\n",
            "Folder:  167\n",
            "Folder:  168\n",
            "Folder:  169\n",
            "Folder:  170\n",
            "Folder:  171\n",
            "Folder:  172\n",
            "Folder:  173\n",
            "Folder:  174\n",
            "Folder:  175\n",
            "Folder:  176\n",
            "Folder:  177\n",
            "Folder:  178\n",
            "Folder:  179\n",
            "Folder:  180\n",
            "Folder:  181\n",
            "Folder:  182\n",
            "Folder:  183\n",
            "Folder:  184\n",
            "Folder:  185\n",
            "Folder:  186\n",
            "Folder:  187\n",
            "Folder:  188\n",
            "Folder:  189\n",
            "Folder:  190\n",
            "Folder:  191\n",
            "Folder:  192\n",
            "Folder:  193\n",
            "Folder:  194\n",
            "Folder:  195\n",
            "Folder:  196\n",
            "Folder:  197\n",
            "Folder:  198\n",
            "Folder:  199\n",
            "Folder:  200\n",
            "200 40\n",
            "(7769, 256, 256, 3)\n"
          ]
        }
      ]
    },
    {
      "cell_type": "markdown",
      "metadata": {
        "id": "iG26jSNHo-91"
      },
      "source": [
        "### Training VAE and saving weights"
      ]
    },
    {
      "cell_type": "code",
      "metadata": {
        "id": "RLgAvWQWw_ba"
      },
      "source": [
        "vae = VAE(encoder, decoder)\n",
        "vae.compile(optimizer=keras.optimizers.Adam())\n",
        "vae.fit(image_inputs, epochs=100, batch_size=64) "
      ],
      "execution_count": null,
      "outputs": []
    },
    {
      "cell_type": "code",
      "metadata": {
        "id": "mdeIdfeFxAgg"
      },
      "source": [
        "path='/content/drive/My Drive/Shell_AI_train/VAE_weights'\n",
        "vae.save_weights(path, save_format='tf')"
      ],
      "execution_count": null,
      "outputs": []
    },
    {
      "cell_type": "markdown",
      "metadata": {
        "id": "LHQQDBEopDAy"
      },
      "source": [
        "### Loading saved model"
      ]
    },
    {
      "cell_type": "code",
      "metadata": {
        "colab": {
          "base_uri": "https://localhost:8080/"
        },
        "id": "FKfNjBfixEG8",
        "outputId": "f0e96685-f937-4f78-ed40-9fdc5b0d2718"
      },
      "source": [
        "loaded_model = VAE(encoder, decoder)\n",
        "savedModel = loaded_model.load_weights('/content/drive/My Drive/Shell_AI_train//VAE_weights')\n",
        "print('Model Loaded!')"
      ],
      "execution_count": 7,
      "outputs": [
        {
          "output_type": "stream",
          "name": "stdout",
          "text": [
            "Model Loaded!\n"
          ]
        }
      ]
    },
    {
      "cell_type": "code",
      "metadata": {
        "colab": {
          "base_uri": "https://localhost:8080/"
        },
        "id": "_w62n-eS22jQ",
        "outputId": "48895815-0462-426f-df11-6a3cddfeaf19"
      },
      "source": [
        "image_filepaths = ['/content/train/0101/0101074000.jpg']\n",
        "x_test = []\n",
        "for img in image_filepaths:\n",
        "    x_test.append(np.array(Image.open(img).resize((256,256))))\n",
        "x_test = np.array(x_test).astype('float32') / 255.0\n",
        "latent_vectors = loaded_model.encoder.predict(x_test)[0][0]\n",
        "print(latent_vectors)"
      ],
      "execution_count": null,
      "outputs": [
        {
          "output_type": "stream",
          "name": "stdout",
          "text": [
            "[-0.2699054  -0.04153442  0.0513358   0.10325338 -0.15685268  0.10583416\n",
            " -0.1099227   0.05887362 -0.58405864 -0.07685094]\n"
          ]
        }
      ]
    },
    {
      "cell_type": "code",
      "metadata": {
        "colab": {
          "base_uri": "https://localhost:8080/"
        },
        "id": "3L9rGzms6tt9",
        "outputId": "bf07bc44-8fcd-4637-8d13-146d3339c222"
      },
      "source": [
        "print(df.columns)"
      ],
      "execution_count": null,
      "outputs": [
        {
          "output_type": "stream",
          "name": "stdout",
          "text": [
            "Index(['DATE (MM/DD)', 'MST', 'Global CMP22 (vent/cor) [W/m^2]',\n",
            "       'Direct sNIP [W/m^2]', 'Azimuth Angle [degrees]',\n",
            "       'Tower Dry Bulb Temp [deg C]', 'Tower Wet Bulb Temp [deg C]',\n",
            "       'Tower Dew Point Temp [deg C]', 'Tower RH [%]', 'Total Cloud Cover [%]',\n",
            "       'Peak Wind Speed @ 6ft [m/s]', 'Avg Wind Direction @ 6ft [deg from N]',\n",
            "       'Station Pressure [mBar]', 'Precipitation (Accumulated) [mm]',\n",
            "       'Snow Depth [cm]', 'Moisture', 'Albedo (CMP11)'],\n",
            "      dtype='object')\n"
          ]
        }
      ]
    },
    {
      "cell_type": "markdown",
      "metadata": {
        "id": "Y_EjWfinpUkN"
      },
      "source": [
        "### Converting -1 values to 0"
      ]
    },
    {
      "cell_type": "code",
      "metadata": {
        "id": "fFL_WH8c68_s"
      },
      "source": [
        "df['Total Cloud Cover [%]'].replace([-1],[0],inplace=True)"
      ],
      "execution_count": null,
      "outputs": []
    },
    {
      "cell_type": "markdown",
      "metadata": {
        "id": "WOHxpAw9pYRq"
      },
      "source": [
        "### Checking for null values"
      ]
    },
    {
      "cell_type": "code",
      "metadata": {
        "colab": {
          "base_uri": "https://localhost:8080/"
        },
        "id": "Tfp5jrrg7dNa",
        "outputId": "bf48b3ac-10fb-4d82-9a92-663674477bb6"
      },
      "source": [
        "df.isnull().sum() "
      ],
      "execution_count": null,
      "outputs": [
        {
          "output_type": "execute_result",
          "data": {
            "text/plain": [
              "DATE (MM/DD)                             0\n",
              "MST                                      0\n",
              "Global CMP22 (vent/cor) [W/m^2]          0\n",
              "Direct sNIP [W/m^2]                      0\n",
              "Azimuth Angle [degrees]                  0\n",
              "Tower Dry Bulb Temp [deg C]              0\n",
              "Tower Wet Bulb Temp [deg C]              0\n",
              "Tower Dew Point Temp [deg C]             0\n",
              "Tower RH [%]                             0\n",
              "Total Cloud Cover [%]                    0\n",
              "Peak Wind Speed @ 6ft [m/s]              0\n",
              "Avg Wind Direction @ 6ft [deg from N]    0\n",
              "Station Pressure [mBar]                  0\n",
              "Precipitation (Accumulated) [mm]         0\n",
              "Snow Depth [cm]                          0\n",
              "Moisture                                 0\n",
              "Albedo (CMP11)                           0\n",
              "dtype: int64"
            ]
          },
          "metadata": {},
          "execution_count": 16
        }
      ]
    },
    {
      "cell_type": "markdown",
      "metadata": {
        "id": "ugbRu-AVpj9q"
      },
      "source": [
        "## LSTM architecture and training"
      ]
    },
    {
      "cell_type": "markdown",
      "metadata": {
        "id": "BT-mWYvvpeGv"
      },
      "source": [
        "### Creating data for LSTM training"
      ]
    },
    {
      "cell_type": "code",
      "metadata": {
        "id": "rkk7JDq_mBqh",
        "colab": {
          "base_uri": "https://localhost:8080/",
          "height": 1000
        },
        "outputId": "ee872333-2ed5-4c66-9324-09b2ee1cc85b"
      },
      "source": [
        "path = '/content/train'\n",
        "files = os.listdir(path)\n",
        "count_folder = 0\n",
        "input_sequences_dict = {}\n",
        "output_sequences_dict = {}\n",
        "features_considered = ['Global CMP22 (vent/cor) [W/m^2]',\n",
        "       'Direct sNIP [W/m^2]', 'Azimuth Angle [degrees]',\n",
        "       'Tower Dry Bulb Temp [deg C]', 'Tower Wet Bulb Temp [deg C]',\n",
        "       'Tower Dew Point Temp [deg C]', 'Tower RH [%]', \n",
        "       'Peak Wind Speed @ 6ft [m/s]', 'Avg Wind Direction @ 6ft [deg from N]',\n",
        "       'Station Pressure [mBar]', 'Precipitation (Accumulated) [mm]',\n",
        "       'Snow Depth [cm]', 'Moisture', 'Albedo (CMP11)', 'Total Cloud Cover [%]']\n",
        "\n",
        "for f in files:\n",
        "    #print(f)\n",
        "    image_files = os.listdir(path+'/'+f)\n",
        "    \n",
        "    count_img = 0\n",
        "    full_vectors = []\n",
        "    output_vectors = []\n",
        "    for img in image_files:\n",
        "        #print(img)\n",
        "        img_val = Image.open(path+'/'+f+'/'+img)\n",
        "        img_val = img_val.resize((256,256))\n",
        "        img_val = [np.array(img_val)]\n",
        "        img_val = np.array(img_val).astype('float32') / 255.0\n",
        "        latent_vectors = list(loaded_model.encoder.predict(img_val)[0][0])\n",
        "        #print(latent_vectors)\n",
        "        cur_date = str(int(f[:2])) + '/' + str(int(f[2:]))\n",
        "        #print(cur_date)\n",
        "        cur_time = img.split('.')[0]\n",
        "        cur_time = cur_time[4:6] + ':' + cur_time[6:8]\n",
        "        #print(cur_time)\n",
        "        selected_row = df[df['DATE (MM/DD)'] == cur_date]\n",
        "        selected_row = selected_row[selected_row['MST'] == cur_time]\n",
        "        data_vectors = []\n",
        "        try:\n",
        "          for feat in features_considered:\n",
        "            data_vectors.append(float(selected_row[feat]))\n",
        "          full_vectors.append(latent_vectors + data_vectors)\n",
        "          cur_out_vector = []\n",
        "          output_vectors.append(float(selected_row['Total Cloud Cover [%]']))\n",
        "        except:\n",
        "          pass\n",
        "        count_img += 1\n",
        "        if count_img == 40:\n",
        "            break\n",
        "    input_sequences_dict[cur_date] = full_vectors\n",
        "    output_sequences_dict[cur_date] = output_vectors\n",
        "\n",
        "    count_folder += 1\n",
        "    print('Folder: ', count_folder)\n",
        "    #if count_folder == 2:\n",
        "        #break"
      ],
      "execution_count": null,
      "outputs": [
        {
          "output_type": "stream",
          "name": "stdout",
          "text": [
            "Folder:  1\n",
            "Folder:  2\n",
            "Folder:  3\n",
            "Folder:  4\n",
            "Folder:  5\n",
            "Folder:  6\n",
            "Folder:  7\n",
            "Folder:  8\n",
            "Folder:  9\n",
            "Folder:  10\n",
            "Folder:  11\n",
            "Folder:  12\n",
            "Folder:  13\n",
            "Folder:  14\n",
            "Folder:  15\n",
            "Folder:  16\n",
            "Folder:  17\n",
            "Folder:  18\n",
            "Folder:  19\n",
            "Folder:  20\n",
            "Folder:  21\n",
            "Folder:  22\n",
            "Folder:  23\n",
            "Folder:  24\n",
            "Folder:  25\n",
            "Folder:  26\n",
            "Folder:  27\n",
            "Folder:  28\n",
            "Folder:  29\n",
            "Folder:  30\n",
            "Folder:  31\n",
            "Folder:  32\n",
            "Folder:  33\n",
            "Folder:  34\n",
            "Folder:  35\n",
            "Folder:  36\n",
            "Folder:  37\n",
            "Folder:  38\n",
            "Folder:  39\n",
            "Folder:  40\n",
            "Folder:  41\n",
            "Folder:  42\n",
            "Folder:  43\n",
            "Folder:  44\n",
            "Folder:  45\n",
            "Folder:  46\n",
            "Folder:  47\n",
            "Folder:  48\n",
            "Folder:  49\n",
            "Folder:  50\n",
            "Folder:  51\n",
            "Folder:  52\n",
            "Folder:  53\n",
            "Folder:  54\n",
            "Folder:  55\n",
            "Folder:  56\n",
            "Folder:  57\n",
            "Folder:  58\n",
            "Folder:  59\n",
            "Folder:  60\n",
            "Folder:  61\n",
            "Folder:  62\n",
            "Folder:  63\n",
            "Folder:  64\n",
            "Folder:  65\n",
            "Folder:  66\n",
            "Folder:  67\n",
            "Folder:  68\n",
            "Folder:  69\n",
            "Folder:  70\n",
            "Folder:  71\n",
            "Folder:  72\n",
            "Folder:  73\n",
            "Folder:  74\n",
            "Folder:  75\n",
            "Folder:  76\n",
            "Folder:  77\n",
            "Folder:  78\n",
            "Folder:  79\n",
            "Folder:  80\n",
            "Folder:  81\n",
            "Folder:  82\n",
            "Folder:  83\n",
            "Folder:  84\n",
            "Folder:  85\n",
            "Folder:  86\n",
            "Folder:  87\n",
            "Folder:  88\n",
            "Folder:  89\n",
            "Folder:  90\n",
            "Folder:  91\n",
            "Folder:  92\n",
            "Folder:  93\n",
            "Folder:  94\n",
            "Folder:  95\n",
            "Folder:  96\n",
            "Folder:  97\n",
            "Folder:  98\n",
            "Folder:  99\n",
            "Folder:  100\n",
            "Folder:  101\n",
            "Folder:  102\n",
            "Folder:  103\n",
            "Folder:  104\n",
            "Folder:  105\n",
            "Folder:  106\n",
            "Folder:  107\n",
            "Folder:  108\n",
            "Folder:  109\n",
            "Folder:  110\n",
            "Folder:  111\n",
            "Folder:  112\n",
            "Folder:  113\n",
            "Folder:  114\n",
            "Folder:  115\n"
          ]
        },
        {
          "output_type": "error",
          "ename": "KeyboardInterrupt",
          "evalue": "ignored",
          "traceback": [
            "\u001b[0;31m---------------------------------------------------------------------------\u001b[0m",
            "\u001b[0;31mKeyboardInterrupt\u001b[0m                         Traceback (most recent call last)",
            "\u001b[0;32m<ipython-input-12-440c901b6edd>\u001b[0m in \u001b[0;36m<module>\u001b[0;34m()\u001b[0m\n\u001b[1;32m     22\u001b[0m         \u001b[0;31m#print(img)\u001b[0m\u001b[0;34m\u001b[0m\u001b[0;34m\u001b[0m\u001b[0;34m\u001b[0m\u001b[0m\n\u001b[1;32m     23\u001b[0m         \u001b[0mimg_val\u001b[0m \u001b[0;34m=\u001b[0m \u001b[0mImage\u001b[0m\u001b[0;34m.\u001b[0m\u001b[0mopen\u001b[0m\u001b[0;34m(\u001b[0m\u001b[0mpath\u001b[0m\u001b[0;34m+\u001b[0m\u001b[0;34m'/'\u001b[0m\u001b[0;34m+\u001b[0m\u001b[0mf\u001b[0m\u001b[0;34m+\u001b[0m\u001b[0;34m'/'\u001b[0m\u001b[0;34m+\u001b[0m\u001b[0mimg\u001b[0m\u001b[0;34m)\u001b[0m\u001b[0;34m\u001b[0m\u001b[0;34m\u001b[0m\u001b[0m\n\u001b[0;32m---> 24\u001b[0;31m         \u001b[0mimg_val\u001b[0m \u001b[0;34m=\u001b[0m \u001b[0mimg_val\u001b[0m\u001b[0;34m.\u001b[0m\u001b[0mresize\u001b[0m\u001b[0;34m(\u001b[0m\u001b[0;34m(\u001b[0m\u001b[0;36m256\u001b[0m\u001b[0;34m,\u001b[0m\u001b[0;36m256\u001b[0m\u001b[0;34m)\u001b[0m\u001b[0;34m)\u001b[0m\u001b[0;34m\u001b[0m\u001b[0;34m\u001b[0m\u001b[0m\n\u001b[0m\u001b[1;32m     25\u001b[0m         \u001b[0mimg_val\u001b[0m \u001b[0;34m=\u001b[0m \u001b[0;34m[\u001b[0m\u001b[0mnp\u001b[0m\u001b[0;34m.\u001b[0m\u001b[0marray\u001b[0m\u001b[0;34m(\u001b[0m\u001b[0mimg_val\u001b[0m\u001b[0;34m)\u001b[0m\u001b[0;34m]\u001b[0m\u001b[0;34m\u001b[0m\u001b[0;34m\u001b[0m\u001b[0m\n\u001b[1;32m     26\u001b[0m         \u001b[0mimg_val\u001b[0m \u001b[0;34m=\u001b[0m \u001b[0mnp\u001b[0m\u001b[0;34m.\u001b[0m\u001b[0marray\u001b[0m\u001b[0;34m(\u001b[0m\u001b[0mimg_val\u001b[0m\u001b[0;34m)\u001b[0m\u001b[0;34m.\u001b[0m\u001b[0mastype\u001b[0m\u001b[0;34m(\u001b[0m\u001b[0;34m'float32'\u001b[0m\u001b[0;34m)\u001b[0m \u001b[0;34m/\u001b[0m \u001b[0;36m255.0\u001b[0m\u001b[0;34m\u001b[0m\u001b[0;34m\u001b[0m\u001b[0m\n",
            "\u001b[0;32m/usr/local/lib/python3.7/dist-packages/PIL/Image.py\u001b[0m in \u001b[0;36mresize\u001b[0;34m(self, size, resample, box, reducing_gap)\u001b[0m\n\u001b[1;32m   1884\u001b[0m             \u001b[0;32mreturn\u001b[0m \u001b[0mim\u001b[0m\u001b[0;34m.\u001b[0m\u001b[0mconvert\u001b[0m\u001b[0;34m(\u001b[0m\u001b[0mself\u001b[0m\u001b[0;34m.\u001b[0m\u001b[0mmode\u001b[0m\u001b[0;34m)\u001b[0m\u001b[0;34m\u001b[0m\u001b[0;34m\u001b[0m\u001b[0m\n\u001b[1;32m   1885\u001b[0m \u001b[0;34m\u001b[0m\u001b[0m\n\u001b[0;32m-> 1886\u001b[0;31m         \u001b[0mself\u001b[0m\u001b[0;34m.\u001b[0m\u001b[0mload\u001b[0m\u001b[0;34m(\u001b[0m\u001b[0;34m)\u001b[0m\u001b[0;34m\u001b[0m\u001b[0;34m\u001b[0m\u001b[0m\n\u001b[0m\u001b[1;32m   1887\u001b[0m \u001b[0;34m\u001b[0m\u001b[0m\n\u001b[1;32m   1888\u001b[0m         \u001b[0;32mif\u001b[0m \u001b[0mreducing_gap\u001b[0m \u001b[0;32mis\u001b[0m \u001b[0;32mnot\u001b[0m \u001b[0;32mNone\u001b[0m \u001b[0;32mand\u001b[0m \u001b[0mresample\u001b[0m \u001b[0;34m!=\u001b[0m \u001b[0mNEAREST\u001b[0m\u001b[0;34m:\u001b[0m\u001b[0;34m\u001b[0m\u001b[0;34m\u001b[0m\u001b[0m\n",
            "\u001b[0;32m/usr/local/lib/python3.7/dist-packages/PIL/ImageFile.py\u001b[0m in \u001b[0;36mload\u001b[0;34m(self)\u001b[0m\n\u001b[1;32m    249\u001b[0m \u001b[0;34m\u001b[0m\u001b[0m\n\u001b[1;32m    250\u001b[0m                             \u001b[0mb\u001b[0m \u001b[0;34m=\u001b[0m \u001b[0mb\u001b[0m \u001b[0;34m+\u001b[0m \u001b[0ms\u001b[0m\u001b[0;34m\u001b[0m\u001b[0;34m\u001b[0m\u001b[0m\n\u001b[0;32m--> 251\u001b[0;31m                             \u001b[0mn\u001b[0m\u001b[0;34m,\u001b[0m \u001b[0merr_code\u001b[0m \u001b[0;34m=\u001b[0m \u001b[0mdecoder\u001b[0m\u001b[0;34m.\u001b[0m\u001b[0mdecode\u001b[0m\u001b[0;34m(\u001b[0m\u001b[0mb\u001b[0m\u001b[0;34m)\u001b[0m\u001b[0;34m\u001b[0m\u001b[0;34m\u001b[0m\u001b[0m\n\u001b[0m\u001b[1;32m    252\u001b[0m                             \u001b[0;32mif\u001b[0m \u001b[0mn\u001b[0m \u001b[0;34m<\u001b[0m \u001b[0;36m0\u001b[0m\u001b[0;34m:\u001b[0m\u001b[0;34m\u001b[0m\u001b[0;34m\u001b[0m\u001b[0m\n\u001b[1;32m    253\u001b[0m                                 \u001b[0;32mbreak\u001b[0m\u001b[0;34m\u001b[0m\u001b[0;34m\u001b[0m\u001b[0m\n",
            "\u001b[0;31mKeyboardInterrupt\u001b[0m: "
          ]
        }
      ]
    },
    {
      "cell_type": "code",
      "metadata": {
        "colab": {
          "base_uri": "https://localhost:8080/"
        },
        "id": "WG-YSx619Hes",
        "outputId": "9c5cb4c7-6c5f-435f-961c-8bbe40ca4962"
      },
      "source": [
        "print(input_sequences_dict['3/31'])"
      ],
      "execution_count": null,
      "outputs": [
        {
          "output_type": "stream",
          "name": "stdout",
          "text": [
            "[[-0.2294909, -0.0630684, 0.06996822, 0.074453436, -0.063876666, 0.04023607, -0.11971003, 0.046900786, -0.5512519, -0.08772144, 6.39404, -1.1869, 276.04363, 15.08, 4.695, -8.405, 17.43, 6.45, 273.5, 811.3960000000002, 0.0, 0.8340000000000001, 0.0, 0.0], [-0.26682532, -0.05661689, 0.008315764, 0.065918736, -0.14080785, 0.11042614, -0.068679035, 0.099684164, -0.57226366, -0.08756025, 936.102, 1026.96, 157.12689, 15.96, 6.138, -4.662, 22.78, 3.95, 38.23, 814.684, 0.0, 1.134, 0.0, 0.1778], [-0.24607198, -0.038348027, 0.066233784, 0.064619064, -0.09147489, 0.07045599, -0.09418832, 0.05147448, -0.5486262, -0.06040448, 156.14, 193.038, 259.76503, 15.87, 5.716, -6.084, 20.28, 1.45, 126.5, 811.7760000000002, 0.0, 0.8809999999999999, 0.0, 0.1842], [-0.20390595, -0.057251967, 0.0784675, 0.10021931, -0.07569167, 0.043227628, -0.09600215, 0.003867887, -0.50192606, -0.090959534, 8.33411, 6.98796, 85.81266, 5.416, -0.013, -7.612999999999999, 35.66, 3.2, 289.8, 817.185, 0.0, 0.983, 0.0, 0.0795], [-0.29488307, -0.006779909, 0.03146945, 0.13298564, -0.19205701, 0.16097921, -0.11613911, 0.07730508, -0.5371758, -0.07689293, 147.153, 3.03652, 246.63899, 16.41, 6.0070000000000014, -5.792999999999998, 20.09, 3.7, 112.7, 811.835, 0.0, 0.88, 0.0, 0.1618], [-0.26115468, -0.060043737, 0.027199604, 0.09083973, -0.14476262, 0.06322278, -0.13309145, 0.06825649, -0.59275454, -0.118713506, 894.012, 955.224, 165.21257, 16.2, 6.0379999999999985, -5.4620000000000015, 20.95, 4.95, 72.23, 814.405, 0.0, 1.085, 0.0, 0.1773], [-0.20526256, -0.07743989, 0.060379837, 0.027569987, -0.035830833, -0.022632971, -0.11779465, 0.04449857, -0.5447364, -0.09292647, 214.707, 720.079, 264.79827, 17.09, 6.157, -6.343, 18.35, 2.2, 106.3, 811.712, 0.0, 0.887, 0.0, 0.2099], [-0.22347166, -0.055389933, 0.027590074, 0.06965254, -0.10195507, 0.057915807, -0.08638295, 0.056058727, -0.5103179, -0.09951334, 580.4169999999998, 738.8710000000002, 115.70941, 12.95, 4.518, -5.572, 25.6, 3.2, 79.68, 816.373, 0.0, 0.847, 0.0, 0.2086], [-0.2010782, -0.00144035, 0.047990806, 0.048597984, -0.028607696, 0.058074072, -0.078251496, 0.035015814, -0.44856957, -0.091997564, 133.034, 149.499, 258.02852, 15.74, 5.674, -5.926, 20.73, 0.7, 126.2, 811.8330000000002, 0.0, 0.892, 0.0, 0.2889], [-0.25741464, -0.053576346, 0.07730621, 0.047107495, -0.10046492, 0.0976513, -0.038112573, 0.047702402, -0.6084543, -0.03668827, 826.318, 1003.64, 227.04317000000003, 18.12, 6.837999999999999, -5.742000000000001, 18.11, 3.7, 54.83, 812.3539999999998, 0.0, 1.16, 0.0, 0.1874], [-0.21822128, -0.04803201, 0.033341788, 0.10635924, -0.09536676, 0.09288329, -0.13885756, 0.042624187, -0.49348208, -0.120309606, 542.379, 885.962, 105.79306, 11.9, 3.884, -6.016, 26.4, 1.7, 198.5, 816.674, 0.0, 0.718, 0.0, 0.2026], [-0.23838241, -0.03441274, 0.031734873, 0.06715957, -0.12486473, 0.07044036, -0.12343602, 0.054944918, -0.5310625, -0.08926141, 738.319, 790.243, 122.56946, 12.19, 4.0310000000000015, -5.869, 26.23, 3.95, 112.9, 816.128, 0.0, 1.183, 0.0, 0.2008], [-0.2611284, -0.052381657, 0.035690024, 0.060785882, -0.17137967, 0.114383526, -0.07955715, 0.07605643, -0.5752612, -0.036827352, 475.974, 274.879, 182.30859, 15.59, 5.854, -5.146, 22.38, 4.7, 85.4, 813.995, 0.0, 1.162, 0.0, 0.1576], [-0.2812217, -0.040039875, 0.053188358, 0.07627675, -0.15671206, 0.12190613, -0.056549784, 0.06657785, -0.5797173, -0.038027152, 916.472, 1008.63, 224.06828, 18.36, 7.153, -4.947, 19.1, 3.2, 65.3, 812.457, 0.0, 1.088, 0.0, 0.1859], [-0.25610417, -0.081750765, 0.05021954, 0.1119036, -0.14922677, 0.08853983, -0.090982005, 0.051208347, -0.58586746, -0.08981159, 932.788, 1028.84, 199.17146, 16.45, 6.065, -5.735, 20.14, 2.2, 192.0, 813.418, 0.0, 1.003, 0.0, 0.1799], [-0.2403993, -0.042866707, 0.0670329, 0.04664503, -0.067261726, 0.088935316, -0.053610086, 0.068871565, -0.5016683, -0.022949442, 94.166, 1.5874700000000002, 254.43878, 15.44, 5.6389999999999985, -5.6610000000000005, 21.62, 1.7, 105.8, 811.803, 0.0, 0.83, 0.0, 0.1524], [-0.24767643, -0.028808665, 0.0264114, 0.095726594, -0.120169505, 0.08177153, -0.11239248, 0.054868687, -0.51129293, -0.11449765, 325.212, 774.947, 97.09263, 8.22, 2.233, -5.367000000000001, 35.72, 2.2, 236.8, 817.1339999999999, 0.0, 0.8009999999999999, 0.0, 0.2263], [-0.23855019, -0.029243974, 0.022559844, 0.035271738, -0.10280503, 0.09498982, -0.11030254, 0.067096375, -0.5353235, -0.07705789, 312.961, 193.566, 113.59332, 11.71, 3.475, -6.925, 24.71, 2.95, 131.7, 816.3530000000002, 0.0, 0.858, 0.0, 0.2104], [-0.18932597, -0.09020947, 0.06899756, 0.034673184, -0.013103418, -0.0364502, -0.11962604, 0.032888003, -0.53507984, -0.10264452, 108.66, 576.148, 269.6568, 17.06, 6.235, -6.165, 18.67, 0.95, 163.9, 811.678, 0.0, 0.728, 0.0, 0.1795], [-0.23228513, -0.06708657, 0.06264794, 0.071301945, -0.06647196, 0.044948533, -0.113327265, 0.056909695, -0.544819, -0.08464075, 12.1088, -1.17206, 274.44574, 15.36, 5.197, -7.002999999999999, 19.35, 1.95, 306.0, 811.557, 0.0, 0.823, 0.0, 0.0], [-0.22395581, -0.105350316, 0.05180069, 0.02954784, -0.07447771, 0.012234651, -0.048841976, 0.045194894, -0.6072018, -0.08682909, 921.113, 1027.49, 153.27152, 15.76, 5.689, -5.9110000000000005, 20.73, 3.7, 36.31, 814.872, 0.0, 0.723, 0.0, 0.1781], [-0.21242541, -0.08364105, 0.06230867, 0.048241794, -0.04091096, 0.0063335747, -0.109137125, 0.05089318, -0.5437389, -0.090541616, 75.4087, 493.046, 271.25592, 16.28, 5.987, -5.803, 20.24, 0.0, 0.0, 811.6210000000002, 0.0, 0.877, 0.0, 0.0834], [-0.26139414, -0.06222728, 0.030354304, 0.14818971, -0.17646438, 0.14382212, -0.11091511, 0.0647971, -0.532248, -0.09696419, 95.6861, 2.2402900000000003, 93.81074, 6.957999999999998, 1.138, -6.7620000000000005, 34.52, 0.95, 254.0, 817.2760000000002, 0.0, 0.851, 0.0, 0.1828], [-0.25410876, -0.053460218, 0.038054682, 0.07952152, -0.11587505, 0.12809286, -0.12514368, 0.06061177, -0.5803277, -0.08931908, 572.595, 902.886, 107.6564, 12.14, 3.699, -6.801, 24.28, 1.95, 204.2, 816.574, 0.0, 0.622, 0.0, 0.2014], [-0.24714959, 0.006183304, 0.033236414, 0.05809308, -0.103311524, 0.10916505, -0.08439826, 0.07198167, -0.4887246, -0.06272123, 110.336, 0.885241, 248.68144, 15.91, 5.667999999999998, -6.332000000000002, 19.8, 2.45, 105.2, 811.8580000000002, 0.0, 0.853, 0.0, 0.155], [-0.19650981, -0.03433195, 0.05220214, 0.05250041, -0.048538484, 0.055459462, -0.072280064, 0.042782955, -0.4478944, -0.06644145, 108.807, 1.26108, 252.57509, 15.6, 5.709, -5.671, 21.38, 0.95, 76.34, 811.904, 0.0, 0.721, 0.0, 0.1586], [-0.24678339, -0.020610899, 0.086521864, 0.05625639, -0.07263976, 0.1011404, -0.07069588, 0.030088514, -0.549182, -0.050695486, 663.081, 677.887, 229.88305, 18.07, 6.917000000000002, -5.363, 18.77, 2.7, 113.0, 812.306, 0.0, 1.001, 0.0, 0.1777], [-0.24734442, -0.041934993, 0.047789745, 0.12469059, -0.14578679, 0.13170896, -0.074788034, 0.049471207, -0.49993953, -0.069765836, 38.6907, 1.18196, 92.19516, 6.908, 1.008, -6.892, 34.25, 2.7, 252.6, 817.311, 0.0, 0.7609999999999999, 0.0, 0.165], [-0.22412694, -0.07398029, 0.06640177, 0.06363481, -0.05576642, 0.022552237, -0.11922425, 0.050002076, -0.5493179, -0.08932464, 26.1028, 106.341, 272.85103, 16.19, 5.9289999999999985, -5.671, 20.59, 0.0, 0.0, 811.559, 0.0, 0.898, 0.0, 0.0], [-0.29006684, -0.06185647, 0.044543244, 0.08900068, -0.17963204, 0.11429306, -0.08103265, 0.074614696, -0.63053954, -0.06259637, 942.242, 1025.63, 186.61769, 16.07, 6.355, -4.245, 23.44, 3.95, 138.3, 813.7769999999998, 0.0, 1.414, 0.0, 0.1777], [-0.21253361, -0.0601839, 0.060999002, 0.09394679, -0.07048582, 0.032718226, -0.11058022, 0.020892136, -0.5097541, -0.113326564, 7.502680000000002, 99.4823, 84.21875, 5.643, 0.16, -7.64, 35.02, 1.95, 269.9, 817.085, 0.0, 0.8490000000000001, 0.0, 0.0], [-0.22377308, -0.075577304, 0.022708923, 0.029243771, -0.11549821, 0.042834543, -0.07874023, 0.06617721, -0.55345845, -0.07785755, 317.197, 240.291, 125.05285, 12.64, 4.259, -5.931, 25.33, 1.7, 125.1, 815.9739999999998, 0.0, 0.978, 0.0, 0.1744], [-0.23558196, -0.08713637, 0.03697025, 0.033461474, -0.09733289, 0.00395526, -0.103767686, 0.06436553, -0.589753, -0.0935406, 881.165, 1026.19, 145.99003000000005, 14.93, 5.394, -5.506, 22.64, 4.2, 28.07, 815.247, 0.0, 1.048, 0.0, 0.1792], [-0.20301385, -0.03851465, 0.034689244, 0.07681693, -0.08165893, 0.039521717, -0.10029214, 0.03064575, -0.45540103, -0.10876513, 214.267, 106.471, 127.64815, 13.57, 4.963, -4.937, 25.96, 3.2, 150.0, 815.803, 0.0, 0.95, 0.0, 0.2627], [-0.25456274, -0.07285935, 0.049710564, 0.044532783, -0.10396926, 0.05647412, -0.08345537, 0.06831969, -0.6378548, -0.081681825, 931.778, 1021.27, 210.71424, 17.67, 6.984, -4.316, 21.05, 4.7, 81.8, 812.954, 0.0, 1.371, 0.0, 0.1834], [-0.24336812, -0.02027728, 0.047142543, 0.054984882, -0.10524937, 0.100718655, -0.072297566, 0.06460161, -0.5342473, -0.054320686, 848.198, 966.307, 232.5953, 17.02, 6.465, -5.135, 20.45, 2.7, 63.75, 812.245, 0.0, 1.37, 0.0, 0.1873], [-0.19202216, -0.033552673, 0.018422559, 0.06501405, -0.0710833, 0.07105544, -0.07865603, 0.05954102, -0.4263159, -0.09430928, 177.991, 2.24027, 242.32886, 15.98, 5.8020000000000005, -5.797999999999999, 20.64, 2.45, 41.6, 812.199, 0.0, 0.954, 0.0, 0.168], [-0.27581418, -0.06655304, 0.005968258, 0.043576047, -0.14786944, 0.07492655, -0.09052874, 0.104226254, -0.62738264, -0.096344285, 933.727, 946.308, 173.67395, 16.1, 5.9689999999999985, -5.631, 20.78, 4.45, 62.04, 814.166, 0.0, 1.099, 0.0, 0.1685], [-0.26265752, -0.057614043, 0.014620721, 0.03480096, -0.13456607, 0.07528669, -0.09143103, 0.10141842, -0.6133478, -0.08138638, 938.705, 1032.02, 190.88205, 17.15, 6.511, -5.189, 20.19, 4.2, 102.7, 813.6210000000002, 0.0, 0.98, 0.0, 0.1792], [-0.26776323, -0.04795216, 0.030876786, 0.052915566, -0.10999912, 0.10307603, -0.063214354, 0.08709642, -0.5986031, -0.08017977, 920.216, 1014.29, 214.27675, 17.2, 6.42, -5.48, 19.63, 5.45, 82.2, 812.783, 0.0, 1.134, 0.0, 0.1838]]\n"
          ]
        }
      ]
    },
    {
      "cell_type": "code",
      "metadata": {
        "colab": {
          "base_uri": "https://localhost:8080/"
        },
        "id": "vzYANXqK0XyB",
        "outputId": "45e9bbd6-0f1c-4fec-8cc3-65408d4efdd6"
      },
      "source": [
        "print(output_sequences_dict['3/31'])"
      ],
      "execution_count": null,
      "outputs": [
        {
          "output_type": "stream",
          "name": "stdout",
          "text": [
            "[0.0, 32.0, 18.0, 0.0, 31.0, 21.0, 10.0, 46.0, 21.0, 34.0, 61.0, 56.0, 57.0, 41.0, 35.0, 24.0, 59.0, 58.0, 7.0, 0.0, 33.0, 6.0, 63.0, 62.0, 29.0, 22.0, 37.0, 43.0, 4.0, 29.0, 0.0, 32.0, 32.0, 30.0, 36.0, 44.0, 54.0, 25.0, 27.0, 35.0]\n"
          ]
        }
      ]
    },
    {
      "cell_type": "markdown",
      "metadata": {
        "id": "JXpm4dQPpxbw"
      },
      "source": [
        "### Code to prepare LSTM prediction sequences"
      ]
    },
    {
      "cell_type": "code",
      "metadata": {
        "id": "oU_7YmL1yw4a"
      },
      "source": [
        "# split a univariate sequence into samples based on sequence dictionaries\n",
        "def split_sequence_keys(input_sequence_dict, output_sequence_dict, n_steps):\n",
        "  X, y = list(), list()\n",
        "  for key in input_sequence_dict.keys():\n",
        "   input_sequence = input_sequence_dict[key]\n",
        "   output_sequence = output_sequence_dict[key]\n",
        "   for j in range(len(input_sequence)):\n",
        "\t\t  # find the end of this pattern\n",
        "\t\t  end_ix = j + n_steps + n_steps\n",
        "\t\t  # check if we are beyond the sequence\n",
        "\t\t  if end_ix > len(input_sequence)-1:\n",
        "\t\t\t  break\n",
        "\t\t  # gather input and output parts of the pattern\n",
        "\t\t  seq_x, seq_y = input_sequence[j:end_ix-n_steps], output_sequence[end_ix-n_steps:end_ix]\n",
        "\t\t  X.append(seq_x)\n",
        "\t\t  y.append(seq_y)\n",
        "  return np.array(X), np.array(y)"
      ],
      "execution_count": null,
      "outputs": []
    },
    {
      "cell_type": "code",
      "metadata": {
        "id": "fwkesEzJxgb4"
      },
      "source": [
        "# choose a number of time steps\n",
        "n_steps = 12\n",
        "n_input_features = 24\n",
        "n_output_features = 12"
      ],
      "execution_count": null,
      "outputs": []
    },
    {
      "cell_type": "code",
      "metadata": {
        "id": "tJRBVQ4I6QRR"
      },
      "source": [
        "# split into samples\n",
        "#X, y = split_sequence(raw_input_seq, raw_output_seq, n_steps)\n",
        "X, y = split_sequence_keys(input_sequences_dict, output_sequences_dict, n_steps)"
      ],
      "execution_count": null,
      "outputs": []
    },
    {
      "cell_type": "code",
      "metadata": {
        "colab": {
          "base_uri": "https://localhost:8080/"
        },
        "id": "Rwx-0DkD0HEi",
        "outputId": "45de642d-e613-4cc1-a248-086914332e65"
      },
      "source": [
        "# summarize the data\n",
        "for i in range(len(X)):\n",
        "\tprint(X[i],y[i])\n",
        "\tbreak"
      ],
      "execution_count": null,
      "outputs": [
        {
          "output_type": "stream",
          "name": "stdout",
          "text": [
            "[[-3.13014567e-01  1.61993876e-02  4.44833525e-02  1.18205212e-01\n",
            "  -1.67712480e-01  2.00000674e-01 -6.87756985e-02  7.94985369e-02\n",
            "  -5.55178523e-01 -5.48711866e-02  9.38801000e+01  4.15421000e-01\n",
            "   1.92904280e+02  2.08400000e+00 -1.77000000e+00 -7.57000000e+00\n",
            "   4.52800000e+01  4.20000000e+00  1.56800000e+01  8.14709000e+02\n",
            "   0.00000000e+00  5.04000000e-01  0.00000000e+00  1.75200000e-01]\n",
            " [-2.54202008e-01 -6.16296269e-02  6.33414090e-03  1.89165697e-02\n",
            "  -1.26158595e-01  7.85578042e-02 -6.67587593e-02  9.29069221e-02\n",
            "  -5.89182615e-01 -9.18417946e-02  5.55211000e+02  9.34274000e+02\n",
            "   1.49411120e+02  2.01500000e+00 -1.30800000e+00 -5.90800000e+00\n",
            "   5.25600000e+01  3.95000000e+00  5.43800000e+01  8.13216000e+02\n",
            "   0.00000000e+00  5.61000000e-01  0.00000000e+00  2.17900000e-01]\n",
            " [-2.73119122e-01 -1.24791227e-02  4.36056629e-02  7.40202665e-02\n",
            "  -9.60169360e-02  1.12747528e-01 -8.66775364e-02  6.93809763e-02\n",
            "  -5.74246049e-01 -9.32789892e-02  1.25223000e+02  2.85158000e+01\n",
            "   1.26029650e+02  1.55000000e+00 -3.36100000e+00 -1.29610000e+01\n",
            "   2.90900000e+01  6.95000000e+00  2.80600000e+02  8.12326000e+02\n",
            "   0.00000000e+00  3.80000000e-01  0.00000000e+00  3.47400000e-01]\n",
            " [-2.95833588e-01  1.48525052e-02  3.42378616e-02  1.09645426e-01\n",
            "  -1.46741465e-01  1.91475227e-01 -7.77891129e-02  8.88461322e-02\n",
            "  -5.37296295e-01 -6.66437447e-02  2.58565000e+02  3.72097000e+01\n",
            "   2.13509690e+02  2.63100000e+00 -1.61900000e+00 -8.21900000e+00\n",
            "   4.11400000e+01  4.20000000e+00  2.00400000e+01  8.14795000e+02\n",
            "   0.00000000e+00  4.65000000e-01  0.00000000e+00  1.99400000e-01]\n",
            " [-3.00067484e-01  9.36383009e-03  5.37065566e-02  1.09730236e-01\n",
            "  -1.56363904e-01  1.87437654e-01 -6.51493296e-02  7.22131282e-02\n",
            "  -5.54606795e-01 -4.55656722e-02  3.72916000e+01  5.68730000e-01\n",
            "   2.36233060e+02  1.52600000e+00 -1.46200000e+00 -5.56200000e+00\n",
            "   5.60800000e+01  2.20000000e+00  5.06400000e+01  8.16646000e+02\n",
            "   0.00000000e+00  5.16000000e-01  0.00000000e+00  1.82300000e-01]\n",
            " [-3.12444687e-01 -4.09522653e-03  4.33861874e-02  1.00764349e-01\n",
            "  -1.66880965e-01  1.94056064e-01 -6.72670454e-02  9.52429622e-02\n",
            "  -5.99167764e-01 -4.79095429e-02  2.99945000e+02  2.31696000e+01\n",
            "   1.76056760e+02  4.03000000e+00 -1.69000000e-01 -5.86900000e+00\n",
            "   4.57100000e+01  3.70000000e+00  5.55100000e+01  8.13745000e+02\n",
            "   0.00000000e+00  5.82000000e-01  0.00000000e+00  1.97900000e-01]\n",
            " [-3.16010863e-01  8.06717202e-03  5.42548597e-02  1.18324801e-01\n",
            "  -1.71984360e-01  2.01103449e-01 -6.38027564e-02  7.63224289e-02\n",
            "  -5.76355696e-01 -4.47214544e-02  4.25144000e+01  4.20369000e-01\n",
            "   2.38013030e+02  1.48300000e+00 -1.46000000e+00 -5.66000000e+00\n",
            "   5.57800000e+01  2.70000000e+00  3.68600000e+01  8.16788000e+02\n",
            "   0.00000000e+00  5.17000000e-01  0.00000000e+00  1.85300000e-01]\n",
            " [-2.79450089e-01 -4.43636663e-02  5.01267165e-02  7.74123967e-02\n",
            "  -1.16538115e-01  1.05138130e-01 -6.23316243e-02  6.13768995e-02\n",
            "  -6.03157043e-01 -8.28566924e-02  2.62193000e+01  2.65262000e+02\n",
            "   1.14016050e+02  4.16000000e-01 -4.05800000e+00 -1.29580000e+01\n",
            "   3.15800000e+01  6.45000000e+00  2.84200000e+02  8.11848000e+02\n",
            "   0.00000000e+00  2.65000000e-01  0.00000000e+00  0.00000000e+00]\n",
            " [-3.06401014e-01  1.19091980e-02  5.46051934e-02  1.22606531e-01\n",
            "  -1.68736130e-01  2.00191706e-01 -6.83572665e-02  7.22566098e-02\n",
            "  -5.53481936e-01 -4.44956683e-02  1.98692000e+02  1.91390000e+00\n",
            "   2.18125330e+02  2.52800000e+00 -1.49200000e+00 -7.59200000e+00\n",
            "   4.37800000e+01  3.70000000e+00  6.65600000e+01  8.14905000e+02\n",
            "   0.00000000e+00  6.05000000e-01  0.00000000e+00  1.93500000e-01]\n",
            " [-2.86836743e-01  6.39464706e-04  5.07296473e-02  8.72642174e-02\n",
            "  -1.42834321e-01  1.64631665e-01 -5.89544028e-02  7.32470974e-02\n",
            "  -5.54156303e-01 -4.25476879e-02  1.86489000e+01 -2.32440000e-01\n",
            "   2.41462880e+02  9.71000000e-01 -1.37000000e+00 -4.57000000e+00\n",
            "   6.35400000e+01  4.20000000e+00  1.89900000e+01  8.17187000e+02\n",
            "   0.00000000e+00  4.43000000e-01  0.00000000e+00  1.79900000e-01]\n",
            " [-3.27736139e-01  1.75782070e-02  5.19602746e-02  1.32115692e-01\n",
            "  -1.77029982e-01  2.17194438e-01 -7.24691898e-02  8.02159607e-02\n",
            "  -5.79651892e-01 -5.42584360e-02  1.67574000e+02  1.07812000e+00\n",
            "   2.00993110e+02  2.49500000e+00 -1.66900000e+00 -7.96900000e+00\n",
            "   4.24600000e+01  3.20000000e+00  1.36000000e+01  8.14558000e+02\n",
            "   0.00000000e+00  5.88000000e-01  0.00000000e+00  1.84200000e-01]\n",
            " [-3.21323693e-01  6.77770004e-03  4.35565114e-02  1.24221154e-01\n",
            "  -1.89416468e-01  2.11116388e-01 -6.82803541e-02  8.68658647e-02\n",
            "  -5.74226916e-01 -4.67767455e-02  1.69134000e+02  9.19866000e-01\n",
            "   1.84532460e+02  2.74500000e+00 -7.29000000e-01 -5.42900000e+00\n",
            "   5.19900000e+01  3.45000000e+00  2.06100000e+01  8.14271000e+02\n",
            "   0.00000000e+00  4.68000000e-01  0.00000000e+00  1.84800000e-01]] [93. 13. 98. 16. 96.  0. 26. 90. 21. 18. 92. 95.]\n"
          ]
        }
      ]
    },
    {
      "cell_type": "markdown",
      "metadata": {
        "id": "VU37HpLOp8Du"
      },
      "source": [
        "### LSTM architecture"
      ]
    },
    {
      "cell_type": "code",
      "metadata": {
        "colab": {
          "base_uri": "https://localhost:8080/"
        },
        "id": "hAyLHGQ_xyH7",
        "outputId": "b6a20019-ed8b-4055-c0e4-cf51b549e70e"
      },
      "source": [
        "# define model\n",
        "lstm_model = Sequential()\n",
        "lstm_model.add(LSTM(50, activation='relu', input_shape=(n_steps, n_input_features)))\n",
        "lstm_model.add(Dense(n_output_features))\n",
        "lstm_model.compile(optimizer='adam', loss='mse')"
      ],
      "execution_count": null,
      "outputs": [
        {
          "output_type": "stream",
          "name": "stdout",
          "text": [
            "WARNING:tensorflow:Layer lstm_3 will not use cuDNN kernels since it doesn't meet the criteria. It will use a generic GPU kernel as fallback when running on GPU.\n"
          ]
        }
      ]
    },
    {
      "cell_type": "code",
      "metadata": {
        "colab": {
          "base_uri": "https://localhost:8080/"
        },
        "id": "sVYzNnfU1R4w",
        "outputId": "11ed7e9b-13ba-42c5-8f8d-7fb965aaa1e3"
      },
      "source": [
        "print(X.shape)"
      ],
      "execution_count": null,
      "outputs": [
        {
          "output_type": "stream",
          "name": "stdout",
          "text": [
            "(5588, 12, 24)\n"
          ]
        }
      ]
    },
    {
      "cell_type": "code",
      "metadata": {
        "colab": {
          "base_uri": "https://localhost:8080/"
        },
        "id": "HGIy0ma_7Amg",
        "outputId": "803e9922-be34-4c76-a56f-e0e025bd5a81"
      },
      "source": [
        "print(y.shape)"
      ],
      "execution_count": null,
      "outputs": [
        {
          "output_type": "stream",
          "name": "stdout",
          "text": [
            "(5588, 12)\n"
          ]
        }
      ]
    },
    {
      "cell_type": "code",
      "metadata": {
        "id": "UypzB44cxzUl"
      },
      "source": [
        "X = X.reshape((X.shape[0], X.shape[1], n_input_features))"
      ],
      "execution_count": null,
      "outputs": []
    },
    {
      "cell_type": "markdown",
      "metadata": {
        "id": "iRlcl5ckp_cn"
      },
      "source": [
        "### LSTM training and saving model\n",
        "\n"
      ]
    },
    {
      "cell_type": "code",
      "metadata": {
        "colab": {
          "base_uri": "https://localhost:8080/"
        },
        "id": "Ae0a57MjxzkP",
        "outputId": "f5cd1c7a-26a2-4c0c-b2cf-90948a39d35d"
      },
      "source": [
        "# fit model\n",
        "lstm_model.fit(X, y, epochs=100)"
      ],
      "execution_count": null,
      "outputs": [
        {
          "output_type": "stream",
          "name": "stdout",
          "text": [
            "Epoch 1/100\n",
            "175/175 [==============================] - 9s 41ms/step - loss: 354627.2812\n",
            "Epoch 2/100\n",
            "175/175 [==============================] - 7s 42ms/step - loss: 348566.3125\n",
            "Epoch 3/100\n",
            "175/175 [==============================] - 7s 41ms/step - loss: 347838.9062\n",
            "Epoch 4/100\n",
            "175/175 [==============================] - 7s 42ms/step - loss: 347054.2812\n",
            "Epoch 5/100\n",
            "175/175 [==============================] - 7s 42ms/step - loss: 346680.1875\n",
            "Epoch 6/100\n",
            "175/175 [==============================] - 7s 41ms/step - loss: 346167.7188\n",
            "Epoch 7/100\n",
            "175/175 [==============================] - 7s 42ms/step - loss: 345821.5938\n",
            "Epoch 8/100\n",
            "175/175 [==============================] - 7s 42ms/step - loss: 345537.8438\n",
            "Epoch 9/100\n",
            "175/175 [==============================] - 7s 42ms/step - loss: 345435.4688\n",
            "Epoch 10/100\n",
            "175/175 [==============================] - 7s 41ms/step - loss: 346046.4688\n",
            "Epoch 11/100\n",
            "175/175 [==============================] - 7s 41ms/step - loss: 345419.4375\n",
            "Epoch 12/100\n",
            "175/175 [==============================] - 7s 42ms/step - loss: 345118.2500\n",
            "Epoch 13/100\n",
            "175/175 [==============================] - 7s 41ms/step - loss: 344934.7812\n",
            "Epoch 14/100\n",
            "175/175 [==============================] - 7s 42ms/step - loss: 344718.6250\n",
            "Epoch 15/100\n",
            "175/175 [==============================] - 7s 42ms/step - loss: 344624.6875\n",
            "Epoch 16/100\n",
            "175/175 [==============================] - 7s 42ms/step - loss: 344605.9062\n",
            "Epoch 17/100\n",
            "175/175 [==============================] - 7s 42ms/step - loss: 344371.4688\n",
            "Epoch 18/100\n",
            "175/175 [==============================] - 7s 42ms/step - loss: 344493.6562\n",
            "Epoch 19/100\n",
            "175/175 [==============================] - 7s 41ms/step - loss: 344373.7188\n",
            "Epoch 20/100\n",
            "175/175 [==============================] - 7s 42ms/step - loss: 344056.7188\n",
            "Epoch 21/100\n",
            "175/175 [==============================] - 7s 42ms/step - loss: 344100.6562\n",
            "Epoch 22/100\n",
            "175/175 [==============================] - 7s 41ms/step - loss: 344253.5312\n",
            "Epoch 23/100\n",
            "175/175 [==============================] - 7s 41ms/step - loss: 344277.8438\n",
            "Epoch 24/100\n",
            "175/175 [==============================] - 7s 41ms/step - loss: 344016.1250\n",
            "Epoch 25/100\n",
            "175/175 [==============================] - 7s 41ms/step - loss: 343819.0938\n",
            "Epoch 26/100\n",
            "175/175 [==============================] - 7s 41ms/step - loss: 343822.8125\n",
            "Epoch 27/100\n",
            "175/175 [==============================] - 7s 41ms/step - loss: 343660.5000\n",
            "Epoch 28/100\n",
            "175/175 [==============================] - 7s 42ms/step - loss: 343434.4062\n",
            "Epoch 29/100\n",
            "175/175 [==============================] - 7s 42ms/step - loss: 343581.7812\n",
            "Epoch 30/100\n",
            "175/175 [==============================] - 7s 41ms/step - loss: 343263.8438\n",
            "Epoch 31/100\n",
            "175/175 [==============================] - 7s 42ms/step - loss: 343381.5312\n",
            "Epoch 32/100\n",
            "175/175 [==============================] - 7s 41ms/step - loss: 343163.4375\n",
            "Epoch 33/100\n",
            "175/175 [==============================] - 7s 41ms/step - loss: 342847.2188\n",
            "Epoch 34/100\n",
            "175/175 [==============================] - 7s 42ms/step - loss: 342947.8750\n",
            "Epoch 35/100\n",
            "175/175 [==============================] - 7s 41ms/step - loss: 343262.2188\n",
            "Epoch 36/100\n",
            "175/175 [==============================] - 7s 41ms/step - loss: 342905.7812\n",
            "Epoch 37/100\n",
            "175/175 [==============================] - 7s 42ms/step - loss: 342547.9375\n",
            "Epoch 38/100\n",
            "175/175 [==============================] - 7s 40ms/step - loss: 342359.8125\n",
            "Epoch 39/100\n",
            "175/175 [==============================] - 7s 42ms/step - loss: 342503.2188\n",
            "Epoch 40/100\n",
            "175/175 [==============================] - 7s 42ms/step - loss: 342241.9375\n",
            "Epoch 41/100\n",
            "175/175 [==============================] - 7s 41ms/step - loss: 342067.3438\n",
            "Epoch 42/100\n",
            "175/175 [==============================] - 8s 43ms/step - loss: 342024.8750\n",
            "Epoch 43/100\n",
            "175/175 [==============================] - 7s 42ms/step - loss: 341970.8438\n",
            "Epoch 44/100\n",
            "175/175 [==============================] - 7s 41ms/step - loss: 342148.7500\n",
            "Epoch 45/100\n",
            "175/175 [==============================] - 7s 42ms/step - loss: 341533.3125\n",
            "Epoch 46/100\n",
            "175/175 [==============================] - 7s 42ms/step - loss: 341556.9688\n",
            "Epoch 47/100\n",
            "175/175 [==============================] - 7s 42ms/step - loss: 341068.9062\n",
            "Epoch 48/100\n",
            "175/175 [==============================] - 7s 41ms/step - loss: 340967.0000\n",
            "Epoch 49/100\n",
            "175/175 [==============================] - 7s 41ms/step - loss: 340430.1250\n",
            "Epoch 50/100\n",
            "175/175 [==============================] - 7s 42ms/step - loss: 340681.2812\n",
            "Epoch 51/100\n",
            "175/175 [==============================] - 7s 41ms/step - loss: 340248.5000\n",
            "Epoch 52/100\n",
            "175/175 [==============================] - 7s 41ms/step - loss: 339848.8750\n",
            "Epoch 53/100\n",
            "175/175 [==============================] - 7s 43ms/step - loss: 340263.0625\n",
            "Epoch 54/100\n",
            "175/175 [==============================] - 7s 42ms/step - loss: 340138.9688\n",
            "Epoch 55/100\n",
            "175/175 [==============================] - 7s 41ms/step - loss: 339599.3125\n",
            "Epoch 56/100\n",
            "175/175 [==============================] - 7s 41ms/step - loss: 339162.5625\n",
            "Epoch 57/100\n",
            "175/175 [==============================] - 7s 41ms/step - loss: 339057.9375\n",
            "Epoch 58/100\n",
            "175/175 [==============================] - 7s 41ms/step - loss: 339590.7500\n",
            "Epoch 59/100\n",
            "175/175 [==============================] - 7s 41ms/step - loss: 340734.5625\n",
            "Epoch 60/100\n",
            "175/175 [==============================] - 7s 41ms/step - loss: 340059.4062\n",
            "Epoch 61/100\n",
            "175/175 [==============================] - 7s 40ms/step - loss: 340659.0000\n",
            "Epoch 62/100\n",
            "175/175 [==============================] - 7s 42ms/step - loss: 339730.0938\n",
            "Epoch 63/100\n",
            "175/175 [==============================] - 7s 41ms/step - loss: 340121.0312\n",
            "Epoch 64/100\n",
            "175/175 [==============================] - 7s 42ms/step - loss: 339569.9375\n",
            "Epoch 65/100\n",
            "175/175 [==============================] - 7s 41ms/step - loss: 338627.4062\n",
            "Epoch 66/100\n",
            "175/175 [==============================] - 7s 41ms/step - loss: 339743.0000\n",
            "Epoch 67/100\n",
            "175/175 [==============================] - 7s 42ms/step - loss: 339508.0312\n",
            "Epoch 68/100\n",
            "175/175 [==============================] - 7s 41ms/step - loss: 338824.7188\n",
            "Epoch 69/100\n",
            "175/175 [==============================] - 7s 42ms/step - loss: 338071.0000\n",
            "Epoch 70/100\n",
            "175/175 [==============================] - 8s 43ms/step - loss: 338009.9688\n",
            "Epoch 71/100\n",
            "175/175 [==============================] - 7s 41ms/step - loss: 339658.0312\n",
            "Epoch 72/100\n",
            "175/175 [==============================] - 7s 42ms/step - loss: 338071.7188\n",
            "Epoch 73/100\n",
            "175/175 [==============================] - 7s 42ms/step - loss: 341520.8438\n",
            "Epoch 74/100\n",
            "175/175 [==============================] - 7s 41ms/step - loss: 341795.2188\n",
            "Epoch 75/100\n",
            "175/175 [==============================] - 7s 41ms/step - loss: 340528.1250\n",
            "Epoch 76/100\n",
            "175/175 [==============================] - 7s 41ms/step - loss: 340695.4062\n",
            "Epoch 77/100\n",
            "175/175 [==============================] - 7s 41ms/step - loss: 340038.3125\n",
            "Epoch 78/100\n",
            "175/175 [==============================] - 7s 42ms/step - loss: 339413.2812\n",
            "Epoch 79/100\n",
            "175/175 [==============================] - 7s 40ms/step - loss: 339117.4375\n",
            "Epoch 80/100\n",
            "175/175 [==============================] - 7s 42ms/step - loss: 339926.6875\n",
            "Epoch 81/100\n",
            "175/175 [==============================] - 7s 41ms/step - loss: 340786.3750\n",
            "Epoch 82/100\n",
            "175/175 [==============================] - 7s 41ms/step - loss: 340320.1875\n",
            "Epoch 83/100\n",
            "175/175 [==============================] - 7s 41ms/step - loss: 340189.0000\n",
            "Epoch 84/100\n",
            "175/175 [==============================] - 8s 43ms/step - loss: 340179.1875\n",
            "Epoch 85/100\n",
            "175/175 [==============================] - 7s 42ms/step - loss: 338320.5312\n",
            "Epoch 86/100\n",
            "175/175 [==============================] - 7s 41ms/step - loss: 340604.0938\n",
            "Epoch 87/100\n",
            "175/175 [==============================] - 7s 41ms/step - loss: 339361.8438\n",
            "Epoch 88/100\n",
            "175/175 [==============================] - 7s 42ms/step - loss: 338333.9688\n",
            "Epoch 89/100\n",
            "175/175 [==============================] - 7s 41ms/step - loss: 339001.5312\n",
            "Epoch 90/100\n",
            "175/175 [==============================] - 7s 41ms/step - loss: 338891.1250\n",
            "Epoch 91/100\n",
            "175/175 [==============================] - 7s 41ms/step - loss: 338967.4062\n",
            "Epoch 92/100\n",
            "175/175 [==============================] - 7s 41ms/step - loss: 337799.4375\n",
            "Epoch 93/100\n",
            "175/175 [==============================] - 7s 42ms/step - loss: 338335.4688\n",
            "Epoch 94/100\n",
            "175/175 [==============================] - 7s 41ms/step - loss: 337313.5312\n",
            "Epoch 95/100\n",
            "175/175 [==============================] - 8s 43ms/step - loss: 336895.0000\n",
            "Epoch 96/100\n",
            "175/175 [==============================] - 7s 42ms/step - loss: 336430.0312\n",
            "Epoch 97/100\n",
            "175/175 [==============================] - 7s 41ms/step - loss: 337647.8438\n",
            "Epoch 98/100\n",
            "175/175 [==============================] - 7s 41ms/step - loss: 336265.4688\n",
            "Epoch 99/100\n",
            "175/175 [==============================] - 7s 42ms/step - loss: 337317.6250\n",
            "Epoch 100/100\n",
            "175/175 [==============================] - 7s 41ms/step - loss: 337664.5312\n"
          ]
        },
        {
          "output_type": "execute_result",
          "data": {
            "text/plain": [
              "<keras.callbacks.History at 0x7ff112854610>"
            ]
          },
          "metadata": {},
          "execution_count": 61
        }
      ]
    },
    {
      "cell_type": "code",
      "metadata": {
        "id": "oNy2zSPB8Ppl"
      },
      "source": [
        "lstm_model.save('/content/drive/My Drive/Shell_AI_train/lstm_model_120min.h5')\n",
        "#Choose between lstm_model_30min.h5, lstm_model_60min.h5, lstm_model_90min.h5, lstm_model_120min.h5"
      ],
      "execution_count": null,
      "outputs": []
    },
    {
      "cell_type": "markdown",
      "metadata": {
        "id": "2VtsQ1mZqD0R"
      },
      "source": [
        "### LSTM model loading"
      ]
    },
    {
      "cell_type": "code",
      "metadata": {
        "colab": {
          "base_uri": "https://localhost:8080/"
        },
        "id": "Y2WxP8Rv8dg6",
        "outputId": "31aeda99-3782-45d5-af5f-84e85e10e64a"
      },
      "source": [
        "loaded_lstm_model = keras.models.load_model('/content/drive/My Drive/Shell_AI_train/lstm_model_15min.h5')"
      ],
      "execution_count": null,
      "outputs": [
        {
          "output_type": "stream",
          "name": "stdout",
          "text": [
            "WARNING:tensorflow:Layer lstm will not use cuDNN kernels since it doesn't meet the criteria. It will use a generic GPU kernel as fallback when running on GPU.\n"
          ]
        }
      ]
    },
    {
      "cell_type": "code",
      "metadata": {
        "colab": {
          "base_uri": "https://localhost:8080/"
        },
        "id": "OtKrglyj6-68",
        "outputId": "145b4d38-8467-4dde-f262-a2acb65bbf46"
      },
      "source": [
        "x_input = np.array(\n",
        "    [[-3.99366161e-03,  6.03996217e-02,  6.81698024e-02, -5.42859808e-02,\n",
        "   1.83254704e-02, -6.66188300e-02,  4.71722931e-02,  3.89583744e-02,\n",
        "  -1.89637132e-02, -1.38268266e-02,  1.06589000e+03,  9.56709000e+02,\n",
        "   1.34165270e+02,  2.93500000e+01,  1.50420000e+01,  5.77200000e+00,\n",
        "   2.25200000e+01,  3.20000000e+00,  2.50400000e+01,  8.17512000e+02,\n",
        "   0.00000000e+00,  1.08800000e+00,  0.00000000e+00,  1.62000000e-01],\n",
        " [-3.99366161e-03,  6.03996217e-02,  6.81698024e-02, -5.42859808e-02,\n",
        "   1.83254704e-02, -6.66188300e-02,  4.71722931e-02,  3.89583744e-02,\n",
        "  -1.89637132e-02, -1.38268266e-02,  5.14860000e+02,  8.64036000e+02,\n",
        "   8.54014800e+01,  2.32800000e+01,  1.16670000e+01,  2.66700000e+00,\n",
        "   2.59000000e+01,  2.70000000e+00,  2.89300000e+02,  8.18295000e+02,\n",
        "   0.00000000e+00,  7.59000000e-01,  0.00000000e+00,  2.09800000e-01],\n",
        " [-3.99366161e-03,  6.03996217e-02,  6.81698024e-02, -5.42859808e-02,\n",
        "   1.83254704e-02, -6.66188300e-02,  4.71722931e-02,  3.89583744e-02,\n",
        "  -1.89637132e-02, -1.38268266e-02,  3.34885000e+02,  7.35075000e+02,\n",
        "   7.66483800e+01,  2.12100000e+01,  1.09820000e+01,  2.80200000e+00,\n",
        "   2.96600000e+01,  0.00000000e+00,  0.00000000e+00,  8.18052000e+02,\n",
        "   0.00000000e+00,  7.44000000e-01,  0.00000000e+00,  2.32800000e-01],\n",
        "     [-3.99366161e-03,  6.03996217e-02,  6.81698024e-02, -5.42859808e-02,\n",
        "   1.83254704e-02, -6.66188300e-02,  4.71722931e-02,  3.89583744e-02,\n",
        "  -1.89637132e-02, -1.38268266e-02,  1.06589000e+03,  9.56709000e+02,\n",
        "   1.34165270e+02,  2.93500000e+01,  1.50420000e+01,  5.77200000e+00,\n",
        "   2.25200000e+01,  3.20000000e+00,  2.50400000e+01,  8.17512000e+02,\n",
        "   0.00000000e+00,  1.08800000e+00,  0.00000000e+00,  1.62000000e-01],\n",
        " [-3.99366161e-03,  6.03996217e-02,  6.81698024e-02, -5.42859808e-02,\n",
        "   1.83254704e-02, -6.66188300e-02,  4.71722931e-02,  3.89583744e-02,\n",
        "  -1.89637132e-02, -1.38268266e-02,  5.14860000e+02,  8.64036000e+02,\n",
        "   8.54014800e+01,  2.32800000e+01,  1.16670000e+01,  2.66700000e+00,\n",
        "   2.59000000e+01,  2.70000000e+00,  2.89300000e+02,  8.18295000e+02,\n",
        "   0.00000000e+00,  7.59000000e-01,  0.00000000e+00,  2.09800000e-01],\n",
        " [-3.99366161e-03,  6.03996217e-02,  6.81698024e-02, -5.42859808e-02,\n",
        "   1.83254704e-02, -6.66188300e-02,  4.71722931e-02,  3.89583744e-02,\n",
        "  -1.89637132e-02, -1.38268266e-02,  3.34885000e+02,  7.35075000e+02,\n",
        "   7.66483800e+01,  2.12100000e+01,  1.09820000e+01,  2.80200000e+00,\n",
        "   2.96600000e+01,  0.00000000e+00,  0.00000000e+00,  8.18052000e+02,\n",
        "   0.00000000e+00,  7.44000000e-01,  0.00000000e+00,  2.32800000e-01],\n",
        "     [-3.99366161e-03,  6.03996217e-02,  6.81698024e-02, -5.42859808e-02,\n",
        "   1.83254704e-02, -6.66188300e-02,  4.71722931e-02,  3.89583744e-02,\n",
        "  -1.89637132e-02, -1.38268266e-02,  1.06589000e+03,  9.56709000e+02,\n",
        "   1.34165270e+02,  2.93500000e+01,  1.50420000e+01,  5.77200000e+00,\n",
        "   2.25200000e+01,  3.20000000e+00,  2.50400000e+01,  8.17512000e+02,\n",
        "   0.00000000e+00,  1.08800000e+00,  0.00000000e+00,  1.62000000e-01],\n",
        " [-3.99366161e-03,  6.03996217e-02,  6.81698024e-02, -5.42859808e-02,\n",
        "   1.83254704e-02, -6.66188300e-02,  4.71722931e-02,  3.89583744e-02,\n",
        "  -1.89637132e-02, -1.38268266e-02,  5.14860000e+02,  8.64036000e+02,\n",
        "   8.54014800e+01,  2.32800000e+01,  1.16670000e+01,  2.66700000e+00,\n",
        "   2.59000000e+01,  2.70000000e+00,  2.89300000e+02,  8.18295000e+02,\n",
        "   0.00000000e+00,  7.59000000e-01,  0.00000000e+00,  2.09800000e-01],\n",
        " [-3.99366161e-03,  6.03996217e-02,  6.81698024e-02, -5.42859808e-02,\n",
        "   1.83254704e-02, -6.66188300e-02,  4.71722931e-02,  3.89583744e-02,\n",
        "  -1.89637132e-02, -1.38268266e-02,  3.34885000e+02,  7.35075000e+02,\n",
        "   7.66483800e+01,  2.12100000e+01,  1.09820000e+01,  2.80200000e+00,\n",
        "   2.96600000e+01,  0.00000000e+00,  0.00000000e+00,  8.18052000e+02,\n",
        "   0.00000000e+00,  7.44000000e-01,  0.00000000e+00,  2.32800000e-01],\n",
        "   [-3.99366161e-03,  6.03996217e-02,  6.81698024e-02, -5.42859808e-02,\n",
        "   1.83254704e-02, -6.66188300e-02,  4.71722931e-02,  3.89583744e-02,\n",
        "  -1.89637132e-02, -1.38268266e-02,  1.06589000e+03,  9.56709000e+02,\n",
        "   1.34165270e+02,  2.93500000e+01,  1.50420000e+01,  5.77200000e+00,\n",
        "   2.25200000e+01,  3.20000000e+00,  2.50400000e+01,  8.17512000e+02,\n",
        "   0.00000000e+00,  1.08800000e+00,  0.00000000e+00,  1.62000000e-01],\n",
        " [-3.99366161e-03,  6.03996217e-02,  6.81698024e-02, -5.42859808e-02,\n",
        "   1.83254704e-02, -6.66188300e-02,  4.71722931e-02,  3.89583744e-02,\n",
        "  -1.89637132e-02, -1.38268266e-02,  5.14860000e+02,  8.64036000e+02,\n",
        "   8.54014800e+01,  2.32800000e+01,  1.16670000e+01,  2.66700000e+00,\n",
        "   2.59000000e+01,  2.70000000e+00,  2.89300000e+02,  8.18295000e+02,\n",
        "   0.00000000e+00,  7.59000000e-01,  0.00000000e+00,  2.09800000e-01],\n",
        " [-3.99366161e-03,  6.03996217e-02,  6.81698024e-02, -5.42859808e-02,\n",
        "   1.83254704e-02, -6.66188300e-02,  4.71722931e-02,  3.89583744e-02,\n",
        "  -1.89637132e-02, -1.38268266e-02,  3.34885000e+02,  7.35075000e+02,\n",
        "   7.66483800e+01,  2.12100000e+01,  1.09820000e+01,  2.80200000e+00,\n",
        "   2.96600000e+01,  0.00000000e+00,  0.00000000e+00,  8.18052000e+02,\n",
        "   0.00000000e+00,  7.44000000e-01,  0.00000000e+00,  2.32800000e-01]]\n",
        ")\n",
        "x_input = x_input.reshape((1, n_steps, n_input_features))\n",
        "yhat = loaded_lstm_model.predict(x_input, verbose=0)\n",
        "print(yhat)"
      ],
      "execution_count": null,
      "outputs": [
        {
          "output_type": "stream",
          "name": "stdout",
          "text": [
            "WARNING:tensorflow:5 out of the last 14282 calls to <function Model.make_predict_function.<locals>.predict_function at 0x7ff10f4f38c0> triggered tf.function retracing. Tracing is expensive and the excessive number of tracings could be due to (1) creating @tf.function repeatedly in a loop, (2) passing tensors with different shapes, (3) passing Python objects instead of tensors. For (1), please define your @tf.function outside of the loop. For (2), @tf.function has experimental_relax_shapes=True option that relaxes argument shapes that can avoid unnecessary retracing. For (3), please refer to https://www.tensorflow.org/guide/function#controlling_retracing and https://www.tensorflow.org/api_docs/python/tf/function for  more details.\n",
            "[[-43.44518     13.861025    24.397915     0.66326135  20.0931\n",
            "    7.3613195  -12.346386   -26.01548    -88.20771    -70.21154\n",
            "  -80.27909    -63.76428   ]]\n"
          ]
        }
      ]
    },
    {
      "cell_type": "markdown",
      "metadata": {
        "id": "R4tAwDhmqL-F"
      },
      "source": [
        "## Test set preparation"
      ]
    },
    {
      "cell_type": "markdown",
      "metadata": {
        "id": "gqpYB0sUqvCf"
      },
      "source": [
        "### Unzip test folder"
      ]
    },
    {
      "cell_type": "code",
      "metadata": {
        "id": "uTlWBsfrmf-W"
      },
      "source": [
        "!unzip -uq \"/content/drive/My Drive/test.zip\" -d \"/content\""
      ],
      "execution_count": 8,
      "outputs": []
    },
    {
      "cell_type": "markdown",
      "metadata": {
        "id": "4NOcua6BqxJZ"
      },
      "source": [
        "### Sequence preparation"
      ]
    },
    {
      "cell_type": "code",
      "metadata": {
        "id": "jo90rLt-w3dZ"
      },
      "source": [
        "path = '/content/test'\n",
        "files = os.listdir(path)\n",
        "#print(files)\n",
        "input_sequences_dict = {}\n",
        "output_sequences_dict = {}\n",
        "features_considered = ['Global CMP22 (vent/cor) [W/m^2]',\n",
        "       'Direct sNIP [W/m^2]', 'Azimuth Angle [degrees]',\n",
        "       'Tower Dry Bulb Temp [deg C]', 'Tower Wet Bulb Temp [deg C]',\n",
        "       'Tower Dew Point Temp [deg C]', 'Tower RH [%]', \n",
        "       'Peak Wind Speed @ 6ft [m/s]', 'Avg Wind Direction @ 6ft [deg from N]',\n",
        "       'Station Pressure [mBar]', 'Precipitation (Accumulated) [mm]',\n",
        "       'Snow Depth [cm]', 'Moisture', 'Albedo (CMP11)']\n",
        "#output_df = {'Scenario':[], '30_min_horizon':[] , '60_min_horizon':[], '90_min_horizon':[], '120_min_horizon':[]}"
      ],
      "execution_count": 37,
      "outputs": []
    },
    {
      "cell_type": "code",
      "metadata": {
        "id": "C9dkIi_ti0fd"
      },
      "source": [
        "horizon_dict_30_min = {}\n",
        "horizon_dict_60_min = {}\n",
        "horizon_dict_90_min = {}\n",
        "horizon_dict_120_min = {}"
      ],
      "execution_count": 38,
      "outputs": []
    },
    {
      "cell_type": "code",
      "metadata": {
        "id": "lMz9f3oHa48k"
      },
      "source": [
        "loaded_lstm_model = keras.models.load_model('/content/drive/My Drive/Shell_AI_train/lstm_model_30min.h5') \n",
        "#Choose between lstm_model_30min.h5, lstm_model_60min.h5, lstm_model_90min.h5, lstm_model_120min.h5\n",
        "n_steps = 3 \n",
        "#Choose between 3, 6, 9, 12\n",
        "n_input_features = 24"
      ],
      "execution_count": 48,
      "outputs": []
    },
    {
      "cell_type": "markdown",
      "metadata": {
        "id": "xjFVokjIq1eC"
      },
      "source": [
        "### Perform predictions"
      ]
    },
    {
      "cell_type": "code",
      "metadata": {
        "colab": {
          "base_uri": "https://localhost:8080/"
        },
        "id": "EJzYdbeSrRIb",
        "outputId": "6bf63fbe-e6d2-4cbd-f298-1476c2edb866"
      },
      "source": [
        "count_folder = 0\n",
        "for f in files:\n",
        "    data_file = 'weather_data.csv'\n",
        "\n",
        "    image_files = []\n",
        "    for filename in glob.glob(path + '/' + f + '/*.jpg'): \n",
        "      filename = filename.split('/')[-1]\n",
        "      filename = filename.split('.')[0]\n",
        "      image_files.append(int(filename))\n",
        "    image_files = sorted(image_files)[-n_steps:]\n",
        "    #print(image_files[-3:])\n",
        "\n",
        "    cur_df = pd.read_csv(path + '/' + f + '/' + data_file)\n",
        "    #print(cur_df.head())\n",
        "\n",
        "    count_img = 0\n",
        "    full_vectors = []\n",
        "    try:\n",
        "      for img in image_files:\n",
        "        #print(img)\n",
        "        img = str(img) + '.jpg'\n",
        "        img_val = Image.open(path+'/'+f+'/'+img)\n",
        "        img_val = img_val.resize((256,256))\n",
        "        img_val = [np.array(img_val)]\n",
        "        img_val = np.array(img_val).astype('float32') / 255.0\n",
        "        latent_vectors = list(loaded_model.encoder.predict(img_val)[0][0])\n",
        "        scenario_number = int(img.split('.')[0])\n",
        "        selected_row = cur_df[cur_df['Time [Mins]'] == scenario_number]\n",
        "        #print(selected_row)\n",
        "        data_vectors = []\n",
        "        for feat in features_considered:\n",
        "            data_vectors.append(float(selected_row[feat]))\n",
        "        full_vectors.append(latent_vectors + data_vectors)\n",
        "        #print(count_img)\n",
        "        count_img += 1\n",
        "\n",
        "    \n",
        "      #print(full_vectors)\n",
        "      full_vectors = np.array(full_vectors)\n",
        "      full_vectors = full_vectors.reshape((1, n_steps, n_input_features))\n",
        "      yhat = loaded_lstm_model.predict(full_vectors, verbose=0)[0][-1]\n",
        "      print(yhat)\n",
        "      if yhat < 0:\n",
        "        yhat = 0\n",
        "      if yhat > 100:\n",
        "        yhat = 100\n",
        "      #output_df['Scenario'].append(int(f))\n",
        "      #output_df['30_min_horizon'].append(yhat)\n",
        "      horizon_dict_30_min[int(f)] = yhat\n",
        "    except:\n",
        "      pass\n",
        "    count_folder += 1\n",
        "    print(count_folder)"
      ],
      "execution_count": 49,
      "outputs": [
        {
          "output_type": "stream",
          "name": "stdout",
          "text": [
            "-46.407024\n",
            "1\n",
            "2.925826\n",
            "2\n",
            "20.789171\n",
            "3\n",
            "-92.952675\n",
            "4\n",
            "89.28518\n",
            "5\n",
            "22.205824\n",
            "6\n",
            "-26.858007\n",
            "7\n",
            "-18.299726\n",
            "8\n",
            "-157.93013\n",
            "9\n",
            "55.988857\n",
            "10\n",
            "124.73139\n",
            "11\n",
            "103.29031\n",
            "12\n",
            "64.55965\n",
            "13\n",
            "-14.192694\n",
            "14\n",
            "-139.1988\n",
            "15\n",
            "-7.1202574\n",
            "16\n",
            "-72.303375\n",
            "17\n",
            "-7.383618\n",
            "18\n",
            "1.596409\n",
            "19\n",
            "-59.256355\n",
            "20\n",
            "14.158861\n",
            "21\n",
            "59.020412\n",
            "22\n",
            "-52.546406\n",
            "23\n",
            "-98.326416\n",
            "24\n",
            "-24.255493\n",
            "25\n",
            "68.31713\n",
            "26\n",
            "-64.461075\n",
            "27\n",
            "-14.036546\n",
            "28\n",
            "41.185963\n",
            "29\n",
            "-86.22634\n",
            "30\n",
            "-17.899187\n",
            "31\n",
            "61.312218\n",
            "32\n",
            "-24.677698\n",
            "33\n",
            "-96.050186\n",
            "34\n",
            "51.434784\n",
            "35\n",
            "-75.04739\n",
            "36\n",
            "1.4932021\n",
            "37\n",
            "15.832121\n",
            "38\n",
            "22.994545\n",
            "39\n",
            "105.271996\n",
            "40\n",
            "64.43258\n",
            "41\n",
            "-61.423225\n",
            "42\n",
            "21.927273\n",
            "43\n",
            "33.998383\n",
            "44\n",
            "-132.02698\n",
            "45\n",
            "-21.991682\n",
            "46\n",
            "70.11186\n",
            "47\n",
            "10.223568\n",
            "48\n",
            "-21.853807\n",
            "49\n",
            "-57.15285\n",
            "50\n",
            "5.583024\n",
            "51\n",
            "-10.855954\n",
            "52\n",
            "12.933608\n",
            "53\n",
            "-68.489\n",
            "54\n",
            "-91.71973\n",
            "55\n",
            "17.047266\n",
            "56\n",
            "14.036635\n",
            "57\n",
            "-28.11735\n",
            "58\n",
            "25.528717\n",
            "59\n",
            "87.36391\n",
            "60\n",
            "-5.458382\n",
            "61\n",
            "55.31151\n",
            "62\n",
            "-88.373085\n",
            "63\n",
            "-2.7278523\n",
            "64\n",
            "7.49084\n",
            "65\n",
            "100.23862\n",
            "66\n",
            "42.95934\n",
            "67\n",
            "-54.6761\n",
            "68\n",
            "-50.132553\n",
            "69\n",
            "59.1893\n",
            "70\n",
            "-36.024162\n",
            "71\n",
            "-17.250324\n",
            "72\n",
            "17.808048\n",
            "73\n",
            "-3.7096086\n",
            "74\n",
            "102.50456\n",
            "75\n",
            "37.345768\n",
            "76\n",
            "-19.766453\n",
            "77\n",
            "9.527512\n",
            "78\n",
            "-39.362797\n",
            "79\n",
            "-5.236308\n",
            "80\n",
            "-6.2965927\n",
            "81\n",
            "-55.81337\n",
            "82\n",
            "49.855667\n",
            "83\n",
            "58.634327\n",
            "84\n",
            "13.449441\n",
            "85\n",
            "38.40657\n",
            "86\n",
            "-12.359261\n",
            "87\n",
            "83.47573\n",
            "88\n",
            "-36.159447\n",
            "89\n",
            "-55.9775\n",
            "90\n",
            "-92.59155\n",
            "91\n",
            "23.282768\n",
            "92\n",
            "-31.137072\n",
            "93\n",
            "-31.914978\n",
            "94\n",
            "-49.217358\n",
            "95\n",
            "-57.390255\n",
            "96\n",
            "-33.44105\n",
            "97\n",
            "-117.277664\n",
            "98\n",
            "68.35395\n",
            "99\n",
            "62.703552\n",
            "100\n",
            "-40.245274\n",
            "101\n",
            "-77.3828\n",
            "102\n",
            "33.879913\n",
            "103\n",
            "-106.64613\n",
            "104\n",
            "48.53276\n",
            "105\n",
            "76.96214\n",
            "106\n",
            "17.279907\n",
            "107\n",
            "23.650433\n",
            "108\n",
            "-10.123169\n",
            "109\n",
            "23.807898\n",
            "110\n",
            "37.366516\n",
            "111\n",
            "-19.588266\n",
            "112\n",
            "-91.68881\n",
            "113\n",
            "-43.31531\n",
            "114\n",
            "53.56195\n",
            "115\n",
            "-95.565186\n",
            "116\n",
            "-5.223139\n",
            "117\n",
            "-60.56369\n",
            "118\n",
            "32.99171\n",
            "119\n",
            "-53.034523\n",
            "120\n",
            "-38.13827\n",
            "121\n",
            "62.725956\n",
            "122\n",
            "36.449768\n",
            "123\n",
            "8.871458\n",
            "124\n",
            "-97.41873\n",
            "125\n",
            "19.987112\n",
            "126\n",
            "50.663105\n",
            "127\n",
            "63.364773\n",
            "128\n",
            "114.431656\n",
            "129\n",
            "-24.397131\n",
            "130\n",
            "63.942257\n",
            "131\n",
            "-6.6142497\n",
            "132\n",
            "-19.515547\n",
            "133\n",
            "38.238457\n",
            "134\n",
            "-41.66281\n",
            "135\n",
            "19.580767\n",
            "136\n",
            "24.79753\n",
            "137\n",
            "107.186424\n",
            "138\n",
            "42.636765\n",
            "139\n",
            "4.2876234\n",
            "140\n",
            "-4.5160356\n",
            "141\n",
            "-71.94682\n",
            "142\n",
            "-48.94761\n",
            "143\n",
            "29.425442\n",
            "144\n",
            "-16.495989\n",
            "145\n",
            "-30.765543\n",
            "146\n",
            "-88.878555\n",
            "147\n",
            "19.878023\n",
            "148\n",
            "-54.368233\n",
            "149\n",
            "-13.761196\n",
            "150\n",
            "-43.50408\n",
            "151\n",
            "-33.39206\n",
            "152\n",
            "159.30966\n",
            "153\n",
            "17.431416\n",
            "154\n",
            "-14.901921\n",
            "155\n",
            "41.043568\n",
            "156\n",
            "47.718487\n",
            "157\n",
            "-14.550711\n",
            "158\n",
            "-24.804451\n",
            "159\n",
            "17.975964\n",
            "160\n",
            "32.02299\n",
            "161\n",
            "54.289078\n",
            "162\n",
            "-62.77503\n",
            "163\n",
            "8.84251\n",
            "164\n",
            "50.02222\n",
            "165\n",
            "62.03351\n",
            "166\n",
            "72.798744\n",
            "167\n",
            "-4.2549896\n",
            "168\n",
            "69.440544\n",
            "169\n",
            "63.694813\n",
            "170\n",
            "-67.07855\n",
            "171\n",
            "-91.46424\n",
            "172\n",
            "6.2212853\n",
            "173\n",
            "-35.09378\n",
            "174\n",
            "-9.13325\n",
            "175\n",
            "20.916159\n",
            "176\n",
            "23.427296\n",
            "177\n",
            "23.786457\n",
            "178\n",
            "-13.237449\n",
            "179\n",
            "-47.593754\n",
            "180\n",
            "49.891182\n",
            "181\n",
            "67.521996\n",
            "182\n",
            "-122.382996\n",
            "183\n",
            "-7.0194197\n",
            "184\n",
            "-0.6429429\n",
            "185\n",
            "-16.22333\n",
            "186\n",
            "109.35416\n",
            "187\n",
            "46.473804\n",
            "188\n",
            "-87.60959\n",
            "189\n",
            "44.652542\n",
            "190\n",
            "-20.010199\n",
            "191\n",
            "-1.7105955\n",
            "192\n",
            "-17.749134\n",
            "193\n",
            "88.71477\n",
            "194\n",
            "-56.256695\n",
            "195\n",
            "-102.285576\n",
            "196\n",
            "4.5704374\n",
            "197\n",
            "-99.76196\n",
            "198\n",
            "45.707184\n",
            "199\n",
            "-68.27994\n",
            "200\n",
            "75.64854\n",
            "201\n",
            "-4.0760536\n",
            "202\n",
            "-32.475018\n",
            "203\n",
            "-37.361694\n",
            "204\n",
            "-82.496544\n",
            "205\n",
            "-45.236618\n",
            "206\n",
            "-16.412458\n",
            "207\n",
            "119.680115\n",
            "208\n",
            "67.14177\n",
            "209\n",
            "-12.356835\n",
            "210\n",
            "-93.118904\n",
            "211\n",
            "-102.77144\n",
            "212\n",
            "36.51614\n",
            "213\n",
            "-134.01028\n",
            "214\n",
            "47.62758\n",
            "215\n",
            "-35.78548\n",
            "216\n",
            "-113.36918\n",
            "217\n",
            "-34.943333\n",
            "218\n",
            "28.41553\n",
            "219\n",
            "-4.1016665\n",
            "220\n",
            "18.387054\n",
            "221\n",
            "34.38285\n",
            "222\n",
            "62.888813\n",
            "223\n",
            "-41.094166\n",
            "224\n",
            "-7.0580783\n",
            "225\n",
            "-38.512566\n",
            "226\n",
            "65.38699\n",
            "227\n",
            "61.01128\n",
            "228\n",
            "-23.563967\n",
            "229\n",
            "80.13304\n",
            "230\n",
            "-5.863305\n",
            "231\n",
            "38.946865\n",
            "232\n",
            "-31.105915\n",
            "233\n",
            "-12.380224\n",
            "234\n",
            "-80.21065\n",
            "235\n",
            "-24.804451\n",
            "236\n",
            "22.674053\n",
            "237\n",
            "-125.29592\n",
            "238\n",
            "-35.655926\n",
            "239\n",
            "-66.32753\n",
            "240\n",
            "10.810891\n",
            "241\n",
            "39.927742\n",
            "242\n",
            "16.006723\n",
            "243\n",
            "-7.651592\n",
            "244\n",
            "-99.76095\n",
            "245\n",
            "-27.057793\n",
            "246\n",
            "-2.7423453\n",
            "247\n",
            "-6.4700165\n",
            "248\n",
            "-60.56352\n",
            "249\n",
            "32.798557\n",
            "250\n",
            "-58.169575\n",
            "251\n",
            "57.69703\n",
            "252\n",
            "-60.935806\n",
            "253\n",
            "58.656242\n",
            "254\n",
            "29.39518\n",
            "255\n",
            "15.727579\n",
            "256\n",
            "12.933608\n",
            "257\n",
            "15.849249\n",
            "258\n",
            "42.79558\n",
            "259\n",
            "-42.00592\n",
            "260\n",
            "-23.351864\n",
            "261\n",
            "-54.197388\n",
            "262\n",
            "66.184\n",
            "263\n",
            "-11.136683\n",
            "264\n",
            "5.5175824\n",
            "265\n",
            "-68.24279\n",
            "266\n",
            "-5.659101\n",
            "267\n",
            "-51.29539\n",
            "268\n",
            "51.237793\n",
            "269\n",
            "38.584057\n",
            "270\n",
            "-28.388575\n",
            "271\n",
            "38.769474\n",
            "272\n",
            "28.205996\n",
            "273\n",
            "-43.639423\n",
            "274\n",
            "-8.645261\n",
            "275\n",
            "-27.432266\n",
            "276\n",
            "-36.612965\n",
            "277\n",
            "56.916107\n",
            "278\n",
            "19.54827\n",
            "279\n",
            "-93.40278\n",
            "280\n",
            "9.276006\n",
            "281\n",
            "6.6684117\n",
            "282\n",
            "66.65894\n",
            "283\n",
            "54.98444\n",
            "284\n",
            "-20.718508\n",
            "285\n",
            "31.809437\n",
            "286\n",
            "67.7547\n",
            "287\n",
            "-32.82246\n",
            "288\n",
            "-56.675064\n",
            "289\n",
            "-12.314308\n",
            "290\n",
            "26.265852\n",
            "291\n",
            "-74.72409\n",
            "292\n",
            "16.531534\n",
            "293\n",
            "48.1749\n",
            "294\n",
            "65.526405\n",
            "295\n",
            "-77.56512\n",
            "296\n",
            "49.19443\n",
            "297\n",
            "105.72137\n",
            "298\n",
            "-24.668003\n",
            "299\n",
            "38.16779\n",
            "300\n"
          ]
        }
      ]
    },
    {
      "cell_type": "code",
      "metadata": {
        "colab": {
          "base_uri": "https://localhost:8080/"
        },
        "id": "dRX5Lhp3bp8u",
        "outputId": "6d66766a-ea4e-4d5f-f681-6e78674b60bb"
      },
      "source": [
        "print(horizon_dict_30_min)"
      ],
      "execution_count": 50,
      "outputs": [
        {
          "output_type": "stream",
          "name": "stdout",
          "text": [
            "{71: 0, 45: 2.925826, 234: 20.789171, 225: 0, 75: 89.28518, 47: 22.205824, 54: 0, 209: 0, 51: 0, 244: 55.988857, 149: 100, 217: 100, 152: 64.55965, 115: 0, 133: 0, 91: 0, 142: 0, 271: 0, 53: 1.596409, 163: 0, 79: 14.158861, 3: 59.020412, 84: 0, 171: 0, 73: 0, 159: 68.31713, 137: 0, 99: 0, 17: 41.185963, 247: 0, 121: 0, 240: 61.312218, 207: 0, 264: 0, 87: 51.434784, 111: 0, 298: 1.4932021, 222: 15.832121, 226: 22.994545, 129: 100, 224: 64.43258, 135: 0, 22: 21.927273, 220: 33.998383, 118: 0, 243: 0, 107: 70.11186, 232: 10.223568, 153: 0, 56: 0, 130: 5.583024, 257: 0, 127: 12.933608, 5: 0, 221: 0, 164: 17.047266, 13: 14.036635, 211: 0, 63: 25.528717, 97: 87.36391, 119: 0, 194: 55.31151, 124: 0, 262: 0, 245: 7.49084, 239: 100, 55: 42.95934, 276: 0, 136: 0, 11: 59.1893, 146: 0, 147: 0, 289: 17.808048, 297: 0, 255: 100, 123: 37.345768, 158: 0, 261: 9.527512, 267: 0, 128: 0, 37: 0, 235: 0, 286: 49.855667, 77: 58.634327, 201: 13.449441, 213: 38.40657, 82: 0, 105: 83.47573, 275: 0, 85: 0, 68: 0, 116: 23.282768, 199: 0, 157: 0, 185: 0, 173: 0, 117: 0, 181: 0, 178: 68.35395, 48: 62.703552, 210: 0, 236: 0, 169: 33.879913, 67: 0, 175: 48.53276, 34: 76.96214, 248: 17.279907, 172: 23.650433, 155: 0, 101: 23.807898, 250: 37.366516, 174: 0, 278: 0, 42: 0, 70: 53.56195, 274: 0, 230: 0, 195: 0, 285: 32.99171, 93: 0, 52: 0, 170: 62.725956, 189: 36.449768, 19: 8.871458, 219: 0, 287: 19.987112, 9: 50.663105, 241: 63.364773, 58: 100, 33: 0, 106: 63.942257, 143: 0, 292: 0, 27: 38.238457, 180: 0, 162: 19.580767, 88: 24.79753, 76: 100, 140: 42.636765, 187: 4.2876234, 112: 0, 238: 0, 154: 0, 4: 29.425442, 102: 0, 66: 0, 24: 0, 126: 19.878023, 202: 0, 28: 0, 60: 0, 242: 0, 21: 100, 227: 17.431416, 94: 0, 263: 41.043568, 197: 47.718487, 139: 0, 80: 0, 89: 17.975964, 205: 32.02299, 83: 54.289078, 36: 0, 280: 8.84251, 61: 50.02222, 138: 62.03351, 198: 72.798744, 290: 0, 44: 69.440544, 265: 63.694813, 216: 0, 50: 0, 281: 6.2212853, 291: 0, 39: 0, 268: 20.916159, 196: 23.427296, 161: 23.786457, 177: 0, 144: 0, 72: 49.891182, 145: 67.521996, 295: 0, 20: 0, 200: 0, 30: 0, 95: 100, 208: 46.473804, 256: 0, 293: 44.652542, 228: 0, 14: 0, 29: 0, 150: 88.71477, 277: 0, 296: 0, 40: 4.5704374, 110: 0, 160: 45.707184, 120: 0, 103: 75.64854, 260: 0, 18: 0, 179: 0, 203: 0, 254: 0, 229: 0, 57: 100, 62: 67.14177, 246: 0, 148: 0, 279: 0, 258: 36.51614, 59: 0, 2: 47.62758, 46: 0, 7: 0, 273: 0, 132: 28.41553, 86: 0, 193: 18.387054, 176: 34.38285, 270: 62.888813, 190: 0, 90: 0, 113: 0, 186: 65.38699, 188: 61.01128, 168: 0, 23: 80.13304, 192: 0, 125: 38.946865, 74: 0, 251: 0, 100: 0, 78: 0, 272: 22.674053, 6: 0, 259: 0, 231: 0, 218: 10.810891, 32: 39.927742, 214: 16.006723, 184: 0, 35: 0, 204: 0, 299: 0, 156: 0, 65: 0, 98: 32.798557, 10: 0, 182: 57.69703, 131: 0, 237: 58.656242, 269: 29.39518, 191: 15.727579, 122: 12.933608, 43: 15.849249, 108: 42.79558, 206: 0, 165: 0, 16: 0, 212: 66.184, 151: 0, 166: 5.5175824, 284: 0, 141: 0, 282: 0, 167: 51.237793, 109: 38.584057, 8: 0, 41: 38.769474, 12: 28.205996, 64: 0, 283: 0, 81: 0, 215: 0, 253: 56.916107, 49: 19.54827, 288: 0, 25: 9.276006, 26: 6.6684117, 92: 66.65894, 249: 54.98444, 294: 0, 134: 31.809437, 1: 67.7547, 96: 0, 233: 0, 114: 0, 266: 26.265852, 300: 0, 252: 16.531534, 183: 48.1749, 69: 65.526405, 31: 0, 223: 49.19443, 38: 100, 15: 0, 104: 38.16779}\n"
          ]
        }
      ]
    },
    {
      "cell_type": "markdown",
      "metadata": {
        "id": "lZY5r-VOq7Cr"
      },
      "source": [
        "### Turn into dataframe format"
      ]
    },
    {
      "cell_type": "code",
      "metadata": {
        "id": "uvySoyBAhKKu"
      },
      "source": [
        "output_df = {'Scenario':[], '30_min_horizon':[] , '60_min_horizon':[], '90_min_horizon':[], '120_min_horizon':[]}\n",
        "for i in range(1, 301):\n",
        "  output_df['Scenario'].append(i)\n",
        "  output_df['30_min_horizon'].append(horizon_dict_30_min[i])\n",
        "  output_df['60_min_horizon'].append(horizon_dict_60_min[i])\n",
        "  output_df['90_min_horizon'].append(horizon_dict_90_min[i])\n",
        "  output_df['120_min_horizon'].append(horizon_dict_90_min[i])\n"
      ],
      "execution_count": 51,
      "outputs": []
    },
    {
      "cell_type": "code",
      "metadata": {
        "colab": {
          "base_uri": "https://localhost:8080/",
          "height": 241
        },
        "id": "GKsTOpTfV6oW",
        "outputId": "4338b570-0588-40c6-e072-2e5d16bd0818"
      },
      "source": [
        "print(output_df)\n",
        "output_df = pd.DataFrame(output_df)\n",
        "output_df = output_df.sort_values('Scenario')\n",
        "output_df.head()"
      ],
      "execution_count": 52,
      "outputs": [
        {
          "output_type": "stream",
          "name": "stdout",
          "text": [
            "{'Scenario': [1, 2, 3, 4, 5, 6, 7, 8, 9, 10, 11, 12, 13, 14, 15, 16, 17, 18, 19, 20, 21, 22, 23, 24, 25, 26, 27, 28, 29, 30, 31, 32, 33, 34, 35, 36, 37, 38, 39, 40, 41, 42, 43, 44, 45, 46, 47, 48, 49, 50, 51, 52, 53, 54, 55, 56, 57, 58, 59, 60, 61, 62, 63, 64, 65, 66, 67, 68, 69, 70, 71, 72, 73, 74, 75, 76, 77, 78, 79, 80, 81, 82, 83, 84, 85, 86, 87, 88, 89, 90, 91, 92, 93, 94, 95, 96, 97, 98, 99, 100, 101, 102, 103, 104, 105, 106, 107, 108, 109, 110, 111, 112, 113, 114, 115, 116, 117, 118, 119, 120, 121, 122, 123, 124, 125, 126, 127, 128, 129, 130, 131, 132, 133, 134, 135, 136, 137, 138, 139, 140, 141, 142, 143, 144, 145, 146, 147, 148, 149, 150, 151, 152, 153, 154, 155, 156, 157, 158, 159, 160, 161, 162, 163, 164, 165, 166, 167, 168, 169, 170, 171, 172, 173, 174, 175, 176, 177, 178, 179, 180, 181, 182, 183, 184, 185, 186, 187, 188, 189, 190, 191, 192, 193, 194, 195, 196, 197, 198, 199, 200, 201, 202, 203, 204, 205, 206, 207, 208, 209, 210, 211, 212, 213, 214, 215, 216, 217, 218, 219, 220, 221, 222, 223, 224, 225, 226, 227, 228, 229, 230, 231, 232, 233, 234, 235, 236, 237, 238, 239, 240, 241, 242, 243, 244, 245, 246, 247, 248, 249, 250, 251, 252, 253, 254, 255, 256, 257, 258, 259, 260, 261, 262, 263, 264, 265, 266, 267, 268, 269, 270, 271, 272, 273, 274, 275, 276, 277, 278, 279, 280, 281, 282, 283, 284, 285, 286, 287, 288, 289, 290, 291, 292, 293, 294, 295, 296, 297, 298, 299, 300], '30_min_horizon': [67.7547, 47.62758, 59.020412, 29.425442, 0, 0, 0, 0, 50.663105, 0, 59.1893, 28.205996, 14.036635, 0, 0, 0, 41.185963, 0, 8.871458, 0, 100, 21.927273, 80.13304, 0, 9.276006, 6.6684117, 38.238457, 0, 0, 0, 0, 39.927742, 0, 76.96214, 0, 0, 0, 100, 0, 4.5704374, 38.769474, 0, 15.849249, 69.440544, 2.925826, 0, 22.205824, 62.703552, 19.54827, 0, 0, 0, 1.596409, 0, 42.95934, 0, 100, 100, 0, 0, 50.02222, 67.14177, 25.528717, 0, 0, 0, 0, 0, 65.526405, 53.56195, 0, 49.891182, 0, 0, 89.28518, 100, 58.634327, 0, 14.158861, 0, 0, 0, 54.289078, 0, 0, 0, 51.434784, 24.79753, 17.975964, 0, 0, 66.65894, 0, 0, 100, 0, 87.36391, 32.798557, 0, 0, 23.807898, 0, 75.64854, 38.16779, 83.47573, 63.942257, 70.11186, 42.79558, 38.584057, 0, 0, 0, 0, 0, 0, 23.282768, 0, 0, 0, 0, 0, 12.933608, 37.345768, 0, 38.946865, 19.878023, 12.933608, 0, 100, 5.583024, 0, 28.41553, 0, 31.809437, 0, 0, 0, 62.03351, 0, 42.636765, 0, 0, 0, 0, 67.521996, 0, 0, 0, 100, 88.71477, 0, 64.55965, 0, 0, 0, 0, 0, 0, 68.31713, 45.707184, 23.786457, 19.580767, 0, 17.047266, 0, 5.5175824, 51.237793, 0, 33.879913, 62.725956, 0, 23.650433, 0, 0, 48.53276, 34.38285, 0, 68.35395, 0, 0, 0, 57.69703, 48.1749, 0, 0, 65.38699, 4.2876234, 61.01128, 36.449768, 0, 15.727579, 0, 18.387054, 55.31151, 0, 23.427296, 47.718487, 72.798744, 0, 0, 13.449441, 0, 0, 0, 32.02299, 0, 0, 46.473804, 0, 0, 0, 66.184, 38.40657, 16.006723, 0, 0, 100, 10.810891, 0, 33.998383, 0, 15.832121, 49.19443, 64.43258, 0, 22.994545, 17.431416, 0, 0, 0, 0, 10.223568, 0, 20.789171, 0, 0, 58.656242, 0, 100, 61.312218, 63.364773, 0, 0, 55.988857, 7.49084, 0, 0, 17.279907, 54.98444, 37.366516, 0, 16.531534, 56.916107, 0, 100, 0, 0, 36.51614, 0, 0, 9.527512, 0, 41.043568, 0, 63.694813, 26.265852, 0, 20.916159, 29.39518, 62.888813, 0, 22.674053, 0, 0, 0, 0, 0, 0, 0, 8.84251, 6.2212853, 0, 0, 0, 32.99171, 49.855667, 19.987112, 0, 17.808048, 0, 0, 0, 44.652542, 0, 0, 0, 0, 1.4932021, 0, 0], '60_min_horizon': [77.78481, 26.966404, 42.238464, 27.474157, 0, 0, 0, 0, 95.06048, 0, 100, 100, 37.45759, 0, 0, 0, 75.157555, 26.600512, 0, 42.033005, 56.28952, 14.164292, 100, 0, 64.56721, 32.11818, 25.855515, 0, 0, 2.5802965, 8.364741, 0, 0, 68.73963, 0, 0, 35.818027, 97.31018, 65.75976, 0, 60.5169, 66.35583, 0, 86.29798, 0, 2.184279, 76.00758, 88.47393, 77.15595, 0, 0, 62.611076, 0, 52.473442, 0, 0, 64.666, 81.8627, 0, 3.7766678, 0, 51.756973, 76.50869, 19.369812, 0, 12.803582, 0, 0, 59.22374, 76.438324, 0, 75.67451, 32.629536, 0, 100, 95.14284, 43.019806, 61.45499, 85.627556, 61.45499, 3.1885774, 59.838097, 39.10227, 17.11455, 1.534872, 0, 57.512764, 95.0138, 75.534904, 96.01559, 0, 1.8332925, 0, 68.31181, 91.411934, 1.5426116, 64.872795, 91.68401, 0, 0, 0, 0, 52.79562, 57.18601, 76.37504, 48.461575, 70.02606, 58.70373, 39.619488, 0, 0, 99.59095, 41.157333, 0, 67.69925, 47.094265, 0, 0, 73.862175, 0, 45.922855, 19.201235, 55.96273, 0, 12.8154, 83.979904, 19.201235, 43.900524, 59.192326, 0, 17.453815, 43.055874, 0, 36.257496, 0, 0.9664694, 0, 87.31945, 0, 11.953137, 0, 25.173592, 73.08543, 0, 50.642323, 0.22483501, 65.06311, 0, 61.555, 71.461296, 41.000206, 40.17151, 0, 0, 6.444736, 17.130302, 0, 0, 14.789127, 91.7377, 91.34296, 51.36433, 0, 15.391656, 0, 28.891998, 75.024025, 0, 100, 41.679695, 0, 58.988056, 0, 0, 64.24031, 17.249886, 37.38043, 100, 0, 0, 0, 43.42627, 98.58975, 0, 50.156174, 59.805958, 82.36516, 66.807205, 66.63526, 0, 0, 21.631105, 96.31585, 0, 0, 0, 84.48915, 76.83734, 37.15382, 0, 100, 91.051544, 0, 30.457315, 66.376915, 0, 32.51892, 86.80201, 0, 0, 37.428955, 11.128607, 79.74634, 36.03064, 79.28308, 0, 61.23062, 0, 0, 42.93312, 0, 6.425923, 63.10294, 100, 0, 0, 100, 0, 2.0843754, 28.722181, 7.7292767, 100, 0, 0, 0, 0, 81.92977, 0, 100, 73.52265, 100, 0, 0, 100, 52.692936, 0, 0, 21.615166, 51.864456, 0, 87.94561, 43.129013, 57.667088, 0, 100, 0, 11.659784, 72.916626, 8.765023, 10.341061, 56.49137, 74.401306, 36.80133, 0, 41.187923, 49.145107, 0, 0, 0, 22.60169, 19.840578, 42.93009, 58.35294, 0, 11.716039, 0, 0, 9.18201, 0, 75.43496, 38.76827, 0, 0, 0, 0, 47.767296, 2.5143888, 0, 7.152487, 65.60519, 0, 55.48738, 76.06696, 6.725234, 0, 0, 36.69999, 0, 0, 0], '90_min_horizon': [49.207157, 0, 38.52613, 24.75433, 0, 0, 0, 0, 39.449722, 0, 65.49445, 64.57593, 1.7928035, 12.5093, 0, 0, 9.956821, 10.449854, 11.331785, 0, 65.90395, 23.972797, 68.63713, 0, 39.68706, 24.930883, 22.240036, 9.775199, 0, 16.547039, 0, 1.3744186, 0, 94.87618, 6.257425, 0, 16.116562, 75.63432, 49.60172, 7.1505947, 60.352226, 0, 18.309595, 91.84899, 18.002178, 5.519998, 61.3345, 41.145138, 44.056232, 0, 0, 49.589825, 6.6580076, 25.611477, 14.002342, 0, 57.464996, 60.162903, 0, 23.454214, 17.710012, 40.698895, 44.919872, 13.865483, 0, 0, 0, 0, 100, 53.310493, 0, 59.05097, 20.193361, 4.9219656, 57.289906, 76.3814, 37.165, 16.271397, 40.47486, 16.271397, 44.931084, 0, 46.16751, 34.01286, 0, 3.5918498, 18.604275, 72.54963, 39.21267, 44.715015, 10.03213, 50.195896, 0, 45.22202, 70.35542, 25.054354, 64.60112, 59.926605, 0, 0, 16.022335, 13.535907, 52.897217, 0, 59.11322, 42.6337, 81.79481, 68.37949, 7.1109943, 0, 0, 43.808903, 20.91821, 26.065275, 40.72135, 0, 1.6998597, 10.190833, 38.922295, 0, 42.555046, 0, 3.4230955, 5.060167, 38.80467, 28.818878, 0, 0, 65.52421, 10.110551, 0, 34.403004, 0, 0, 0, 26.113308, 38.363476, 40.29064, 45.074818, 29.631079, 0, 14.291868, 67.558464, 0, 43.692368, 5.468239, 23.85501, 0, 60.005207, 80.75728, 16.73383, 62.759735, 10.743057, 0, 44.303406, 23.205103, 0, 0, 30.36564, 58.575027, 36.356136, 43.933117, 0, 0, 34.391422, 24.685747, 55.06005, 9.375558, 75.23575, 75.842964, 0, 51.540585, 32.07516, 8.192145, 48.479897, 23.951908, 0, 66.36878, 0, 0, 0, 0, 36.84384, 1.7333255, 27.164465, 56.00153, 63.924114, 40.58259, 54.65304, 0, 8.293224, 39.68505, 49.238678, 26.470829, 14.557305, 14.414759, 37.545586, 67.21478, 7.5736685, 6.5452986, 41.18638, 36.172092, 0, 2.8008313, 36.87946, 0, 34.064453, 41.77997, 0, 0, 0, 28.096848, 9.484173, 0, 16.625042, 66.683815, 58.410213, 0, 0, 45.31624, 0, 0.6718081, 29.33661, 77.814514, 0, 43.502213, 7.565962, 0, 22.643951, 0, 0, 58.85913, 0, 15.596294, 0, 0, 42.792633, 0, 35.379097, 56.3604, 74.33521, 19.444767, 13.906935, 50.267136, 62.80338, 0, 0, 27.45837, 55.536415, 54.281727, 56.174183, 0, 96.695564, 30.980661, 44.980305, 0, 12.718015, 71.554794, 38.74395, 16.67177, 56.128113, 34.57994, 50.919117, 0, 0, 0, 0, 27.262966, 26.551497, 21.316803, 5.920409, 18.527628, 30.366865, 43.983337, 27.108341, 0, 0, 0, 0, 37.254612, 0, 0, 10.16282, 0, 14.991767, 52.45704, 25.653772, 40.65862, 13.399376, 10.638984, 0, 44.837013, 22.588566, 47.23636, 0, 0, 45.96971, 0, 8.307047, 0], '120_min_horizon': [49.207157, 0, 38.52613, 24.75433, 0, 0, 0, 0, 39.449722, 0, 65.49445, 64.57593, 1.7928035, 12.5093, 0, 0, 9.956821, 10.449854, 11.331785, 0, 65.90395, 23.972797, 68.63713, 0, 39.68706, 24.930883, 22.240036, 9.775199, 0, 16.547039, 0, 1.3744186, 0, 94.87618, 6.257425, 0, 16.116562, 75.63432, 49.60172, 7.1505947, 60.352226, 0, 18.309595, 91.84899, 18.002178, 5.519998, 61.3345, 41.145138, 44.056232, 0, 0, 49.589825, 6.6580076, 25.611477, 14.002342, 0, 57.464996, 60.162903, 0, 23.454214, 17.710012, 40.698895, 44.919872, 13.865483, 0, 0, 0, 0, 100, 53.310493, 0, 59.05097, 20.193361, 4.9219656, 57.289906, 76.3814, 37.165, 16.271397, 40.47486, 16.271397, 44.931084, 0, 46.16751, 34.01286, 0, 3.5918498, 18.604275, 72.54963, 39.21267, 44.715015, 10.03213, 50.195896, 0, 45.22202, 70.35542, 25.054354, 64.60112, 59.926605, 0, 0, 16.022335, 13.535907, 52.897217, 0, 59.11322, 42.6337, 81.79481, 68.37949, 7.1109943, 0, 0, 43.808903, 20.91821, 26.065275, 40.72135, 0, 1.6998597, 10.190833, 38.922295, 0, 42.555046, 0, 3.4230955, 5.060167, 38.80467, 28.818878, 0, 0, 65.52421, 10.110551, 0, 34.403004, 0, 0, 0, 26.113308, 38.363476, 40.29064, 45.074818, 29.631079, 0, 14.291868, 67.558464, 0, 43.692368, 5.468239, 23.85501, 0, 60.005207, 80.75728, 16.73383, 62.759735, 10.743057, 0, 44.303406, 23.205103, 0, 0, 30.36564, 58.575027, 36.356136, 43.933117, 0, 0, 34.391422, 24.685747, 55.06005, 9.375558, 75.23575, 75.842964, 0, 51.540585, 32.07516, 8.192145, 48.479897, 23.951908, 0, 66.36878, 0, 0, 0, 0, 36.84384, 1.7333255, 27.164465, 56.00153, 63.924114, 40.58259, 54.65304, 0, 8.293224, 39.68505, 49.238678, 26.470829, 14.557305, 14.414759, 37.545586, 67.21478, 7.5736685, 6.5452986, 41.18638, 36.172092, 0, 2.8008313, 36.87946, 0, 34.064453, 41.77997, 0, 0, 0, 28.096848, 9.484173, 0, 16.625042, 66.683815, 58.410213, 0, 0, 45.31624, 0, 0.6718081, 29.33661, 77.814514, 0, 43.502213, 7.565962, 0, 22.643951, 0, 0, 58.85913, 0, 15.596294, 0, 0, 42.792633, 0, 35.379097, 56.3604, 74.33521, 19.444767, 13.906935, 50.267136, 62.80338, 0, 0, 27.45837, 55.536415, 54.281727, 56.174183, 0, 96.695564, 30.980661, 44.980305, 0, 12.718015, 71.554794, 38.74395, 16.67177, 56.128113, 34.57994, 50.919117, 0, 0, 0, 0, 27.262966, 26.551497, 21.316803, 5.920409, 18.527628, 30.366865, 43.983337, 27.108341, 0, 0, 0, 0, 37.254612, 0, 0, 10.16282, 0, 14.991767, 52.45704, 25.653772, 40.65862, 13.399376, 10.638984, 0, 44.837013, 22.588566, 47.23636, 0, 0, 45.96971, 0, 8.307047, 0]}\n"
          ]
        },
        {
          "output_type": "execute_result",
          "data": {
            "text/html": [
              "<div>\n",
              "<style scoped>\n",
              "    .dataframe tbody tr th:only-of-type {\n",
              "        vertical-align: middle;\n",
              "    }\n",
              "\n",
              "    .dataframe tbody tr th {\n",
              "        vertical-align: top;\n",
              "    }\n",
              "\n",
              "    .dataframe thead th {\n",
              "        text-align: right;\n",
              "    }\n",
              "</style>\n",
              "<table border=\"1\" class=\"dataframe\">\n",
              "  <thead>\n",
              "    <tr style=\"text-align: right;\">\n",
              "      <th></th>\n",
              "      <th>Scenario</th>\n",
              "      <th>30_min_horizon</th>\n",
              "      <th>60_min_horizon</th>\n",
              "      <th>90_min_horizon</th>\n",
              "      <th>120_min_horizon</th>\n",
              "    </tr>\n",
              "  </thead>\n",
              "  <tbody>\n",
              "    <tr>\n",
              "      <th>0</th>\n",
              "      <td>1</td>\n",
              "      <td>67.754700</td>\n",
              "      <td>77.784813</td>\n",
              "      <td>49.207157</td>\n",
              "      <td>49.207157</td>\n",
              "    </tr>\n",
              "    <tr>\n",
              "      <th>1</th>\n",
              "      <td>2</td>\n",
              "      <td>47.627579</td>\n",
              "      <td>26.966404</td>\n",
              "      <td>0.000000</td>\n",
              "      <td>0.000000</td>\n",
              "    </tr>\n",
              "    <tr>\n",
              "      <th>2</th>\n",
              "      <td>3</td>\n",
              "      <td>59.020412</td>\n",
              "      <td>42.238464</td>\n",
              "      <td>38.526131</td>\n",
              "      <td>38.526131</td>\n",
              "    </tr>\n",
              "    <tr>\n",
              "      <th>3</th>\n",
              "      <td>4</td>\n",
              "      <td>29.425442</td>\n",
              "      <td>27.474157</td>\n",
              "      <td>24.754330</td>\n",
              "      <td>24.754330</td>\n",
              "    </tr>\n",
              "    <tr>\n",
              "      <th>4</th>\n",
              "      <td>5</td>\n",
              "      <td>0.000000</td>\n",
              "      <td>0.000000</td>\n",
              "      <td>0.000000</td>\n",
              "      <td>0.000000</td>\n",
              "    </tr>\n",
              "  </tbody>\n",
              "</table>\n",
              "</div>"
            ],
            "text/plain": [
              "   Scenario  30_min_horizon  60_min_horizon  90_min_horizon  120_min_horizon\n",
              "0         1       67.754700       77.784813       49.207157        49.207157\n",
              "1         2       47.627579       26.966404        0.000000         0.000000\n",
              "2         3       59.020412       42.238464       38.526131        38.526131\n",
              "3         4       29.425442       27.474157       24.754330        24.754330\n",
              "4         5        0.000000        0.000000        0.000000         0.000000"
            ]
          },
          "metadata": {},
          "execution_count": 52
        }
      ]
    },
    {
      "cell_type": "markdown",
      "metadata": {
        "id": "623RSdczrAJW"
      },
      "source": [
        "### Prepare submission .csv file"
      ]
    },
    {
      "cell_type": "code",
      "metadata": {
        "colab": {
          "base_uri": "https://localhost:8080/",
          "height": 17
        },
        "id": "TLe2-p_2h3I0",
        "outputId": "0d816051-27ff-452f-d0a2-53b2a72dcbf0"
      },
      "source": [
        "from google.colab import files\n",
        "output_df.to_csv('submission_cloudcover.csv', index=False)\n",
        "files.download('submission_cloudcover.csv')"
      ],
      "execution_count": 53,
      "outputs": [
        {
          "output_type": "display_data",
          "data": {
            "application/javascript": [
              "\n",
              "    async function download(id, filename, size) {\n",
              "      if (!google.colab.kernel.accessAllowed) {\n",
              "        return;\n",
              "      }\n",
              "      const div = document.createElement('div');\n",
              "      const label = document.createElement('label');\n",
              "      label.textContent = `Downloading \"${filename}\": `;\n",
              "      div.appendChild(label);\n",
              "      const progress = document.createElement('progress');\n",
              "      progress.max = size;\n",
              "      div.appendChild(progress);\n",
              "      document.body.appendChild(div);\n",
              "\n",
              "      const buffers = [];\n",
              "      let downloaded = 0;\n",
              "\n",
              "      const channel = await google.colab.kernel.comms.open(id);\n",
              "      // Send a message to notify the kernel that we're ready.\n",
              "      channel.send({})\n",
              "\n",
              "      for await (const message of channel.messages) {\n",
              "        // Send a message to notify the kernel that we're ready.\n",
              "        channel.send({})\n",
              "        if (message.buffers) {\n",
              "          for (const buffer of message.buffers) {\n",
              "            buffers.push(buffer);\n",
              "            downloaded += buffer.byteLength;\n",
              "            progress.value = downloaded;\n",
              "          }\n",
              "        }\n",
              "      }\n",
              "      const blob = new Blob(buffers, {type: 'application/binary'});\n",
              "      const a = document.createElement('a');\n",
              "      a.href = window.URL.createObjectURL(blob);\n",
              "      a.download = filename;\n",
              "      div.appendChild(a);\n",
              "      a.click();\n",
              "      div.remove();\n",
              "    }\n",
              "  "
            ],
            "text/plain": [
              "<IPython.core.display.Javascript object>"
            ]
          },
          "metadata": {}
        },
        {
          "output_type": "display_data",
          "data": {
            "application/javascript": [
              "download(\"download_2e6932f0-dec5-4fa1-9d06-54df7ad78b98\", \"submission_cloudcover.csv\", 16210)"
            ],
            "text/plain": [
              "<IPython.core.display.Javascript object>"
            ]
          },
          "metadata": {}
        }
      ]
    }
  ]
}