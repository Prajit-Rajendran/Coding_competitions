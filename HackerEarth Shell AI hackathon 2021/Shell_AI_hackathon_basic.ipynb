{
  "nbformat": 4,
  "nbformat_minor": 0,
  "metadata": {
    "accelerator": "GPU",
    "colab": {
      "name": "Shell_AI_hackathon_basic.ipynb",
      "provenance": [],
      "collapsed_sections": []
    },
    "kernelspec": {
      "display_name": "Python 3",
      "name": "python3"
    },
    "language_info": {
      "name": "python"
    }
  },
  "cells": [
    {
      "cell_type": "markdown",
      "metadata": {
        "id": "jWqgYzZAExVD"
      },
      "source": [
        "## Import libraries"
      ]
    },
    {
      "cell_type": "code",
      "metadata": {
        "id": "XY8-aCNsHIGn"
      },
      "source": [
        "import pandas as pd\n",
        "import numpy as np\n",
        "import os\n",
        "import glob\n",
        "import tensorflow as tf\n",
        "from tensorflow import keras\n",
        "from tensorflow.keras import layers\n",
        "from keras.layers import LSTM, Dense\n",
        "from keras.models import Sequential\n",
        "from PIL import Image\n",
        "import matplotlib.pyplot as plt"
      ],
      "execution_count": 1,
      "outputs": []
    },
    {
      "cell_type": "markdown",
      "metadata": {
        "id": "ps_HPzoiE1fX"
      },
      "source": [
        "## Mounting Google drive"
      ]
    },
    {
      "cell_type": "code",
      "metadata": {
        "id": "ird99vy_HQEO",
        "colab": {
          "base_uri": "https://localhost:8080/"
        },
        "outputId": "f39c14af-6e44-4492-ff59-f835a8ee3c0f"
      },
      "source": [
        "from google.colab import drive\n",
        "drive.mount('/content/drive', force_remount=True)"
      ],
      "execution_count": 2,
      "outputs": [
        {
          "output_type": "stream",
          "name": "stdout",
          "text": [
            "Mounted at /content/drive\n"
          ]
        }
      ]
    },
    {
      "cell_type": "markdown",
      "metadata": {
        "id": "lrqy_TstE5FD"
      },
      "source": [
        "## Reading training data"
      ]
    },
    {
      "cell_type": "code",
      "metadata": {
        "id": "Cl15j5e2HTvd",
        "colab": {
          "base_uri": "https://localhost:8080/"
        },
        "outputId": "d740d628-acca-49f7-f12f-f05e9d437c52"
      },
      "source": [
        "df = pd.read_csv('/content/drive/My Drive/Shell_AI_train/train.csv')\n",
        "print(df.head())"
      ],
      "execution_count": 3,
      "outputs": [
        {
          "output_type": "stream",
          "name": "stdout",
          "text": [
            "  DATE (MM/DD)    MST  ...  Moisture  Albedo (CMP11)\n",
            "0          1/1  00:00  ...       0.0             0.0\n",
            "1          1/1  00:01  ...       0.0             0.0\n",
            "2          1/1  00:02  ...       0.0             0.0\n",
            "3          1/1  00:03  ...       0.0             0.0\n",
            "4          1/1  00:04  ...       0.0             0.0\n",
            "\n",
            "[5 rows x 17 columns]\n"
          ]
        }
      ]
    },
    {
      "cell_type": "markdown",
      "metadata": {
        "id": "y75o5ZAWE9SY"
      },
      "source": [
        "### Checking value counts for each date"
      ]
    },
    {
      "cell_type": "code",
      "metadata": {
        "id": "9HEanFQ7HWpR",
        "colab": {
          "base_uri": "https://localhost:8080/"
        },
        "outputId": "46368e93-9f63-47d6-c0ba-c499ca548cfb"
      },
      "source": [
        "print(df['DATE (MM/DD)'].value_counts())"
      ],
      "execution_count": 4,
      "outputs": [
        {
          "output_type": "stream",
          "name": "stdout",
          "text": [
            "6/29     1440\n",
            "4/13     1440\n",
            "7/14     1440\n",
            "9/29     1440\n",
            "8/2      1440\n",
            "         ... \n",
            "3/16     1440\n",
            "2/24     1440\n",
            "12/28    1440\n",
            "2/26     1440\n",
            "12/5     1440\n",
            "Name: DATE (MM/DD), Length: 366, dtype: int64\n"
          ]
        }
      ]
    },
    {
      "cell_type": "markdown",
      "metadata": {
        "id": "1FcUM5JiFBe2"
      },
      "source": [
        "### Checking value counts for each time of day"
      ]
    },
    {
      "cell_type": "code",
      "metadata": {
        "id": "C4pYa5zYHYJY",
        "colab": {
          "base_uri": "https://localhost:8080/"
        },
        "outputId": "6e95e1ff-1bf2-4ef0-d222-9829619f59c2"
      },
      "source": [
        "print(df['MST'].value_counts())"
      ],
      "execution_count": 5,
      "outputs": [
        {
          "output_type": "stream",
          "name": "stdout",
          "text": [
            "10:24    366\n",
            "23:36    366\n",
            "06:22    366\n",
            "18:18    366\n",
            "01:56    366\n",
            "        ... \n",
            "15:05    366\n",
            "04:56    366\n",
            "07:46    366\n",
            "00:43    366\n",
            "22:30    366\n",
            "Name: MST, Length: 1440, dtype: int64\n"
          ]
        }
      ]
    },
    {
      "cell_type": "markdown",
      "metadata": {
        "id": "gpjEFt6uFGZY"
      },
      "source": [
        "### Code to select row of specific date and time"
      ]
    },
    {
      "cell_type": "code",
      "metadata": {
        "id": "HLnHuLMkHb6O",
        "colab": {
          "base_uri": "https://localhost:8080/"
        },
        "outputId": "d1fde4b8-a88a-415c-bb1b-9bff241da9a0"
      },
      "source": [
        "selected_row = df[df['DATE (MM/DD)'] == '1/1']\n",
        "selected_row = selected_row[selected_row['MST'] == '07:40']\n",
        "print(selected_row)"
      ],
      "execution_count": 6,
      "outputs": [
        {
          "output_type": "stream",
          "name": "stdout",
          "text": [
            "    DATE (MM/DD)    MST  ...  Moisture  Albedo (CMP11)\n",
            "460          1/1  07:40  ...       0.0          0.1883\n",
            "\n",
            "[1 rows x 17 columns]\n"
          ]
        }
      ]
    },
    {
      "cell_type": "markdown",
      "metadata": {
        "id": "GsoSH_irFJ40"
      },
      "source": [
        "### List all available features"
      ]
    },
    {
      "cell_type": "code",
      "metadata": {
        "id": "4hJXSBXpHl55",
        "colab": {
          "base_uri": "https://localhost:8080/"
        },
        "outputId": "8728bcf4-ae45-40fd-952b-b9d99340135b"
      },
      "source": [
        "print(df.columns)"
      ],
      "execution_count": 7,
      "outputs": [
        {
          "output_type": "stream",
          "name": "stdout",
          "text": [
            "Index(['DATE (MM/DD)', 'MST', 'Global CMP22 (vent/cor) [W/m^2]',\n",
            "       'Direct sNIP [W/m^2]', 'Azimuth Angle [degrees]',\n",
            "       'Tower Dry Bulb Temp [deg C]', 'Tower Wet Bulb Temp [deg C]',\n",
            "       'Tower Dew Point Temp [deg C]', 'Tower RH [%]', 'Total Cloud Cover [%]',\n",
            "       'Peak Wind Speed @ 6ft [m/s]', 'Avg Wind Direction @ 6ft [deg from N]',\n",
            "       'Station Pressure [mBar]', 'Precipitation (Accumulated) [mm]',\n",
            "       'Snow Depth [cm]', 'Moisture', 'Albedo (CMP11)'],\n",
            "      dtype='object')\n"
          ]
        }
      ]
    },
    {
      "cell_type": "markdown",
      "metadata": {
        "id": "sKovkKgsFNPR"
      },
      "source": [
        "### Replacing -1 in target value to 0"
      ]
    },
    {
      "cell_type": "code",
      "metadata": {
        "id": "-hzPHthnHmUB"
      },
      "source": [
        "df['Total Cloud Cover [%]'].replace([-1],[0],inplace=True)"
      ],
      "execution_count": 8,
      "outputs": []
    },
    {
      "cell_type": "markdown",
      "metadata": {
        "id": "1B8vFBjuFRWv"
      },
      "source": [
        "### Check for null values"
      ]
    },
    {
      "cell_type": "code",
      "metadata": {
        "id": "D0KwR8GVHqUg",
        "colab": {
          "base_uri": "https://localhost:8080/"
        },
        "outputId": "22468e56-5b41-4a26-bd7d-6f201af2ec46"
      },
      "source": [
        "df.isnull().sum() "
      ],
      "execution_count": 9,
      "outputs": [
        {
          "output_type": "execute_result",
          "data": {
            "text/plain": [
              "DATE (MM/DD)                             0\n",
              "MST                                      0\n",
              "Global CMP22 (vent/cor) [W/m^2]          0\n",
              "Direct sNIP [W/m^2]                      0\n",
              "Azimuth Angle [degrees]                  0\n",
              "Tower Dry Bulb Temp [deg C]              0\n",
              "Tower Wet Bulb Temp [deg C]              0\n",
              "Tower Dew Point Temp [deg C]             0\n",
              "Tower RH [%]                             0\n",
              "Total Cloud Cover [%]                    0\n",
              "Peak Wind Speed @ 6ft [m/s]              0\n",
              "Avg Wind Direction @ 6ft [deg from N]    0\n",
              "Station Pressure [mBar]                  0\n",
              "Precipitation (Accumulated) [mm]         0\n",
              "Snow Depth [cm]                          0\n",
              "Moisture                                 0\n",
              "Albedo (CMP11)                           0\n",
              "dtype: int64"
            ]
          },
          "metadata": {},
          "execution_count": 9
        }
      ]
    },
    {
      "cell_type": "markdown",
      "metadata": {
        "id": "GAgj9fM9FU07"
      },
      "source": [
        "## Training process"
      ]
    },
    {
      "cell_type": "markdown",
      "metadata": {
        "id": "DuOkVEgeFYlq"
      },
      "source": [
        "### Select features for training"
      ]
    },
    {
      "cell_type": "code",
      "metadata": {
        "id": "rNyAiJxEskjG"
      },
      "source": [
        "selected_features = ['Global CMP22 (vent/cor) [W/m^2]',\n",
        "       'Direct sNIP [W/m^2]', 'Azimuth Angle [degrees]',\n",
        "       'Tower Dry Bulb Temp [deg C]', 'Tower Wet Bulb Temp [deg C]',\n",
        "       'Tower Dew Point Temp [deg C]', 'Tower RH [%]', 'Total Cloud Cover [%]',\n",
        "       'Peak Wind Speed @ 6ft [m/s]', 'Avg Wind Direction @ 6ft [deg from N]',\n",
        "       'Station Pressure [mBar]', 'Precipitation (Accumulated) [mm]',\n",
        "       'Snow Depth [cm]', 'Moisture', 'Albedo (CMP11)']"
      ],
      "execution_count": 128,
      "outputs": []
    },
    {
      "cell_type": "markdown",
      "metadata": {
        "id": "CmiJsICOFcz8"
      },
      "source": [
        "### Function to traverse data and get input and output sequences"
      ]
    },
    {
      "cell_type": "code",
      "metadata": {
        "colab": {
          "base_uri": "https://localhost:8080/"
        },
        "id": "62ffgdwaf--c",
        "outputId": "2758a2d9-dcd1-4415-9eab-35cef00080ce"
      },
      "source": [
        "def obtain_train_data(df, selected_features):\n",
        "  row_count = 0\n",
        "  input_data_points = []\n",
        "  output_data_points = []\n",
        "  for idx, row in df.iterrows():\n",
        "    cur_data_point = []\n",
        "    if row_count % 10 == 0:\n",
        "      for feature in selected_features:\n",
        "          cur_data_point.append(float(row[feature]))\n",
        "      input_data_points.append(cur_data_point)\n",
        "      output_data_points.append(row['Total Cloud Cover [%]'])\n",
        "    row_count += 1\n",
        "    if row_count % 10000 == 0:\n",
        "      print(row_count)\n",
        "    if row_count == 500000:\n",
        "      break\n",
        "  return np.array(input_data_points), np.array(output_data_points)\n",
        "\n",
        "input_seq, output_seq = obtain_train_data(df, selected_features)\n",
        "print(len(input_seq), len(output_seq))"
      ],
      "execution_count": 129,
      "outputs": [
        {
          "output_type": "stream",
          "name": "stdout",
          "text": [
            "10000\n",
            "20000\n",
            "30000\n",
            "40000\n",
            "50000\n",
            "60000\n",
            "70000\n",
            "80000\n",
            "90000\n",
            "100000\n",
            "110000\n",
            "120000\n",
            "130000\n",
            "140000\n",
            "150000\n",
            "160000\n",
            "170000\n",
            "180000\n",
            "190000\n",
            "200000\n",
            "210000\n",
            "220000\n",
            "230000\n",
            "240000\n",
            "250000\n",
            "260000\n",
            "270000\n",
            "280000\n",
            "290000\n",
            "300000\n",
            "310000\n",
            "320000\n",
            "330000\n",
            "340000\n",
            "350000\n",
            "360000\n",
            "370000\n",
            "380000\n",
            "390000\n",
            "400000\n",
            "410000\n",
            "420000\n",
            "430000\n",
            "440000\n",
            "450000\n",
            "460000\n",
            "470000\n",
            "480000\n",
            "490000\n",
            "500000\n",
            "50000 50000\n"
          ]
        }
      ]
    },
    {
      "cell_type": "markdown",
      "metadata": {
        "id": "SvyMpmofFibz"
      },
      "source": [
        "### Function to split sequence to predict next steps"
      ]
    },
    {
      "cell_type": "code",
      "metadata": {
        "id": "Et3msQSljEp9"
      },
      "source": [
        "def split_sequence(input_sequence, output_sequence, n_steps):\n",
        "\tX, y = list(), list()\n",
        "\tfor i in range(len(input_sequence)):\n",
        "\t\t# find the end of this pattern\n",
        "\t\tend_ix = i + n_steps + n_steps\n",
        "\t\t# check if we are beyond the sequence\n",
        "\t\tif end_ix > len(input_sequence)-1:\n",
        "\t\t\tbreak\n",
        "\t\t# gather input and output parts of the pattern\n",
        "\t\tseq_x, seq_y = input_sequence[i:end_ix - n_steps], output_sequence[end_ix -n_steps : end_ix]\n",
        "\t\tX.append(seq_x)\n",
        "\t\ty.append(seq_y)\n",
        "\treturn np.array(X), np.array(y)"
      ],
      "execution_count": 79,
      "outputs": []
    },
    {
      "cell_type": "code",
      "metadata": {
        "id": "r5X8x2qck7Ex"
      },
      "source": [
        "n_steps = 12\n",
        "n_input_features = len(selected_features)\n",
        "X, y = split_sequence(input_seq, output_seq, n_steps)"
      ],
      "execution_count": 130,
      "outputs": []
    },
    {
      "cell_type": "markdown",
      "metadata": {
        "id": "22v8V1uBFoHq"
      },
      "source": [
        "### Defining LSTM architecture"
      ]
    },
    {
      "cell_type": "code",
      "metadata": {
        "colab": {
          "base_uri": "https://localhost:8080/"
        },
        "id": "WwvpISWpkau2",
        "outputId": "24873178-aebf-4749-9b55-5f7ca9ac5787"
      },
      "source": [
        "# define model\n",
        "lstm_model = Sequential()\n",
        "lstm_model.add(LSTM(50, activation='relu', input_shape=(n_steps, n_input_features)))\n",
        "lstm_model.add(Dense(n_steps))\n",
        "lstm_model.compile(optimizer='adam', loss='mse')"
      ],
      "execution_count": 131,
      "outputs": [
        {
          "output_type": "stream",
          "name": "stdout",
          "text": [
            "WARNING:tensorflow:Layer lstm_5 will not use cuDNN kernels since it doesn't meet the criteria. It will use a generic GPU kernel as fallback when running on GPU.\n"
          ]
        }
      ]
    },
    {
      "cell_type": "code",
      "metadata": {
        "colab": {
          "base_uri": "https://localhost:8080/"
        },
        "id": "1E84RKPZklJy",
        "outputId": "7ca8732b-4be7-4df4-9e3d-6aa8c3a623dc"
      },
      "source": [
        "print(X.shape)"
      ],
      "execution_count": 132,
      "outputs": [
        {
          "output_type": "stream",
          "name": "stdout",
          "text": [
            "(49976, 12, 15)\n"
          ]
        }
      ]
    },
    {
      "cell_type": "code",
      "metadata": {
        "colab": {
          "base_uri": "https://localhost:8080/"
        },
        "id": "vOpEx20tkmjZ",
        "outputId": "a9c45ec8-6833-4847-b502-4dbd3edcce33"
      },
      "source": [
        "print(y.shape)"
      ],
      "execution_count": 133,
      "outputs": [
        {
          "output_type": "stream",
          "name": "stdout",
          "text": [
            "(49976, 12)\n"
          ]
        }
      ]
    },
    {
      "cell_type": "code",
      "metadata": {
        "id": "rMIjLcYJkn7D"
      },
      "source": [
        "X = X.reshape((X.shape[0], X.shape[1], n_input_features))"
      ],
      "execution_count": 134,
      "outputs": []
    },
    {
      "cell_type": "markdown",
      "metadata": {
        "id": "cjhXnZl_FsHJ"
      },
      "source": [
        "### Training and saving LSTM model"
      ]
    },
    {
      "cell_type": "code",
      "metadata": {
        "colab": {
          "base_uri": "https://localhost:8080/"
        },
        "id": "ocWUE5GQkrDB",
        "outputId": "5cb77942-8e1b-44ce-9d45-9487a827852c"
      },
      "source": [
        "# fit model\n",
        "lstm_model.fit(X, y, epochs=25)"
      ],
      "execution_count": 141,
      "outputs": [
        {
          "output_type": "stream",
          "name": "stdout",
          "text": [
            "Epoch 1/25\n",
            "1562/1562 [==============================] - 64s 41ms/step - loss: 229979.0156\n",
            "Epoch 2/25\n",
            "1562/1562 [==============================] - 64s 41ms/step - loss: 229919.8594\n",
            "Epoch 3/25\n",
            "1562/1562 [==============================] - 64s 41ms/step - loss: 229955.8281\n",
            "Epoch 4/25\n",
            "1562/1562 [==============================] - 65s 42ms/step - loss: 229979.2812\n",
            "Epoch 5/25\n",
            "1562/1562 [==============================] - 65s 42ms/step - loss: 230144.7031\n",
            "Epoch 6/25\n",
            "1562/1562 [==============================] - 67s 43ms/step - loss: 229936.9844\n",
            "Epoch 7/25\n",
            "1562/1562 [==============================] - 66s 42ms/step - loss: 229929.7188\n",
            "Epoch 8/25\n",
            "1562/1562 [==============================] - 65s 42ms/step - loss: 229909.7812\n",
            "Epoch 9/25\n",
            "1562/1562 [==============================] - 65s 42ms/step - loss: 229907.2188\n",
            "Epoch 10/25\n",
            "1562/1562 [==============================] - 66s 42ms/step - loss: 229881.7969\n",
            "Epoch 11/25\n",
            "1562/1562 [==============================] - 66s 42ms/step - loss: 229912.5625\n",
            "Epoch 12/25\n",
            "1562/1562 [==============================] - 66s 42ms/step - loss: 230012.6406\n",
            "Epoch 13/25\n",
            "1562/1562 [==============================] - 66s 42ms/step - loss: 229939.6406\n",
            "Epoch 14/25\n",
            "1562/1562 [==============================] - 66s 42ms/step - loss: 229850.3594\n",
            "Epoch 15/25\n",
            "1562/1562 [==============================] - 65s 42ms/step - loss: 229779.7656\n",
            "Epoch 16/25\n",
            "1562/1562 [==============================] - 65s 42ms/step - loss: 229739.2656\n",
            "Epoch 17/25\n",
            "1562/1562 [==============================] - 65s 42ms/step - loss: 229747.9688\n",
            "Epoch 18/25\n",
            "1562/1562 [==============================] - 66s 42ms/step - loss: 229717.3438\n",
            "Epoch 19/25\n",
            "1562/1562 [==============================] - 66s 42ms/step - loss: 229699.3438\n",
            "Epoch 20/25\n",
            "1562/1562 [==============================] - 66s 42ms/step - loss: 229905.8281\n",
            "Epoch 21/25\n",
            "1562/1562 [==============================] - 66s 42ms/step - loss: 229866.0938\n",
            "Epoch 22/25\n",
            "1562/1562 [==============================] - 65s 42ms/step - loss: 229860.6875\n",
            "Epoch 23/25\n",
            "1562/1562 [==============================] - 65s 42ms/step - loss: 229788.7500\n",
            "Epoch 24/25\n",
            "1562/1562 [==============================] - 66s 42ms/step - loss: 229808.1562\n",
            "Epoch 25/25\n",
            "1562/1562 [==============================] - 66s 42ms/step - loss: 229777.9688\n"
          ]
        },
        {
          "output_type": "execute_result",
          "data": {
            "text/plain": [
              "<keras.callbacks.History at 0x7fa6bceb7090>"
            ]
          },
          "metadata": {},
          "execution_count": 141
        }
      ]
    },
    {
      "cell_type": "code",
      "metadata": {
        "id": "Bm_gAIguqTfw"
      },
      "source": [
        "lstm_model.save('/content/drive/My Drive/Shell_AI_train/lstm_model_noimage2.h5')"
      ],
      "execution_count": 142,
      "outputs": []
    },
    {
      "cell_type": "markdown",
      "metadata": {
        "id": "VDqEKAN0FwKM"
      },
      "source": [
        "## Testing process"
      ]
    },
    {
      "cell_type": "markdown",
      "metadata": {
        "id": "hJBZF93kFzag"
      },
      "source": [
        "### Loading LSTM model"
      ]
    },
    {
      "cell_type": "code",
      "metadata": {
        "colab": {
          "base_uri": "https://localhost:8080/"
        },
        "id": "gVTp8csdqKmm",
        "outputId": "d318c09c-ca9e-4644-cd40-6f846d276d0b"
      },
      "source": [
        "loaded_lstm_model = keras.models.load_model('/content/drive/My Drive/Shell_AI_train/lstm_model_noimage2.h5')"
      ],
      "execution_count": 143,
      "outputs": [
        {
          "output_type": "stream",
          "name": "stdout",
          "text": [
            "WARNING:tensorflow:Layer lstm_5 will not use cuDNN kernels since it doesn't meet the criteria. It will use a generic GPU kernel as fallback when running on GPU.\n"
          ]
        }
      ]
    },
    {
      "cell_type": "markdown",
      "metadata": {
        "id": "FazSOquPF6rV"
      },
      "source": [
        "### Unzip test folder"
      ]
    },
    {
      "cell_type": "code",
      "metadata": {
        "id": "SuVGpBPnmA9n"
      },
      "source": [
        "!unzip -uq \"/content/drive/My Drive/test.zip\" -d \"/content\""
      ],
      "execution_count": 91,
      "outputs": []
    },
    {
      "cell_type": "markdown",
      "metadata": {
        "id": "7EIpolAEF87t"
      },
      "source": [
        "### Code to traverse all folders and generate prediction for 30, 60, 90 and 120 minute intervals"
      ]
    },
    {
      "cell_type": "code",
      "metadata": {
        "colab": {
          "base_uri": "https://localhost:8080/"
        },
        "id": "6lahpd6ImIh-",
        "outputId": "98cb7740-6331-4704-c4c2-2e588edb7280"
      },
      "source": [
        "path = '/content/test'\n",
        "\n",
        "def clip_value(val):\n",
        "  if val > 100:\n",
        "    return val\n",
        "  if val < 0:\n",
        "    return 0\n",
        "  return val\n",
        "\n",
        "def obtain_test_data(path, model, selected_features, n_steps):\n",
        "    files = os.listdir(path)\n",
        "    count_folder = 0\n",
        "    final_values = [349, 350, 351, 352, 353, 354, 355, 356, 357, 358, 359, 360]\n",
        "    output_df = {'scenario_set':[], '30_min_horizon':[] , '60_min_horizon':[], '90_min_horizon':[], '120_min_horizon':[]}\n",
        "    for f in files:\n",
        "        data_file = 'weather_data.csv'\n",
        "        cur_df = pd.read_csv(path +'/' + f + '/' + data_file)\n",
        "        x_input = []\n",
        "        for val in final_values[-n_steps:]:\n",
        "            selected_row = cur_df[cur_df['Time [Mins]'] == int(val)]\n",
        "            cur_data_point = []\n",
        "            for feature in selected_features:\n",
        "                  cur_data_point.append(float(selected_row[feature]))\n",
        "            x_input.append(cur_data_point)\n",
        "        x_input = np.array(x_input)\n",
        "        x_input = x_input.reshape((1, n_steps, n_input_features))\n",
        "        yhat = lstm_model.predict(x_input)[0]\n",
        "        value_30_min = clip_value(yhat[2])\n",
        "        value_60_min = clip_value(yhat[5])\n",
        "        value_90_min = clip_value(yhat[8])\n",
        "        value_120_min = clip_value(yhat[11])\n",
        "        #print(f, yhat)\n",
        "        output_df['scenario_set'].append(int(f))\n",
        "        output_df['30_min_horizon'].append(value_30_min)\n",
        "        output_df['60_min_horizon'].append(value_60_min)\n",
        "        output_df['90_min_horizon'].append(value_90_min)\n",
        "        output_df['120_min_horizon'].append(value_120_min)\n",
        "        count_folder += 1\n",
        "        print(count_folder)\n",
        "    return output_df\n",
        "\n",
        "output_df = obtain_test_data(path, lstm_model, selected_features, n_steps)"
      ],
      "execution_count": 144,
      "outputs": [
        {
          "output_type": "stream",
          "name": "stdout",
          "text": [
            "1\n",
            "2\n",
            "3\n",
            "4\n",
            "5\n",
            "6\n",
            "7\n",
            "8\n",
            "9\n",
            "10\n",
            "11\n",
            "12\n",
            "13\n",
            "14\n",
            "15\n",
            "16\n",
            "17\n",
            "18\n",
            "19\n",
            "20\n",
            "21\n",
            "22\n",
            "23\n",
            "24\n",
            "25\n",
            "26\n",
            "27\n",
            "28\n",
            "29\n",
            "30\n",
            "31\n",
            "32\n",
            "33\n",
            "34\n",
            "35\n",
            "36\n",
            "37\n",
            "38\n",
            "39\n",
            "40\n",
            "41\n",
            "42\n",
            "43\n",
            "44\n",
            "45\n",
            "46\n",
            "47\n",
            "48\n",
            "49\n",
            "50\n",
            "51\n",
            "52\n",
            "53\n",
            "54\n",
            "55\n",
            "56\n",
            "57\n",
            "58\n",
            "59\n",
            "60\n",
            "61\n",
            "62\n",
            "63\n",
            "64\n",
            "65\n",
            "66\n",
            "67\n",
            "68\n",
            "69\n",
            "70\n",
            "71\n",
            "72\n",
            "73\n",
            "74\n",
            "75\n",
            "76\n",
            "77\n",
            "78\n",
            "79\n",
            "80\n",
            "81\n",
            "82\n",
            "83\n",
            "84\n",
            "85\n",
            "86\n",
            "87\n",
            "88\n",
            "89\n",
            "90\n",
            "91\n",
            "92\n",
            "93\n",
            "94\n",
            "95\n",
            "96\n",
            "97\n",
            "98\n",
            "99\n",
            "100\n",
            "101\n",
            "102\n",
            "103\n",
            "104\n",
            "105\n",
            "106\n",
            "107\n",
            "108\n",
            "109\n",
            "110\n",
            "111\n",
            "112\n",
            "113\n",
            "114\n",
            "115\n",
            "116\n",
            "117\n",
            "118\n",
            "119\n",
            "120\n",
            "121\n",
            "122\n",
            "123\n",
            "124\n",
            "125\n",
            "126\n",
            "127\n",
            "128\n",
            "129\n",
            "130\n",
            "131\n",
            "132\n",
            "133\n",
            "134\n",
            "135\n",
            "136\n",
            "137\n",
            "138\n",
            "139\n",
            "140\n",
            "141\n",
            "142\n",
            "143\n",
            "144\n",
            "145\n",
            "146\n",
            "147\n",
            "148\n",
            "149\n",
            "150\n",
            "151\n",
            "152\n",
            "153\n",
            "154\n",
            "155\n",
            "156\n",
            "157\n",
            "158\n",
            "159\n",
            "160\n",
            "161\n",
            "162\n",
            "163\n",
            "164\n",
            "165\n",
            "166\n",
            "167\n",
            "168\n",
            "169\n",
            "170\n",
            "171\n",
            "172\n",
            "173\n",
            "174\n",
            "175\n",
            "176\n",
            "177\n",
            "178\n",
            "179\n",
            "180\n",
            "181\n",
            "182\n",
            "183\n",
            "184\n",
            "185\n",
            "186\n",
            "187\n",
            "188\n",
            "189\n",
            "190\n",
            "191\n",
            "192\n",
            "193\n",
            "194\n",
            "195\n",
            "196\n",
            "197\n",
            "198\n",
            "199\n",
            "200\n",
            "201\n",
            "202\n",
            "203\n",
            "204\n",
            "205\n",
            "206\n",
            "207\n",
            "208\n",
            "209\n",
            "210\n",
            "211\n",
            "212\n",
            "213\n",
            "214\n",
            "215\n",
            "216\n",
            "217\n",
            "218\n",
            "219\n",
            "220\n",
            "221\n",
            "222\n",
            "223\n",
            "224\n",
            "225\n",
            "226\n",
            "227\n",
            "228\n",
            "229\n",
            "230\n",
            "231\n",
            "232\n",
            "233\n",
            "234\n",
            "235\n",
            "236\n",
            "237\n",
            "238\n",
            "239\n",
            "240\n",
            "241\n",
            "242\n",
            "243\n",
            "244\n",
            "245\n",
            "246\n",
            "247\n",
            "248\n",
            "249\n",
            "250\n",
            "251\n",
            "252\n",
            "253\n",
            "254\n",
            "255\n",
            "256\n",
            "257\n",
            "258\n",
            "259\n",
            "260\n",
            "261\n",
            "262\n",
            "263\n",
            "264\n",
            "265\n",
            "266\n",
            "267\n",
            "268\n",
            "269\n",
            "270\n",
            "271\n",
            "272\n",
            "273\n",
            "274\n",
            "275\n",
            "276\n",
            "277\n",
            "278\n",
            "279\n",
            "280\n",
            "281\n",
            "282\n",
            "283\n",
            "284\n",
            "285\n",
            "286\n",
            "287\n",
            "288\n",
            "289\n",
            "290\n",
            "291\n",
            "292\n",
            "293\n",
            "294\n",
            "295\n",
            "296\n",
            "297\n",
            "298\n",
            "299\n",
            "300\n"
          ]
        }
      ]
    },
    {
      "cell_type": "markdown",
      "metadata": {
        "id": "ElbyToR_GD26"
      },
      "source": [
        "### Convert predictions to a dataframe"
      ]
    },
    {
      "cell_type": "code",
      "metadata": {
        "colab": {
          "base_uri": "https://localhost:8080/",
          "height": 241
        },
        "id": "4SBwMuVjrtaQ",
        "outputId": "07e95798-397e-4413-b7bd-072f9e25dc23"
      },
      "source": [
        "print(output_df)\n",
        "output_df = pd.DataFrame(output_df)\n",
        "output_df = output_df.sort_values('scenario_set')\n",
        "output_df.head()"
      ],
      "execution_count": 145,
      "outputs": [
        {
          "output_type": "stream",
          "name": "stdout",
          "text": [
            "{'scenario_set': [175, 239, 24, 230, 294, 244, 275, 144, 160, 185, 47, 209, 50, 242, 60, 93, 268, 117, 202, 171, 119, 5, 18, 282, 212, 83, 121, 221, 15, 196, 169, 125, 255, 205, 184, 135, 21, 227, 29, 143, 263, 231, 251, 133, 261, 94, 42, 219, 37, 109, 52, 151, 53, 155, 206, 159, 204, 293, 56, 103, 4, 291, 77, 289, 105, 147, 182, 168, 36, 34, 63, 3, 87, 139, 145, 224, 67, 234, 200, 256, 97, 295, 163, 149, 100, 253, 173, 108, 31, 292, 161, 203, 250, 55, 25, 156, 68, 271, 16, 12, 129, 279, 247, 80, 216, 131, 199, 220, 248, 82, 72, 102, 88, 277, 146, 81, 112, 61, 118, 89, 48, 13, 27, 187, 46, 71, 177, 189, 104, 54, 99, 197, 284, 198, 136, 191, 17, 158, 32, 150, 264, 130, 257, 141, 193, 188, 154, 20, 243, 115, 162, 123, 233, 223, 40, 297, 152, 259, 39, 285, 281, 73, 232, 148, 213, 267, 11, 298, 283, 44, 280, 62, 70, 14, 110, 91, 201, 1, 266, 116, 207, 238, 272, 286, 7, 179, 124, 26, 84, 8, 41, 192, 30, 43, 111, 9, 211, 229, 22, 226, 172, 245, 106, 2, 134, 190, 75, 254, 222, 69, 258, 218, 228, 270, 170, 262, 33, 38, 78, 114, 240, 290, 49, 241, 128, 138, 166, 296, 23, 278, 28, 176, 252, 59, 66, 76, 126, 274, 51, 157, 132, 74, 174, 265, 58, 215, 142, 165, 273, 127, 235, 300, 167, 120, 194, 246, 92, 217, 181, 210, 96, 225, 214, 236, 137, 90, 19, 122, 107, 237, 6, 101, 95, 164, 180, 260, 153, 35, 45, 140, 269, 65, 86, 98, 85, 79, 276, 287, 178, 10, 249, 64, 113, 57, 183, 288, 186, 195, 208, 299], '30_min_horizon': [0, 72.09121, 0, 0, 0, 42.345825, 0, 0, 35.20847, 0, 0, 0, 0, 0, 0, 0, 16.325377, 0, 0, 0, 0, 0, 6.3667865, 0, 0, 0, 0, 0, 0, 0, 0, 0, 29.818792, 0, 0, 0, 0, 1.1032299, 0, 0, 35.34705, 0, 15.025257, 0, 36.719273, 0, 20.88215, 0, 18.486961, 0, 0, 5.0622435, 0, 0, 0, 0, 0, 8.245053, 0, 0, 10.565917, 0, 0, 5.685547, 63.821987, 31.945023, 25.097618, 0, 0, 29.144196, 0, 40.88495, 15.211167, 32.871872, 0, 50.16802, 0, 0, 0, 0, 48.99319, 0, 0, 0, 0, 51.059753, 0, 21.107634, 0, 0, 33.75685, 0, 30.796072, 0, 4.8576736, 36.9742, 0, 8.217913, 0, 0, 25.42055, 0, 0, 10.104548, 0, 0, 30.052408, 0, 3.2102797, 23.55755, 86.27097, 0.037688762, 4.9147596, 0, 0, 0, 39.478832, 0, 0, 45.038647, 40.975765, 0, 0, 0, 0, 0, 35.500656, 78.06301, 0, 30.297104, 0, 0, 0, 78.04767, 0, 0, 21.2622, 0, 0, 0, 0, 0.8826828, 0, 0, 34.810944, 67.95277, 0, 26.100933, 0, 0, 0, 30.303389, 0, 15.482947, 0, 0, 3.0473633, 0, 0, 0, 2.1446211, 36.253662, 15.435564, 0, 26.391094, 0, 62.12699, 0, 0, 0, 24.33243, 78.63012, 33.433292, 0, 0, 0, 0, 20.837454, 22.352217, 23.209982, 0, 0, 27.450869, 14.278129, 0, 0, 0, 39.12117, 0.4155071, 0, 23.915659, 0, 22.002218, 0, 0, 5.677925, 30.721546, 2.031964, 0, 36.654343, 27.58675, 80.457405, 0, 13.280837, 0, 0, 47.69015, 0, 0.90937877, 12.6607485, 0, 0, 0, 36.602726, 16.231068, 3.639642, 0, 36.832752, 10.104548, 29.443626, 38.64191, 0, 35.946728, 37.333538, 0, 0, 0, 0, 10.268249, 0, 0, 37.957737, 28.452454, 0, 12.847773, 28.289982, 19.93214, 0, 0, 0, 0, 0, 0, 3.0031888, 66.00949, 12.251443, 0, 27.703836, 0, 12.464103, 0, 0, 28.55898, 0, 56.048355, 0, 45.06068, 1.885802, 0, 0, 0, 0, 33.60595, 0, 0, 0, 0, 12.464103, 68.42503, 0, 0, 0, 65.78735, 31.419622, 0, 0, 0, 0, 0, 0, 0, 0, 0, 42.297295, 0, 36.213253, 0, 0, 33.508545, 0, 0, 0, 19.865158, 0, 0, 0, 33.676098, 0, 42.66279, 0], '60_min_horizon': [0, 78.81912, 0, 0, 0, 45.919647, 0, 0, 27.959187, 0, 5.1754265, 0, 0, 0, 0, 0, 11.794307, 0, 0, 0, 0, 0, 0, 0, 0, 0, 0, 0, 0, 0, 0, 0, 31.72347, 0, 0, 0, 5.2412643, 7.1262765, 0, 0, 37.28457, 0, 17.44618, 0, 42.839554, 0, 21.937574, 0, 20.846992, 3.5752032, 0, 7.026791, 0, 0, 0, 0, 0, 14.7360325, 0, 0, 7.1823864, 0, 0, 8.28261, 73.625984, 29.477417, 27.564148, 0, 0, 32.809643, 0, 44.12663, 19.987783, 29.767597, 0, 54.32575, 0, 0, 0, 0, 55.700832, 0, 0, 0, 0, 57.66859, 0, 23.654331, 0, 0, 36.689526, 0, 30.757051, 0, 11.192521, 37.765877, 0, 10.324999, 0, 0, 29.902817, 0, 0, 14.171319, 0, 0, 29.85542, 0, 0, 26.023449, 100.30652, 6.47013, 6.219228, 0, 0, 0, 42.794228, 0, 0, 48.55438, 43.798115, 0, 0, 0, 0, 0, 39.14105, 91.09403, 0, 25.577087, 0, 0, 0, 91.32264, 0, 0, 16.025618, 0, 0, 0, 0, 0, 0, 0, 36.160145, 74.657326, 0, 26.984484, 0, 0, 0, 32.97827, 0, 12.413941, 0, 0, 4.202766, 0, 0, 0, 0.08887018, 37.30784, 17.634785, 0, 40.560825, 0, 68.32797, 0, 0, 0, 26.561596, 87.90885, 36.686756, 0, 0, 0, 0, 23.24179, 27.657848, 25.353483, 0, 0, 29.912819, 6.8889446, 0, 0, 0, 42.45428, 10.7745, 0, 26.213308, 0, 17.98637, 0, 0, 8.223797, 25.049244, 8.779789, 0, 36.081867, 26.300987, 0, 0, 21.326683, 1.3235284, 0, 51.662914, 0, 7.535062, 14.620842, 0, 0, 0, 40.00057, 19.413435, 10.44589, 0, 41.194416, 14.171319, 24.387615, 42.224594, 0, 39.042873, 37.925884, 0, 0, 0, 0, 3.1772692, 0, 3.46501, 41.204, 30.989168, 0, 14.764946, 29.503544, 21.053905, 0, 0, 0, 0, 0, 0, 2.7633345, 75.751945, 17.568848, 0, 22.007244, 0, 14.462473, 0, 0, 15.56023, 0, 64.00609, 0, 50.531197, 7.866539, 0, 0, 2.2956383, 0, 35.699875, 0, 2.14316, 0, 0, 14.462473, 0, 0, 0, 0, 77.30895, 29.284737, 0, 0, 0, 0, 0, 0, 0, 0, 0, 45.872314, 0, 39.329296, 0, 0, 39.594746, 0, 0, 0.19539598, 21.758024, 0, 0, 0, 34.303505, 0, 46.26027, 0], '90_min_horizon': [14.391556, 68.19228, 0, 0, 0, 36.558083, 0, 0, 17.743765, 0, 0, 0, 0, 0, 0, 0, 7.742161, 0, 0, 0, 36.57059, 0, 0, 0, 0, 0, 0, 0, 0, 0, 0, 0, 35.953804, 15.270284, 0, 0, 0, 0.4344615, 0, 157.60027, 29.199293, 0, 14.392901, 0, 35.55305, 0, 33.29652, 0, 15.848437, 0, 0, 4.1451635, 0, 0, 0, 0, 0, 6.1790285, 0, 0, 5.3716583, 0, 0, 4.580588, 64.70964, 21.145416, 21.741531, 0, 0, 26.989637, 38.169598, 35.155983, 12.550952, 21.08426, 0, 43.31511, 0, 0, 0, 0, 47.90899, 0, 0, 3.3300009, 0, 49.186207, 0, 19.223618, 0, 0, 29.138689, 0, 23.23254, 0, 1.3148025, 29.010717, 0, 6.8874683, 0, 40.731556, 21.5558, 0, 0, 8.197486, 0, 0, 20.671232, 0, 0, 20.277546, 91.95677, 3.7148495, 7.52424, 0, 0, 0, 34.02727, 0, 0, 39.343166, 39.09227, 0.16644713, 0, 29.661787, 0, 0, 30.124998, 81.837234, 29.431633, 17.122078, 0, 28.619143, 0, 82.41591, 0, 0, 28.532244, 0, 0, 0, 0, 0, 0, 0, 26.282244, 63.560513, 0, 30.98703, 0, 7.959134, 0, 26.155495, 0, 42.22822, 0, 0, 0, 0, 7.5393887, 0, 23.873384, 28.797548, 14.342714, 0, 28.053732, 0, 56.501766, 0, 0, 13.916419, 20.997616, 76.589294, 25.545391, 0, 0, 0, 0, 20.675722, 18.7203, 20.038769, 0, 0, 23.691408, 2.9051733, 0, 0, 0, 33.772537, 3.6181421, 0, 20.620092, 0, 9.464351, 0, 0, 12.025672, 16.287378, 5.474311, 0, 27.176485, 15.659829, 286.8401, 16.169212, 13.90289, 0, 0, 41.17466, 0, 2.729292, 11.893768, 0, 0, 0, 32.007683, 16.53087, 2.4303098, 0, 32.11712, 8.197486, 16.081335, 33.30838, 10.410752, 31.030365, 47.159325, 0, 14.492637, 0, 0, 0, 0, 0.55196285, 32.767532, 24.556604, 0, 10.981, 35.353046, 31.791704, 0, 0, 0, 0, 0, 0, 25.049738, 66.698975, 9.86037, 0, 13.925974, 19.23293, 10.63027, 0, 0, 5.671405, 0, 56.222168, 0, 42.26799, 0.653636, 0, 0, 0, 0, 28.072943, 0, 0, 3.4868584, 0, 10.63027, 82.38237, 18.208986, 0, 0, 69.81043, 21.145666, 0, 0, 0, 0, 0, 0, 0, 0, 0, 36.515312, 0, 31.260597, 0, 0, 29.1419, 0, 0, 0, 17.154861, 0, 31.366522, 0, 26.767954, 0, 36.831886, 0], '120_min_horizon': [2.0747323, 54.75774, 0, 0, 0, 31.778736, 0, 0, 10.483818, 0, 0, 0, 0, 0, 0, 0, 0, 0, 0, 0, 18.137764, 0, 1.7218846, 0, 0, 0, 0, 0, 0, 0, 0, 0, 27.280516, 2.882207, 0, 0, 0, 0, 0, 0, 24.638145, 0, 11.457148, 0, 27.847809, 0, 23.60445, 0, 13.401592, 0, 0, 3.006847, 0, 0, 0, 0, 0, 3.7543359, 0, 0, 6.349956, 0, 0, 3.3731723, 49.92315, 15.768869, 18.595867, 0, 0, 22.220964, 7.6845627, 30.170143, 10.389264, 15.399967, 0, 37.76852, 0, 0, 0, 0, 37.707893, 0, 0, 0, 0, 39.204617, 0, 15.669741, 0, 0, 25.201797, 0, 18.714687, 0, 0, 24.026777, 0, 5.44089, 0, 21.107727, 18.40707, 0, 0, 6.5411453, 0, 0, 15.811504, 0, 0, 17.336561, 68.104355, 3.2394056, 1.9933225, 0, 0, 0, 29.515493, 0, 0, 32.5709, 32.797592, 0, 0, 12.661189, 0, 0, 25.913095, 61.66682, 13.386168, 11.253033, 0, 13.560144, 0, 61.379295, 0, 0, 16.48596, 0, 0, 0, 0, 0, 0, 0, 21.33228, 49.236732, 0, 24.046192, 0, 0, 0, 22.557337, 0, 27.232244, 0, 0, 0, 0, 0, 0, 13.14068, 23.919321, 11.602719, 0, 18.146498, 0, 47.0481, 0, 0, 0, 17.985123, 61.04222, 20.888397, 0, 0, 0, 0, 16.649973, 15.858234, 17.1316, 0, 0, 20.373043, 0, 0, 0, 0, 29.309483, 0, 0, 17.647123, 0, 4.331277, 0, 0, 7.3941708, 10.074438, 5.00404, 0, 21.601192, 10.355921, 0, 0.91887295, 8.667091, 0, 0, 35.871113, 0, 0, 9.456219, 0, 0, 0, 27.552485, 12.838657, 1.0232135, 0, 27.389189, 6.5411453, 10.134472, 28.888458, 3.409831, 26.87868, 36.246006, 0, 0, 0, 0, 0, 0, 0.45823205, 28.418592, 21.139997, 0, 9.087576, 26.951258, 22.567013, 0, 0, 0, 0, 0, 0, 13.867229, 50.88574, 7.9786367, 0, 8.070765, 7.8493805, 8.772985, 0, 0, 0, 0, 42.46271, 0, 34.598446, 0, 0, 0, 0, 0, 23.695164, 0, 0.39990056, 0, 0, 8.772985, 0, 0, 0, 0, 51.832157, 15.934906, 0, 0, 0, 0, 0, 0, 0, 0, 0, 31.740662, 0, 27.08277, 0, 0, 24.497168, 0, 0, 0, 14.573355, 0, 13.693478, 0, 20.561787, 0, 32.02145, 0]}\n"
          ]
        },
        {
          "output_type": "execute_result",
          "data": {
            "text/html": [
              "<div>\n",
              "<style scoped>\n",
              "    .dataframe tbody tr th:only-of-type {\n",
              "        vertical-align: middle;\n",
              "    }\n",
              "\n",
              "    .dataframe tbody tr th {\n",
              "        vertical-align: top;\n",
              "    }\n",
              "\n",
              "    .dataframe thead th {\n",
              "        text-align: right;\n",
              "    }\n",
              "</style>\n",
              "<table border=\"1\" class=\"dataframe\">\n",
              "  <thead>\n",
              "    <tr style=\"text-align: right;\">\n",
              "      <th></th>\n",
              "      <th>scenario_set</th>\n",
              "      <th>30_min_horizon</th>\n",
              "      <th>60_min_horizon</th>\n",
              "      <th>90_min_horizon</th>\n",
              "      <th>120_min_horizon</th>\n",
              "    </tr>\n",
              "  </thead>\n",
              "  <tbody>\n",
              "    <tr>\n",
              "      <th>177</th>\n",
              "      <td>1</td>\n",
              "      <td>20.837454</td>\n",
              "      <td>23.241791</td>\n",
              "      <td>20.675722</td>\n",
              "      <td>16.649973</td>\n",
              "    </tr>\n",
              "    <tr>\n",
              "      <th>203</th>\n",
              "      <td>2</td>\n",
              "      <td>13.280837</td>\n",
              "      <td>21.326683</td>\n",
              "      <td>13.902890</td>\n",
              "      <td>8.667091</td>\n",
              "    </tr>\n",
              "    <tr>\n",
              "      <th>71</th>\n",
              "      <td>3</td>\n",
              "      <td>40.884949</td>\n",
              "      <td>44.126629</td>\n",
              "      <td>35.155983</td>\n",
              "      <td>30.170143</td>\n",
              "    </tr>\n",
              "    <tr>\n",
              "      <th>60</th>\n",
              "      <td>4</td>\n",
              "      <td>10.565917</td>\n",
              "      <td>7.182386</td>\n",
              "      <td>5.371658</td>\n",
              "      <td>6.349956</td>\n",
              "    </tr>\n",
              "    <tr>\n",
              "      <th>21</th>\n",
              "      <td>5</td>\n",
              "      <td>0.000000</td>\n",
              "      <td>0.000000</td>\n",
              "      <td>0.000000</td>\n",
              "      <td>0.000000</td>\n",
              "    </tr>\n",
              "  </tbody>\n",
              "</table>\n",
              "</div>"
            ],
            "text/plain": [
              "     scenario_set  30_min_horizon  ...  90_min_horizon  120_min_horizon\n",
              "177             1       20.837454  ...       20.675722        16.649973\n",
              "203             2       13.280837  ...       13.902890         8.667091\n",
              "71              3       40.884949  ...       35.155983        30.170143\n",
              "60              4       10.565917  ...        5.371658         6.349956\n",
              "21              5        0.000000  ...        0.000000         0.000000\n",
              "\n",
              "[5 rows x 5 columns]"
            ]
          },
          "metadata": {},
          "execution_count": 145
        }
      ]
    },
    {
      "cell_type": "markdown",
      "metadata": {
        "id": "_443xPV0GKnq"
      },
      "source": [
        "### Convert to submission format and download"
      ]
    },
    {
      "cell_type": "code",
      "metadata": {
        "colab": {
          "base_uri": "https://localhost:8080/",
          "height": 17
        },
        "id": "_qu___mArLj4",
        "outputId": "b11fce13-b565-4e25-b17f-c849ec8d92d0"
      },
      "source": [
        "from google.colab import files\n",
        "output_df.to_csv('submission_cloudcover.csv', index=False)\n",
        "files.download('submission_cloudcover.csv')"
      ],
      "execution_count": 146,
      "outputs": [
        {
          "output_type": "display_data",
          "data": {
            "application/javascript": [
              "\n",
              "    async function download(id, filename, size) {\n",
              "      if (!google.colab.kernel.accessAllowed) {\n",
              "        return;\n",
              "      }\n",
              "      const div = document.createElement('div');\n",
              "      const label = document.createElement('label');\n",
              "      label.textContent = `Downloading \"${filename}\": `;\n",
              "      div.appendChild(label);\n",
              "      const progress = document.createElement('progress');\n",
              "      progress.max = size;\n",
              "      div.appendChild(progress);\n",
              "      document.body.appendChild(div);\n",
              "\n",
              "      const buffers = [];\n",
              "      let downloaded = 0;\n",
              "\n",
              "      const channel = await google.colab.kernel.comms.open(id);\n",
              "      // Send a message to notify the kernel that we're ready.\n",
              "      channel.send({})\n",
              "\n",
              "      for await (const message of channel.messages) {\n",
              "        // Send a message to notify the kernel that we're ready.\n",
              "        channel.send({})\n",
              "        if (message.buffers) {\n",
              "          for (const buffer of message.buffers) {\n",
              "            buffers.push(buffer);\n",
              "            downloaded += buffer.byteLength;\n",
              "            progress.value = downloaded;\n",
              "          }\n",
              "        }\n",
              "      }\n",
              "      const blob = new Blob(buffers, {type: 'application/binary'});\n",
              "      const a = document.createElement('a');\n",
              "      a.href = window.URL.createObjectURL(blob);\n",
              "      a.download = filename;\n",
              "      div.appendChild(a);\n",
              "      a.click();\n",
              "      div.remove();\n",
              "    }\n",
              "  "
            ],
            "text/plain": [
              "<IPython.core.display.Javascript object>"
            ]
          },
          "metadata": {}
        },
        {
          "output_type": "display_data",
          "data": {
            "application/javascript": [
              "download(\"download_d6b604a0-6c0d-4205-8700-3ad391eca68d\", \"submission_cloudcover.csv\", 12997)"
            ],
            "text/plain": [
              "<IPython.core.display.Javascript object>"
            ]
          },
          "metadata": {}
        }
      ]
    }
  ]
}